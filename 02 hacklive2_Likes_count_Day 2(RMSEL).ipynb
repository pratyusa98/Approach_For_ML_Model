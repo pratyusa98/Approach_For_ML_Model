{
  "nbformat": 4,
  "nbformat_minor": 0,
  "metadata": {
    "colab": {
      "name": "hacklive2_Day2.ipynb",
      "provenance": [],
      "collapsed_sections": [
        "pfYCDeHLxeJ-"
      ]
    },
    "kernelspec": {
      "name": "python3",
      "display_name": "Python 3"
    }
  },
  "cells": [
    {
      "cell_type": "code",
      "metadata": {
        "id": "ErHLuwkxcajL",
        "outputId": "4b9cb2ee-bd9f-4b65-8490-c77f892589b5",
        "colab": {
          "resources": {
            "http://localhost:8080/nbextensions/google.colab/files.js": {
              "data": "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",
              "ok": true,
              "headers": [
                [
                  "content-type",
                  "application/javascript"
                ]
              ],
              "status": 200,
              "status_text": ""
            }
          },
          "base_uri": "https://localhost:8080/",
          "height": 72
        }
      },
      "source": [
        "from google.colab import files\n",
        "files.upload()\n"
      ],
      "execution_count": null,
      "outputs": [
        {
          "output_type": "display_data",
          "data": {
            "text/html": [
              "\n",
              "     <input type=\"file\" id=\"files-be3488d2-790e-4bab-8b14-66431b2e4ae4\" name=\"files[]\" multiple disabled\n",
              "        style=\"border:none\" />\n",
              "     <output id=\"result-be3488d2-790e-4bab-8b14-66431b2e4ae4\">\n",
              "      Upload widget is only available when the cell has been executed in the\n",
              "      current browser session. Please rerun this cell to enable.\n",
              "      </output>\n",
              "      <script src=\"/nbextensions/google.colab/files.js\"></script> "
            ],
            "text/plain": [
              "<IPython.core.display.HTML object>"
            ]
          },
          "metadata": {
            "tags": []
          }
        },
        {
          "output_type": "stream",
          "text": [
            "Saving hacklive2_dataset_complete.zip to hacklive2_dataset_complete.zip\n"
          ],
          "name": "stdout"
        }
      ]
    },
    {
      "cell_type": "code",
      "metadata": {
        "id": "hZeG6cy4dMvC",
        "outputId": "16f5d960-a184-4a87-8d1e-816f55e7013e",
        "colab": {
          "base_uri": "https://localhost:8080/",
          "height": 34
        }
      },
      "source": [
        "!unzip -q hacklive2_dataset_complete.zip\n",
        "!pip install -q --upgrade seaborn"
      ],
      "execution_count": null,
      "outputs": [
        {
          "output_type": "stream",
          "text": [
            "replace sample_submission_cxCGjdN.csv? [y]es, [n]o, [A]ll, [N]one, [r]ename: A\n"
          ],
          "name": "stdout"
        }
      ]
    },
    {
      "cell_type": "code",
      "metadata": {
        "id": "xeK7plr3cfAM"
      },
      "source": [
        "import numpy as np\n",
        "import pandas as pd\n",
        "import matplotlib.pyplot as plt\n",
        "%matplotlib inline\n",
        "plt.style.use('seaborn-whitegrid')\n",
        "\n",
        "import seaborn as sns\n",
        "from sklearn.model_selection import train_test_split, StratifiedKFold\n",
        "from sklearn.metrics import accuracy_score, f1_score\n",
        "from sklearn.model_selection import KFold\n",
        "\n",
        "from sklearn.tree import DecisionTreeRegressor\n",
        "from sklearn.ensemble import RandomForestRegressor\n",
        "from sklearn.preprocessing import StandardScaler\n",
        "\n",
        "from sklearn.linear_model import LinearRegression, ElasticNet\n",
        "\n",
        "from lightgbm import LGBMRegressor\n",
        "from catboost import CatBoostRegressor\n",
        "from xgboost import XGBRegressor\n",
        "\n",
        "from IPython.core.interactiveshell import InteractiveShell\n",
        "InteractiveShell.ast_node_interactivity = \"all\"\n",
        "\n",
        "import warnings\n",
        "warnings.simplefilter('ignore')"
      ],
      "execution_count": null,
      "outputs": []
    },
    {
      "cell_type": "code",
      "metadata": {
        "id": "97D6_CVwc3Mt"
      },
      "source": [
        "ss = pd.read_csv('sample_submission_cxCGjdN.csv')\n",
        "train = pd.read_csv('train.csv')\n",
        "test = pd.read_csv('test.csv')"
      ],
      "execution_count": null,
      "outputs": []
    },
    {
      "cell_type": "code",
      "metadata": {
        "id": "W-UGqOi-ddbp"
      },
      "source": [
        "ID_COL, TARGET_COL = 'video_id', 'likes'\n",
        "\n",
        "num_cols = ['views', 'dislikes', 'comment_count']\n",
        "cat_cols = ['category_id', 'country_code']\n",
        "text_cols = ['title', 'channel_title', 'tags', 'description']\n",
        "date_cols = ['publish_date']"
      ],
      "execution_count": null,
      "outputs": []
    },
    {
      "cell_type": "code",
      "metadata": {
        "id": "Y4G3wgjZqbvx"
      },
      "source": [
        "def download_preds(preds_test, file_name = 'hacklive_sub.csv'):\n",
        "\n",
        "  ## 1. Setting the target column with our obtained predictions\n",
        "  ss[TARGET_COL] = preds_test\n",
        "\n",
        "  ## 2. Saving our predictions to a csv file\n",
        "\n",
        "  ss.to_csv(file_name, index = False)\n",
        "\n",
        "  ## 3. Downloading and submitting the csv file\n",
        "  from google.colab import files\n",
        "  files.download(file_name)"
      ],
      "execution_count": null,
      "outputs": []
    },
    {
      "cell_type": "markdown",
      "metadata": {
        "id": "tiTCYZJRpOZC"
      },
      "source": [
        "**Steps to Make a Baseline Regression Model**\n",
        "\n",
        "1. Concatenate/Join the train and test Datasets. All kinds of processing must be performed on both train and test datasets together.\n",
        "\n",
        "2. Convert all Categorical Variables to numbers. We will be use OneHot Encoding for this. \n",
        "\n",
        "3. Fill Null Values. This can be followed by other data processing and feature engineering steps, but we will go into it later.\n",
        "\n",
        "4. Split the dataset back into train and test datasets.\n",
        "\n",
        "5. Split the train set into train and validation sets.\n",
        "\n",
        "6. Fit a regression Model on train, check its results on validation set.\n",
        "\n",
        "7. Predict for the test set.\n",
        "\n",
        "8.  Save the submission as a csv file and submit the model on AV."
      ]
    },
    {
      "cell_type": "markdown",
      "metadata": {
        "id": "ynwnZQ2-pR_j"
      },
      "source": [
        "**1. Concating/Joining train and test datasets.**\n"
      ]
    },
    {
      "cell_type": "code",
      "metadata": {
        "id": "wwMcVYKAU_Jc",
        "outputId": "573324cb-48f8-4165-addf-6c4a3bc5369a",
        "colab": {
          "base_uri": "https://localhost:8080/",
          "height": 34
        }
      },
      "source": [
        "train.shape, test.shape"
      ],
      "execution_count": null,
      "outputs": [
        {
          "output_type": "execute_result",
          "data": {
            "text/plain": [
              "((26061, 12), (11170, 11))"
            ]
          },
          "metadata": {
            "tags": []
          },
          "execution_count": 110
        }
      ]
    },
    {
      "cell_type": "code",
      "metadata": {
        "id": "rKWTNBY4pWlm",
        "outputId": "3cc20754-bc6a-430a-a795-0dda3485209b",
        "colab": {
          "base_uri": "https://localhost:8080/",
          "height": 34
        }
      },
      "source": [
        "df = pd.concat([train, test], axis=0).reset_index(drop = True)\n",
        "df.shape"
      ],
      "execution_count": null,
      "outputs": [
        {
          "output_type": "execute_result",
          "data": {
            "text/plain": [
              "(37231, 12)"
            ]
          },
          "metadata": {
            "tags": []
          },
          "execution_count": 111
        }
      ]
    },
    {
      "cell_type": "code",
      "metadata": {
        "id": "c3U7P_5hVItP",
        "outputId": "992e9e74-8965-49ab-ccc8-ece0033bb71d",
        "colab": {
          "base_uri": "https://localhost:8080/",
          "height": 557
        }
      },
      "source": [
        "df.head()"
      ],
      "execution_count": null,
      "outputs": [
        {
          "output_type": "execute_result",
          "data": {
            "text/html": [
              "<div>\n",
              "<style scoped>\n",
              "    .dataframe tbody tr th:only-of-type {\n",
              "        vertical-align: middle;\n",
              "    }\n",
              "\n",
              "    .dataframe tbody tr th {\n",
              "        vertical-align: top;\n",
              "    }\n",
              "\n",
              "    .dataframe thead th {\n",
              "        text-align: right;\n",
              "    }\n",
              "</style>\n",
              "<table border=\"1\" class=\"dataframe\">\n",
              "  <thead>\n",
              "    <tr style=\"text-align: right;\">\n",
              "      <th></th>\n",
              "      <th>video_id</th>\n",
              "      <th>title</th>\n",
              "      <th>channel_title</th>\n",
              "      <th>category_id</th>\n",
              "      <th>publish_date</th>\n",
              "      <th>tags</th>\n",
              "      <th>views</th>\n",
              "      <th>dislikes</th>\n",
              "      <th>comment_count</th>\n",
              "      <th>description</th>\n",
              "      <th>country_code</th>\n",
              "      <th>likes</th>\n",
              "    </tr>\n",
              "  </thead>\n",
              "  <tbody>\n",
              "    <tr>\n",
              "      <th>0</th>\n",
              "      <td>53364</td>\n",
              "      <td>Alif Allah Aur Insaan Episode 34 HUM TV Drama ...</td>\n",
              "      <td>HUM TV</td>\n",
              "      <td>24.0</td>\n",
              "      <td>2017-12-12</td>\n",
              "      <td>HUM|\"TV\"|\"Alif Allah Aur Insaan\"|\"Episode 34\"|...</td>\n",
              "      <td>351430.0</td>\n",
              "      <td>298.0</td>\n",
              "      <td>900.0</td>\n",
              "      <td>Alif Allah Aur Insaan Episode 34 Full - 12 Dec...</td>\n",
              "      <td>CA</td>\n",
              "      <td>2351.0</td>\n",
              "    </tr>\n",
              "    <tr>\n",
              "      <th>1</th>\n",
              "      <td>51040</td>\n",
              "      <td>It's Showtime Miss Q &amp; A: Bela gets jealous of...</td>\n",
              "      <td>ABS-CBN Entertainment</td>\n",
              "      <td>24.0</td>\n",
              "      <td>2018-03-08</td>\n",
              "      <td>ABS-CBN Entertainment|\"ABS-CBN\"|\"ABS-CBN Onlin...</td>\n",
              "      <td>461508.0</td>\n",
              "      <td>74.0</td>\n",
              "      <td>314.0</td>\n",
              "      <td>Vice Ganda notices Bela Padilla's sudden chang...</td>\n",
              "      <td>CA</td>\n",
              "      <td>3264.0</td>\n",
              "    </tr>\n",
              "    <tr>\n",
              "      <th>2</th>\n",
              "      <td>1856</td>\n",
              "      <td>ದರ್ಶನ್ ಗೆ ಬಾರಿ ಅವಮಾನ ಮಾಡಿದ ಶಿವಣ್ಣ ನಾಯಕಿ \\n  ಕ್...</td>\n",
              "      <td>SANDALWOOD REVIEWS</td>\n",
              "      <td>24.0</td>\n",
              "      <td>2018-03-26</td>\n",
              "      <td>challenging star darshan latest news|\"challeng...</td>\n",
              "      <td>40205.0</td>\n",
              "      <td>150.0</td>\n",
              "      <td>100.0</td>\n",
              "      <td>ದರ್ಶನ್ ಗೆ ಬಾರಿ ಅವಮಾನ ಮಾಡಿದ ಶಿವಣ್ಣ ನಾಯಕಿ    ಕ್ಲ...</td>\n",
              "      <td>IN</td>\n",
              "      <td>580.0</td>\n",
              "    </tr>\n",
              "    <tr>\n",
              "      <th>3</th>\n",
              "      <td>22618</td>\n",
              "      <td>Havana - swing cover | dodie feat. FLASHBACK</td>\n",
              "      <td>doddleoddle</td>\n",
              "      <td>10.0</td>\n",
              "      <td>2018-02-21</td>\n",
              "      <td>havana|\"cover\"|\"a capella\"|\"swing\"|\"dodie\"|\"fl...</td>\n",
              "      <td>509726.0</td>\n",
              "      <td>847.0</td>\n",
              "      <td>4536.0</td>\n",
              "      <td>Hi hi hi! here's our vid on FLASHBACK's channe...</td>\n",
              "      <td>GB</td>\n",
              "      <td>82773.0</td>\n",
              "    </tr>\n",
              "    <tr>\n",
              "      <th>4</th>\n",
              "      <td>74074</td>\n",
              "      <td>MUMMY NE NI KEHTA - 2  FT. 102 NOT OUT| DUDE S...</td>\n",
              "      <td>Dude Seriously</td>\n",
              "      <td>23.0</td>\n",
              "      <td>2018-05-10</td>\n",
              "      <td>dude|\"seriously\"|\"friends\"|\"fun\"|\"gujarati\"|\"h...</td>\n",
              "      <td>74311.0</td>\n",
              "      <td>69.0</td>\n",
              "      <td>161.0</td>\n",
              "      <td>BOOK YOUR TICKETS HERE:  https://goo.gl/QxdSyg...</td>\n",
              "      <td>IN</td>\n",
              "      <td>3557.0</td>\n",
              "    </tr>\n",
              "  </tbody>\n",
              "</table>\n",
              "</div>"
            ],
            "text/plain": [
              "   video_id  ...    likes\n",
              "0     53364  ...   2351.0\n",
              "1     51040  ...   3264.0\n",
              "2      1856  ...    580.0\n",
              "3     22618  ...  82773.0\n",
              "4     74074  ...   3557.0\n",
              "\n",
              "[5 rows x 12 columns]"
            ]
          },
          "metadata": {
            "tags": []
          },
          "execution_count": 12
        }
      ]
    },
    {
      "cell_type": "markdown",
      "metadata": {
        "id": "ffu_OMaLpaVd"
      },
      "source": [
        "\n",
        "**2. Encoding categorical columns.**\n",
        "\n",
        "There are multiple ways to encoded categorical variables. For the sake of simplicity, we will be using One-Hot Encoding."
      ]
    },
    {
      "cell_type": "code",
      "metadata": {
        "id": "rXTw1Cc-NMD-",
        "outputId": "8a67b3b4-c802-4055-aa21-317896da0af4",
        "colab": {
          "base_uri": "https://localhost:8080/",
          "height": 140
        }
      },
      "source": [
        "pd.get_dummies(pd.Series(['A', 'O', 'M']))"
      ],
      "execution_count": null,
      "outputs": [
        {
          "output_type": "execute_result",
          "data": {
            "text/html": [
              "<div>\n",
              "<style scoped>\n",
              "    .dataframe tbody tr th:only-of-type {\n",
              "        vertical-align: middle;\n",
              "    }\n",
              "\n",
              "    .dataframe tbody tr th {\n",
              "        vertical-align: top;\n",
              "    }\n",
              "\n",
              "    .dataframe thead th {\n",
              "        text-align: right;\n",
              "    }\n",
              "</style>\n",
              "<table border=\"1\" class=\"dataframe\">\n",
              "  <thead>\n",
              "    <tr style=\"text-align: right;\">\n",
              "      <th></th>\n",
              "      <th>A</th>\n",
              "      <th>M</th>\n",
              "      <th>O</th>\n",
              "    </tr>\n",
              "  </thead>\n",
              "  <tbody>\n",
              "    <tr>\n",
              "      <th>0</th>\n",
              "      <td>1</td>\n",
              "      <td>0</td>\n",
              "      <td>0</td>\n",
              "    </tr>\n",
              "    <tr>\n",
              "      <th>1</th>\n",
              "      <td>0</td>\n",
              "      <td>0</td>\n",
              "      <td>1</td>\n",
              "    </tr>\n",
              "    <tr>\n",
              "      <th>2</th>\n",
              "      <td>0</td>\n",
              "      <td>1</td>\n",
              "      <td>0</td>\n",
              "    </tr>\n",
              "  </tbody>\n",
              "</table>\n",
              "</div>"
            ],
            "text/plain": [
              "   A  M  O\n",
              "0  1  0  0\n",
              "1  0  0  1\n",
              "2  0  1  0"
            ]
          },
          "metadata": {
            "tags": []
          },
          "execution_count": 112
        }
      ]
    },
    {
      "cell_type": "code",
      "metadata": {
        "id": "MvyJaSJEpbTv"
      },
      "source": [
        "df = pd.get_dummies(df, columns = cat_cols)"
      ],
      "execution_count": null,
      "outputs": []
    },
    {
      "cell_type": "code",
      "metadata": {
        "id": "hissLgoYNbFV",
        "outputId": "432de29d-de21-4c9c-df85-589ffa075e35",
        "colab": {
          "base_uri": "https://localhost:8080/",
          "height": 331
        }
      },
      "source": [
        "df.head(2)"
      ],
      "execution_count": null,
      "outputs": [
        {
          "output_type": "execute_result",
          "data": {
            "text/html": [
              "<div>\n",
              "<style scoped>\n",
              "    .dataframe tbody tr th:only-of-type {\n",
              "        vertical-align: middle;\n",
              "    }\n",
              "\n",
              "    .dataframe tbody tr th {\n",
              "        vertical-align: top;\n",
              "    }\n",
              "\n",
              "    .dataframe thead th {\n",
              "        text-align: right;\n",
              "    }\n",
              "</style>\n",
              "<table border=\"1\" class=\"dataframe\">\n",
              "  <thead>\n",
              "    <tr style=\"text-align: right;\">\n",
              "      <th></th>\n",
              "      <th>video_id</th>\n",
              "      <th>title</th>\n",
              "      <th>channel_title</th>\n",
              "      <th>publish_date</th>\n",
              "      <th>tags</th>\n",
              "      <th>views</th>\n",
              "      <th>dislikes</th>\n",
              "      <th>comment_count</th>\n",
              "      <th>description</th>\n",
              "      <th>likes</th>\n",
              "      <th>category_id_1.0</th>\n",
              "      <th>category_id_2.0</th>\n",
              "      <th>category_id_10.0</th>\n",
              "      <th>category_id_15.0</th>\n",
              "      <th>category_id_17.0</th>\n",
              "      <th>category_id_19.0</th>\n",
              "      <th>category_id_20.0</th>\n",
              "      <th>category_id_22.0</th>\n",
              "      <th>category_id_23.0</th>\n",
              "      <th>category_id_24.0</th>\n",
              "      <th>category_id_25.0</th>\n",
              "      <th>category_id_26.0</th>\n",
              "      <th>category_id_27.0</th>\n",
              "      <th>category_id_28.0</th>\n",
              "      <th>category_id_29.0</th>\n",
              "      <th>category_id_30.0</th>\n",
              "      <th>category_id_43.0</th>\n",
              "      <th>country_code_CA</th>\n",
              "      <th>country_code_GB</th>\n",
              "      <th>country_code_IN</th>\n",
              "      <th>country_code_US</th>\n",
              "    </tr>\n",
              "  </thead>\n",
              "  <tbody>\n",
              "    <tr>\n",
              "      <th>0</th>\n",
              "      <td>53364</td>\n",
              "      <td>Alif Allah Aur Insaan Episode 34 HUM TV Drama ...</td>\n",
              "      <td>HUM TV</td>\n",
              "      <td>2017-12-12</td>\n",
              "      <td>HUM|\"TV\"|\"Alif Allah Aur Insaan\"|\"Episode 34\"|...</td>\n",
              "      <td>351430.0</td>\n",
              "      <td>298.0</td>\n",
              "      <td>900.0</td>\n",
              "      <td>Alif Allah Aur Insaan Episode 34 Full - 12 Dec...</td>\n",
              "      <td>2351.0</td>\n",
              "      <td>0</td>\n",
              "      <td>0</td>\n",
              "      <td>0</td>\n",
              "      <td>0</td>\n",
              "      <td>0</td>\n",
              "      <td>0</td>\n",
              "      <td>0</td>\n",
              "      <td>0</td>\n",
              "      <td>0</td>\n",
              "      <td>1</td>\n",
              "      <td>0</td>\n",
              "      <td>0</td>\n",
              "      <td>0</td>\n",
              "      <td>0</td>\n",
              "      <td>0</td>\n",
              "      <td>0</td>\n",
              "      <td>0</td>\n",
              "      <td>1</td>\n",
              "      <td>0</td>\n",
              "      <td>0</td>\n",
              "      <td>0</td>\n",
              "    </tr>\n",
              "    <tr>\n",
              "      <th>1</th>\n",
              "      <td>51040</td>\n",
              "      <td>It's Showtime Miss Q &amp; A: Bela gets jealous of...</td>\n",
              "      <td>ABS-CBN Entertainment</td>\n",
              "      <td>2018-03-08</td>\n",
              "      <td>ABS-CBN Entertainment|\"ABS-CBN\"|\"ABS-CBN Onlin...</td>\n",
              "      <td>461508.0</td>\n",
              "      <td>74.0</td>\n",
              "      <td>314.0</td>\n",
              "      <td>Vice Ganda notices Bela Padilla's sudden chang...</td>\n",
              "      <td>3264.0</td>\n",
              "      <td>0</td>\n",
              "      <td>0</td>\n",
              "      <td>0</td>\n",
              "      <td>0</td>\n",
              "      <td>0</td>\n",
              "      <td>0</td>\n",
              "      <td>0</td>\n",
              "      <td>0</td>\n",
              "      <td>0</td>\n",
              "      <td>1</td>\n",
              "      <td>0</td>\n",
              "      <td>0</td>\n",
              "      <td>0</td>\n",
              "      <td>0</td>\n",
              "      <td>0</td>\n",
              "      <td>0</td>\n",
              "      <td>0</td>\n",
              "      <td>1</td>\n",
              "      <td>0</td>\n",
              "      <td>0</td>\n",
              "      <td>0</td>\n",
              "    </tr>\n",
              "  </tbody>\n",
              "</table>\n",
              "</div>"
            ],
            "text/plain": [
              "   video_id  ... country_code_US\n",
              "0     53364  ...               0\n",
              "1     51040  ...               0\n",
              "\n",
              "[2 rows x 31 columns]"
            ]
          },
          "metadata": {
            "tags": []
          },
          "execution_count": 114
        }
      ]
    },
    {
      "cell_type": "markdown",
      "metadata": {
        "id": "IdR78RyApu2V"
      },
      "source": [
        "**3. Filling Null Values**\n",
        "\n",
        "As seen earlier in our EDA, our dataset contains null values. There could be multiple ways to fill our Null Values, but for now we will fill it with a large negative random number say -999"
      ]
    },
    {
      "cell_type": "code",
      "metadata": {
        "id": "1pNCJ3D0pw1v",
        "outputId": "25ec09d6-c0df-4fa2-ce22-1e58b300c120",
        "colab": {
          "base_uri": "https://localhost:8080/",
          "height": 34
        }
      },
      "source": [
        "df = df.fillna(-999)\n",
        "df.isnull().sum().sum()"
      ],
      "execution_count": null,
      "outputs": [
        {
          "output_type": "execute_result",
          "data": {
            "text/plain": [
              "0"
            ]
          },
          "metadata": {
            "tags": []
          },
          "execution_count": 14
        }
      ]
    },
    {
      "cell_type": "code",
      "metadata": {
        "id": "lKTxlP-Qe_zK"
      },
      "source": [
        "df[num_cols + ['likes']] = df[num_cols + ['likes']].apply(lambda x: np.log1p(x))"
      ],
      "execution_count": null,
      "outputs": []
    },
    {
      "cell_type": "code",
      "metadata": {
        "id": "bU107K_TNx9Y",
        "outputId": "d39d9c47-ab70-44b7-be5d-e504e15d7561",
        "colab": {
          "base_uri": "https://localhost:8080/",
          "height": 226
        }
      },
      "source": [
        "df['likes']"
      ],
      "execution_count": null,
      "outputs": [
        {
          "output_type": "execute_result",
          "data": {
            "text/plain": [
              "0         7.763021\n",
              "1         8.091015\n",
              "2         6.364751\n",
              "3        11.323869\n",
              "4         8.176954\n",
              "           ...    \n",
              "37226          NaN\n",
              "37227          NaN\n",
              "37228          NaN\n",
              "37229          NaN\n",
              "37230          NaN\n",
              "Name: likes, Length: 37231, dtype: float64"
            ]
          },
          "metadata": {
            "tags": []
          },
          "execution_count": 116
        }
      ]
    },
    {
      "cell_type": "markdown",
      "metadata": {
        "id": "P5pNqBQopyFm"
      },
      "source": [
        "**4. Split the processed dataset back into train and test datasets.**\n",
        "\n",
        "The first train.shape[0] of df are rows that belong to train and the rest are those that belong to test"
      ]
    },
    {
      "cell_type": "code",
      "metadata": {
        "id": "CL-1-uYapz_s"
      },
      "source": [
        "train_proc, test_proc = df[:train.shape[0]], df[train.shape[0]:].reset_index(drop = True)\n",
        "features = [c for c in train_proc.columns if c not in [ID_COL, TARGET_COL]]"
      ],
      "execution_count": null,
      "outputs": []
    },
    {
      "cell_type": "markdown",
      "metadata": {
        "id": "_URxADdVp1yr"
      },
      "source": [
        "**5. Split the train set into train and validation sets.**\n",
        "\n",
        "We will use 80-20 split with 80% of the rows belonging to training data. Stratified Sampling is necessary, since the dataset is highly imbalanced. Stratified sampling ensures that the minority class is distributed proportionally among the two classes."
      ]
    },
    {
      "cell_type": "code",
      "metadata": {
        "id": "lALwWUTjp3vB"
      },
      "source": [
        "trn, val = train_test_split(train_proc, test_size=0.2, random_state = 1)\n",
        "\n",
        "###### Input to our model will be the features\n",
        "X_trn, X_val = trn[features], val[features]\n",
        "\n",
        "###### Output of our model will be the TARGET_COL\n",
        "y_trn, y_val = trn[TARGET_COL], val[TARGET_COL]\n",
        "\n",
        "##### Features for the test data that we will be predicting\n",
        "X_test = test_proc[features]"
      ],
      "execution_count": null,
      "outputs": []
    },
    {
      "cell_type": "markdown",
      "metadata": {
        "id": "1nIEVaN-p5k_"
      },
      "source": [
        "**6. Fit a regression Model on train, check its results on validation set.**"
      ]
    },
    {
      "cell_type": "code",
      "metadata": {
        "id": "WjGvgU6XgNV6"
      },
      "source": [
        "\n",
        "from sklearn.metrics import mean_squared_error, mean_squared_log_error\n",
        "\n",
        "def rmsle(y_true, y_pred):\n",
        "  return np.sqrt(mean_squared_log_error(y_true, y_pred))\n",
        "\n",
        "def av_metric(y_true, y_pred):\n",
        "  return 1000 * np.sqrt(mean_squared_error(y_true, y_pred))"
      ],
      "execution_count": null,
      "outputs": []
    },
    {
      "cell_type": "markdown",
      "metadata": {
        "id": "f556A41efxx_"
      },
      "source": [
        "**Only Numerical Columns**"
      ]
    },
    {
      "cell_type": "code",
      "metadata": {
        "id": "Vzz2zg5xfwsD",
        "outputId": "a8a26627-9de5-486b-b8de-a6f5d3032da0",
        "colab": {
          "base_uri": "https://localhost:8080/",
          "height": 34
        }
      },
      "source": [
        "clf = LinearRegression()\n",
        "\n",
        "_ = clf.fit(X_trn[num_cols], y_trn)\n",
        "\n",
        "preds_val = clf.predict(X_val[num_cols])\n",
        "\n",
        "av_metric_score = av_metric(y_val, preds_val)\n",
        "\n",
        "print(f'AV metric score is: {av_metric_score}')"
      ],
      "execution_count": null,
      "outputs": [
        {
          "output_type": "stream",
          "text": [
            "AV metric score is: 949.5701548787257\n"
          ],
          "name": "stdout"
        }
      ]
    },
    {
      "cell_type": "code",
      "metadata": {
        "id": "RqJW484BO7c6",
        "outputId": "99a729f1-52c4-49dc-b623-41905afbc049",
        "colab": {
          "base_uri": "https://localhost:8080/",
          "height": 17
        }
      },
      "source": [
        "preds_test = clf.predict(X_test[num_cols])\n",
        "\n",
        "preds_test = np.expm1(preds_test)\n",
        "\n",
        "download_preds(preds_test, 'lr.csv')"
      ],
      "execution_count": null,
      "outputs": [
        {
          "output_type": "display_data",
          "data": {
            "application/javascript": [
              "\n",
              "    async function download(id, filename, size) {\n",
              "      if (!google.colab.kernel.accessAllowed) {\n",
              "        return;\n",
              "      }\n",
              "      const div = document.createElement('div');\n",
              "      const label = document.createElement('label');\n",
              "      label.textContent = `Downloading \"${filename}\": `;\n",
              "      div.appendChild(label);\n",
              "      const progress = document.createElement('progress');\n",
              "      progress.max = size;\n",
              "      div.appendChild(progress);\n",
              "      document.body.appendChild(div);\n",
              "\n",
              "      const buffers = [];\n",
              "      let downloaded = 0;\n",
              "\n",
              "      const channel = await google.colab.kernel.comms.open(id);\n",
              "      // Send a message to notify the kernel that we're ready.\n",
              "      channel.send({})\n",
              "\n",
              "      for await (const message of channel.messages) {\n",
              "        // Send a message to notify the kernel that we're ready.\n",
              "        channel.send({})\n",
              "        if (message.buffers) {\n",
              "          for (const buffer of message.buffers) {\n",
              "            buffers.push(buffer);\n",
              "            downloaded += buffer.byteLength;\n",
              "            progress.value = downloaded;\n",
              "          }\n",
              "        }\n",
              "      }\n",
              "      const blob = new Blob(buffers, {type: 'application/binary'});\n",
              "      const a = document.createElement('a');\n",
              "      a.href = window.URL.createObjectURL(blob);\n",
              "      a.download = filename;\n",
              "      div.appendChild(a);\n",
              "      a.click();\n",
              "      div.remove();\n",
              "    }\n",
              "  "
            ],
            "text/plain": [
              "<IPython.core.display.Javascript object>"
            ]
          },
          "metadata": {
            "tags": []
          }
        },
        {
          "output_type": "display_data",
          "data": {
            "application/javascript": [
              "download(\"download_e81ed3ce-346d-44f4-b77e-eec3c34f0dcc\", \"lr.csv\", 270749)"
            ],
            "text/plain": [
              "<IPython.core.display.Javascript object>"
            ]
          },
          "metadata": {
            "tags": []
          }
        }
      ]
    },
    {
      "cell_type": "code",
      "metadata": {
        "id": "jpo_1zXRPGfd",
        "outputId": "f6f4b2d6-b047-4496-8c08-dd3f5eea0de9",
        "colab": {
          "base_uri": "https://localhost:8080/",
          "height": 415
        }
      },
      "source": [
        "pd.read_csv('lr.csv')"
      ],
      "execution_count": null,
      "outputs": [
        {
          "output_type": "execute_result",
          "data": {
            "text/html": [
              "<div>\n",
              "<style scoped>\n",
              "    .dataframe tbody tr th:only-of-type {\n",
              "        vertical-align: middle;\n",
              "    }\n",
              "\n",
              "    .dataframe tbody tr th {\n",
              "        vertical-align: top;\n",
              "    }\n",
              "\n",
              "    .dataframe thead th {\n",
              "        text-align: right;\n",
              "    }\n",
              "</style>\n",
              "<table border=\"1\" class=\"dataframe\">\n",
              "  <thead>\n",
              "    <tr style=\"text-align: right;\">\n",
              "      <th></th>\n",
              "      <th>video_id</th>\n",
              "      <th>likes</th>\n",
              "    </tr>\n",
              "  </thead>\n",
              "  <tbody>\n",
              "    <tr>\n",
              "      <th>0</th>\n",
              "      <td>87185</td>\n",
              "      <td>699.336920</td>\n",
              "    </tr>\n",
              "    <tr>\n",
              "      <th>1</th>\n",
              "      <td>9431</td>\n",
              "      <td>2703.969243</td>\n",
              "    </tr>\n",
              "    <tr>\n",
              "      <th>2</th>\n",
              "      <td>40599</td>\n",
              "      <td>61.167703</td>\n",
              "    </tr>\n",
              "    <tr>\n",
              "      <th>3</th>\n",
              "      <td>494</td>\n",
              "      <td>2068.652873</td>\n",
              "    </tr>\n",
              "    <tr>\n",
              "      <th>4</th>\n",
              "      <td>73942</td>\n",
              "      <td>1616.879332</td>\n",
              "    </tr>\n",
              "    <tr>\n",
              "      <th>...</th>\n",
              "      <td>...</td>\n",
              "      <td>...</td>\n",
              "    </tr>\n",
              "    <tr>\n",
              "      <th>11165</th>\n",
              "      <td>19415</td>\n",
              "      <td>2124.039869</td>\n",
              "    </tr>\n",
              "    <tr>\n",
              "      <th>11166</th>\n",
              "      <td>25168</td>\n",
              "      <td>3706.544106</td>\n",
              "    </tr>\n",
              "    <tr>\n",
              "      <th>11167</th>\n",
              "      <td>80293</td>\n",
              "      <td>5354.955513</td>\n",
              "    </tr>\n",
              "    <tr>\n",
              "      <th>11168</th>\n",
              "      <td>80880</td>\n",
              "      <td>20543.033487</td>\n",
              "    </tr>\n",
              "    <tr>\n",
              "      <th>11169</th>\n",
              "      <td>6514</td>\n",
              "      <td>4509.509380</td>\n",
              "    </tr>\n",
              "  </tbody>\n",
              "</table>\n",
              "<p>11170 rows × 2 columns</p>\n",
              "</div>"
            ],
            "text/plain": [
              "       video_id         likes\n",
              "0         87185    699.336920\n",
              "1          9431   2703.969243\n",
              "2         40599     61.167703\n",
              "3           494   2068.652873\n",
              "4         73942   1616.879332\n",
              "...         ...           ...\n",
              "11165     19415   2124.039869\n",
              "11166     25168   3706.544106\n",
              "11167     80293   5354.955513\n",
              "11168     80880  20543.033487\n",
              "11169      6514   4509.509380\n",
              "\n",
              "[11170 rows x 2 columns]"
            ]
          },
          "metadata": {
            "tags": []
          },
          "execution_count": 123
        }
      ]
    },
    {
      "cell_type": "markdown",
      "metadata": {
        "id": "OWty5_N6gl6O"
      },
      "source": [
        "**Numerical Columns + Categorical Columns**"
      ]
    },
    {
      "cell_type": "code",
      "metadata": {
        "id": "Bfs_XM9ghCFD",
        "outputId": "f2ed7d60-da06-42be-ee67-76644bc00c45",
        "colab": {
          "base_uri": "https://localhost:8080/",
          "height": 191
        }
      },
      "source": [
        "X_trn.columns"
      ],
      "execution_count": null,
      "outputs": [
        {
          "output_type": "execute_result",
          "data": {
            "text/plain": [
              "Index(['title', 'channel_title', 'publish_date', 'tags', 'views', 'dislikes',\n",
              "       'comment_count', 'description', 'category_id_1.0', 'category_id_2.0',\n",
              "       'category_id_10.0', 'category_id_15.0', 'category_id_17.0',\n",
              "       'category_id_19.0', 'category_id_20.0', 'category_id_22.0',\n",
              "       'category_id_23.0', 'category_id_24.0', 'category_id_25.0',\n",
              "       'category_id_26.0', 'category_id_27.0', 'category_id_28.0',\n",
              "       'category_id_29.0', 'category_id_30.0', 'category_id_43.0',\n",
              "       'country_code_CA', 'country_code_GB', 'country_code_IN',\n",
              "       'country_code_US'],\n",
              "      dtype='object')"
            ]
          },
          "metadata": {
            "tags": []
          },
          "execution_count": 124
        }
      ]
    },
    {
      "cell_type": "code",
      "metadata": {
        "id": "nZxDwkBKhDkA"
      },
      "source": [
        "features = [c for c in X_trn.columns if c not in [ID_COL, TARGET_COL]]\n",
        "cat_num_cols = [c for c in features if c not in text_cols + date_cols]"
      ],
      "execution_count": null,
      "outputs": []
    },
    {
      "cell_type": "code",
      "metadata": {
        "id": "cbOp4X5ifstU",
        "outputId": "eb1eca91-ab30-4ed2-b707-fbba00eb3c38",
        "colab": {
          "base_uri": "https://localhost:8080/",
          "height": 34
        }
      },
      "source": [
        "clf = LinearRegression()\n",
        "\n",
        "_ = clf.fit(X_trn[cat_num_cols], y_trn)\n",
        "\n",
        "preds_val = clf.predict(X_val[cat_num_cols])\n",
        "\n",
        "av_metric_score = av_metric(y_val, preds_val)\n",
        "\n",
        "print(f'AV metric score is: {av_metric_score}')"
      ],
      "execution_count": null,
      "outputs": [
        {
          "output_type": "stream",
          "text": [
            "AV metric score is: 873.0627392234118\n"
          ],
          "name": "stdout"
        }
      ]
    },
    {
      "cell_type": "code",
      "metadata": {
        "id": "W08QHjSjJthL",
        "outputId": "f878dd28-c908-40b9-c3e3-e3be5964c0c2",
        "colab": {
          "base_uri": "https://localhost:8080/",
          "height": 17
        }
      },
      "source": [
        "preds_test = clf.predict(X_test[cat_num_cols])\n",
        "\n",
        "preds_test = np.expm1(preds_test)\n",
        "\n",
        "download_preds(preds_test, 'lr_num_cat.csv')"
      ],
      "execution_count": null,
      "outputs": [
        {
          "output_type": "display_data",
          "data": {
            "application/javascript": [
              "\n",
              "    async function download(id, filename, size) {\n",
              "      if (!google.colab.kernel.accessAllowed) {\n",
              "        return;\n",
              "      }\n",
              "      const div = document.createElement('div');\n",
              "      const label = document.createElement('label');\n",
              "      label.textContent = `Downloading \"${filename}\": `;\n",
              "      div.appendChild(label);\n",
              "      const progress = document.createElement('progress');\n",
              "      progress.max = size;\n",
              "      div.appendChild(progress);\n",
              "      document.body.appendChild(div);\n",
              "\n",
              "      const buffers = [];\n",
              "      let downloaded = 0;\n",
              "\n",
              "      const channel = await google.colab.kernel.comms.open(id);\n",
              "      // Send a message to notify the kernel that we're ready.\n",
              "      channel.send({})\n",
              "\n",
              "      for await (const message of channel.messages) {\n",
              "        // Send a message to notify the kernel that we're ready.\n",
              "        channel.send({})\n",
              "        if (message.buffers) {\n",
              "          for (const buffer of message.buffers) {\n",
              "            buffers.push(buffer);\n",
              "            downloaded += buffer.byteLength;\n",
              "            progress.value = downloaded;\n",
              "          }\n",
              "        }\n",
              "      }\n",
              "      const blob = new Blob(buffers, {type: 'application/binary'});\n",
              "      const a = document.createElement('a');\n",
              "      a.href = window.URL.createObjectURL(blob);\n",
              "      a.download = filename;\n",
              "      div.appendChild(a);\n",
              "      a.click();\n",
              "      div.remove();\n",
              "    }\n",
              "  "
            ],
            "text/plain": [
              "<IPython.core.display.Javascript object>"
            ]
          },
          "metadata": {
            "tags": []
          }
        },
        {
          "output_type": "display_data",
          "data": {
            "application/javascript": [
              "download(\"download_4219f053-eb28-4900-beb9-610ab328dd61\", \"lr_num_cat.csv\", 270687)"
            ],
            "text/plain": [
              "<IPython.core.display.Javascript object>"
            ]
          },
          "metadata": {
            "tags": []
          }
        }
      ]
    },
    {
      "cell_type": "code",
      "metadata": {
        "id": "eGTYrk0EJ_OG",
        "outputId": "ae387549-9737-4933-ac0c-f3d42f84cabc",
        "colab": {
          "base_uri": "https://localhost:8080/",
          "height": 415
        }
      },
      "source": [
        "pd.read_csv('lr_num_cat.csv')"
      ],
      "execution_count": null,
      "outputs": [
        {
          "output_type": "execute_result",
          "data": {
            "text/html": [
              "<div>\n",
              "<style scoped>\n",
              "    .dataframe tbody tr th:only-of-type {\n",
              "        vertical-align: middle;\n",
              "    }\n",
              "\n",
              "    .dataframe tbody tr th {\n",
              "        vertical-align: top;\n",
              "    }\n",
              "\n",
              "    .dataframe thead th {\n",
              "        text-align: right;\n",
              "    }\n",
              "</style>\n",
              "<table border=\"1\" class=\"dataframe\">\n",
              "  <thead>\n",
              "    <tr style=\"text-align: right;\">\n",
              "      <th></th>\n",
              "      <th>video_id</th>\n",
              "      <th>likes</th>\n",
              "    </tr>\n",
              "  </thead>\n",
              "  <tbody>\n",
              "    <tr>\n",
              "      <th>0</th>\n",
              "      <td>87185</td>\n",
              "      <td>619.274464</td>\n",
              "    </tr>\n",
              "    <tr>\n",
              "      <th>1</th>\n",
              "      <td>9431</td>\n",
              "      <td>2248.410381</td>\n",
              "    </tr>\n",
              "    <tr>\n",
              "      <th>2</th>\n",
              "      <td>40599</td>\n",
              "      <td>59.060247</td>\n",
              "    </tr>\n",
              "    <tr>\n",
              "      <th>3</th>\n",
              "      <td>494</td>\n",
              "      <td>3895.071896</td>\n",
              "    </tr>\n",
              "    <tr>\n",
              "      <th>4</th>\n",
              "      <td>73942</td>\n",
              "      <td>1438.234155</td>\n",
              "    </tr>\n",
              "    <tr>\n",
              "      <th>...</th>\n",
              "      <td>...</td>\n",
              "      <td>...</td>\n",
              "    </tr>\n",
              "    <tr>\n",
              "      <th>11165</th>\n",
              "      <td>19415</td>\n",
              "      <td>1878.938060</td>\n",
              "    </tr>\n",
              "    <tr>\n",
              "      <th>11166</th>\n",
              "      <td>25168</td>\n",
              "      <td>3850.642023</td>\n",
              "    </tr>\n",
              "    <tr>\n",
              "      <th>11167</th>\n",
              "      <td>80293</td>\n",
              "      <td>3957.385411</td>\n",
              "    </tr>\n",
              "    <tr>\n",
              "      <th>11168</th>\n",
              "      <td>80880</td>\n",
              "      <td>10859.721258</td>\n",
              "    </tr>\n",
              "    <tr>\n",
              "      <th>11169</th>\n",
              "      <td>6514</td>\n",
              "      <td>4071.970879</td>\n",
              "    </tr>\n",
              "  </tbody>\n",
              "</table>\n",
              "<p>11170 rows × 2 columns</p>\n",
              "</div>"
            ],
            "text/plain": [
              "       video_id         likes\n",
              "0         87185    619.274464\n",
              "1          9431   2248.410381\n",
              "2         40599     59.060247\n",
              "3           494   3895.071896\n",
              "4         73942   1438.234155\n",
              "...         ...           ...\n",
              "11165     19415   1878.938060\n",
              "11166     25168   3850.642023\n",
              "11167     80293   3957.385411\n",
              "11168     80880  10859.721258\n",
              "11169      6514   4071.970879\n",
              "\n",
              "[11170 rows x 2 columns]"
            ]
          },
          "metadata": {
            "tags": []
          },
          "execution_count": 128
        }
      ]
    },
    {
      "cell_type": "code",
      "metadata": {
        "id": "AxGYx-X4jN3U",
        "outputId": "58e18bcd-0659-4b27-bd3e-1729858e62a8",
        "colab": {
          "base_uri": "https://localhost:8080/",
          "height": 34
        }
      },
      "source": [
        "clf = DecisionTreeRegressor(random_state=2)\n",
        "\n",
        "_ = clf.fit(X_trn[cat_num_cols], y_trn)\n",
        "\n",
        "preds_val = clf.predict(X_val[cat_num_cols])\n",
        "\n",
        "av_metric_score = av_metric(y_val, preds_val)\n",
        "\n",
        "print(f'AV metric score is: {av_metric_score}')"
      ],
      "execution_count": null,
      "outputs": [
        {
          "output_type": "stream",
          "text": [
            "AV metric score is: 933.7445026402412\n"
          ],
          "name": "stdout"
        }
      ]
    },
    {
      "cell_type": "markdown",
      "metadata": {
        "id": "HFZ6ntFsxRzf"
      },
      "source": [
        "# **Hyperparameter Tuning**\n",
        "\n",
        "In our decision tree model earlier, we did not change any of the parameters that were input to our model. However hyper-parameters and their values vary from dataset to dataset, and their optimal values have a large impact on the performance of our model.\n",
        "\n",
        "To perform hyperparameter-tuning we specify a list of hyper-parameters to tune and their possible values.\n",
        "\n",
        "For example:\n",
        "```\n",
        "max_depth: [6, 9, 12, 15]\n",
        "learning_rate: [0.0001, 0.005, 0.01, 0.05]\n",
        "```\n",
        "\n",
        "etc."
      ]
    },
    {
      "cell_type": "markdown",
      "metadata": {
        "id": "pfYCDeHLxeJ-"
      },
      "source": [
        "## **1. Grid Search**\n",
        "\n",
        "In grid search we try all possible combinations from the values of hyperparameters provided, to find the optimal hyper-parameter combination. However as the number of hyperparameters and their possible values grows, doing a grid search becomes infeasible.\n",
        "\n",
        "Consider there are 5 hyperparameters to tune, and each of them 5 have different possible values.\n",
        "\n",
        "Then total possible combinations of hyperparameters will be:\n",
        "\n",
        "5 x 5 x 5 x 5 x 5 = 3125.\n",
        "\n",
        "So you will have to wait for your model to run 3125 times, before getting the optimal set of hyperparameters.\n",
        "\n",
        "If you still think you want to run it these many times, you are most welcome :)"
      ]
    },
    {
      "cell_type": "markdown",
      "metadata": {
        "id": "ZV78ROf-pV1P"
      },
      "source": [
        "\n",
        "# **2. Random Search**\n",
        "\n",
        "In random search we will run our model only a fixed number of times, say 10, and among these 10 runs we will return the best hyper-parameter combination. Yes, you are right, this may not be the optimal hyper-parameter combination. But, it saves much more time, so we will go for random search."
      ]
    },
    {
      "cell_type": "code",
      "metadata": {
        "id": "DI78pBrRjs4R",
        "outputId": "dccb33c0-b957-4844-d6b0-3175a2a81ca9",
        "colab": {
          "base_uri": "https://localhost:8080/",
          "height": 86
        }
      },
      "source": [
        "\n",
        "\n",
        "from sklearn.model_selection import RandomizedSearchCV\n",
        "\n",
        "hyperparam_combs = {\n",
        "    'max_depth': [4, 6, 8, 10, 12],\n",
        "    'min_samples_split': [2, 10, 20, 30, 40],\n",
        "    'max_features': [0.2, 0.4, 0.6, 0.8, 1],\n",
        "    'max_leaf_nodes': [8, 16, 32, 64, 128],\n",
        "}\n",
        "\n",
        "clf = RandomizedSearchCV(DecisionTreeRegressor(),\n",
        "                         hyperparam_combs,\n",
        "                         scoring='neg_root_mean_squared_error',\n",
        "                         random_state=1,\n",
        "                         n_iter=20)\n",
        "\n",
        "search = clf.fit(train_proc[cat_num_cols], train_proc[TARGET_COL])\n",
        "\n",
        "search.best_params_"
      ],
      "execution_count": null,
      "outputs": [
        {
          "output_type": "execute_result",
          "data": {
            "text/plain": [
              "{'max_depth': 12,\n",
              " 'max_features': 0.8,\n",
              " 'max_leaf_nodes': 128,\n",
              " 'min_samples_split': 2}"
            ]
          },
          "metadata": {
            "tags": []
          },
          "execution_count": 130
        }
      ]
    },
    {
      "cell_type": "code",
      "metadata": {
        "id": "adHGolSmkfBm",
        "outputId": "46ef65ad-241b-4449-bb6d-5005b4000303",
        "colab": {
          "base_uri": "https://localhost:8080/",
          "height": 34
        }
      },
      "source": [
        "best_params = {'max_depth': 12,\n",
        " 'max_features': 0.8,\n",
        " 'max_leaf_nodes': 128,\n",
        " 'random_state': 1,\n",
        " 'min_samples_split': 2}\n",
        "\n",
        "clf = DecisionTreeRegressor(**best_params)\n",
        "\n",
        "_ = clf.fit(X_trn[cat_num_cols], y_trn)\n",
        "\n",
        "preds_val = clf.predict(X_val[cat_num_cols])\n",
        "\n",
        "av_metric_score = av_metric(y_val, preds_val)\n",
        "\n",
        "print(f'AV metric score is: {av_metric_score}')"
      ],
      "execution_count": null,
      "outputs": [
        {
          "output_type": "stream",
          "text": [
            "AV metric score is: 766.018775496316\n"
          ],
          "name": "stdout"
        }
      ]
    },
    {
      "cell_type": "code",
      "metadata": {
        "id": "ANHZukhURuaQ",
        "outputId": "29fff5ee-fb12-4d8c-ac23-37793ebdfb37",
        "colab": {
          "base_uri": "https://localhost:8080/",
          "height": 17
        }
      },
      "source": [
        "preds_test = clf.predict(X_test[cat_num_cols])\n",
        "\n",
        "preds_test = np.expm1(preds_test)\n",
        "\n",
        "download_preds(preds_test, 'dt_num_cat.csv')"
      ],
      "execution_count": null,
      "outputs": [
        {
          "output_type": "display_data",
          "data": {
            "application/javascript": [
              "\n",
              "    async function download(id, filename, size) {\n",
              "      if (!google.colab.kernel.accessAllowed) {\n",
              "        return;\n",
              "      }\n",
              "      const div = document.createElement('div');\n",
              "      const label = document.createElement('label');\n",
              "      label.textContent = `Downloading \"${filename}\": `;\n",
              "      div.appendChild(label);\n",
              "      const progress = document.createElement('progress');\n",
              "      progress.max = size;\n",
              "      div.appendChild(progress);\n",
              "      document.body.appendChild(div);\n",
              "\n",
              "      const buffers = [];\n",
              "      let downloaded = 0;\n",
              "\n",
              "      const channel = await google.colab.kernel.comms.open(id);\n",
              "      // Send a message to notify the kernel that we're ready.\n",
              "      channel.send({})\n",
              "\n",
              "      for await (const message of channel.messages) {\n",
              "        // Send a message to notify the kernel that we're ready.\n",
              "        channel.send({})\n",
              "        if (message.buffers) {\n",
              "          for (const buffer of message.buffers) {\n",
              "            buffers.push(buffer);\n",
              "            downloaded += buffer.byteLength;\n",
              "            progress.value = downloaded;\n",
              "          }\n",
              "        }\n",
              "      }\n",
              "      const blob = new Blob(buffers, {type: 'application/binary'});\n",
              "      const a = document.createElement('a');\n",
              "      a.href = window.URL.createObjectURL(blob);\n",
              "      a.download = filename;\n",
              "      div.appendChild(a);\n",
              "      a.click();\n",
              "      div.remove();\n",
              "    }\n",
              "  "
            ],
            "text/plain": [
              "<IPython.core.display.Javascript object>"
            ]
          },
          "metadata": {
            "tags": []
          }
        },
        {
          "output_type": "display_data",
          "data": {
            "application/javascript": [
              "download(\"download_eaddd508-1965-41a2-9230-bf7d5afb15aa\", \"dt_num_cat.csv\", 271582)"
            ],
            "text/plain": [
              "<IPython.core.display.Javascript object>"
            ]
          },
          "metadata": {
            "tags": []
          }
        }
      ]
    },
    {
      "cell_type": "code",
      "metadata": {
        "id": "5lM6IPdtSQD_",
        "outputId": "cc14cccd-f129-4281-8dd7-4519b8373bbd",
        "colab": {
          "base_uri": "https://localhost:8080/",
          "height": 415
        }
      },
      "source": [
        "pd.read_csv('dt_num_cat.csv')"
      ],
      "execution_count": null,
      "outputs": [
        {
          "output_type": "execute_result",
          "data": {
            "text/html": [
              "<div>\n",
              "<style scoped>\n",
              "    .dataframe tbody tr th:only-of-type {\n",
              "        vertical-align: middle;\n",
              "    }\n",
              "\n",
              "    .dataframe tbody tr th {\n",
              "        vertical-align: top;\n",
              "    }\n",
              "\n",
              "    .dataframe thead th {\n",
              "        text-align: right;\n",
              "    }\n",
              "</style>\n",
              "<table border=\"1\" class=\"dataframe\">\n",
              "  <thead>\n",
              "    <tr style=\"text-align: right;\">\n",
              "      <th></th>\n",
              "      <th>video_id</th>\n",
              "      <th>likes</th>\n",
              "    </tr>\n",
              "  </thead>\n",
              "  <tbody>\n",
              "    <tr>\n",
              "      <th>0</th>\n",
              "      <td>87185</td>\n",
              "      <td>568.562640</td>\n",
              "    </tr>\n",
              "    <tr>\n",
              "      <th>1</th>\n",
              "      <td>9431</td>\n",
              "      <td>1838.380902</td>\n",
              "    </tr>\n",
              "    <tr>\n",
              "      <th>2</th>\n",
              "      <td>40599</td>\n",
              "      <td>93.315782</td>\n",
              "    </tr>\n",
              "    <tr>\n",
              "      <th>3</th>\n",
              "      <td>494</td>\n",
              "      <td>4189.844435</td>\n",
              "    </tr>\n",
              "    <tr>\n",
              "      <th>4</th>\n",
              "      <td>73942</td>\n",
              "      <td>1388.870653</td>\n",
              "    </tr>\n",
              "    <tr>\n",
              "      <th>...</th>\n",
              "      <td>...</td>\n",
              "      <td>...</td>\n",
              "    </tr>\n",
              "    <tr>\n",
              "      <th>11165</th>\n",
              "      <td>19415</td>\n",
              "      <td>1620.553722</td>\n",
              "    </tr>\n",
              "    <tr>\n",
              "      <th>11166</th>\n",
              "      <td>25168</td>\n",
              "      <td>5752.247223</td>\n",
              "    </tr>\n",
              "    <tr>\n",
              "      <th>11167</th>\n",
              "      <td>80293</td>\n",
              "      <td>5752.247223</td>\n",
              "    </tr>\n",
              "    <tr>\n",
              "      <th>11168</th>\n",
              "      <td>80880</td>\n",
              "      <td>16723.248206</td>\n",
              "    </tr>\n",
              "    <tr>\n",
              "      <th>11169</th>\n",
              "      <td>6514</td>\n",
              "      <td>5752.247223</td>\n",
              "    </tr>\n",
              "  </tbody>\n",
              "</table>\n",
              "<p>11170 rows × 2 columns</p>\n",
              "</div>"
            ],
            "text/plain": [
              "       video_id         likes\n",
              "0         87185    568.562640\n",
              "1          9431   1838.380902\n",
              "2         40599     93.315782\n",
              "3           494   4189.844435\n",
              "4         73942   1388.870653\n",
              "...         ...           ...\n",
              "11165     19415   1620.553722\n",
              "11166     25168   5752.247223\n",
              "11167     80293   5752.247223\n",
              "11168     80880  16723.248206\n",
              "11169      6514   5752.247223\n",
              "\n",
              "[11170 rows x 2 columns]"
            ]
          },
          "metadata": {
            "tags": []
          },
          "execution_count": 135
        }
      ]
    },
    {
      "cell_type": "markdown",
      "metadata": {
        "id": "rUfLUZaY4t4Q"
      },
      "source": [
        "# **Validation Strategy.**\n",
        "\n",
        "**Problems with simple train_test_split validation**\n",
        "\n",
        "* We are not using complete 100 % of the dataset for training. More data implies more performance, if the data quality is good.\n",
        "\n",
        "* We are not using complete 100 % of the dataset for validation. Our validation now is biased towards the validation set we have got through train_test_split. What if the test set is different from the validation set ?\n"
      ]
    },
    {
      "cell_type": "markdown",
      "metadata": {
        "id": "Ovx1ULbo5ayK"
      },
      "source": [
        "## **K-Fold Validation**\n",
        "\n"
      ]
    },
    {
      "cell_type": "markdown",
      "metadata": {
        "id": "pfVPUUEs52DM"
      },
      "source": [
        "K Fold validation splits the dataset into K-parts or K-splits.\n",
        "\n",
        "Suppose we are performing a 5-fold validation. Thus we split the training dataset into 5 parts. Each of these will contain 20 % of the dataset.\n",
        "\n",
        "\n",
        "![Untitled Diagram (3).jpg](data:image/jpeg;base64,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)"
      ]
    },
    {
      "cell_type": "markdown",
      "metadata": {
        "id": "xyJHezYm_TKP"
      },
      "source": [
        "Now for each of these parts, we take them as validation one by one and rest of the parts for training. The unshaded or white box, represents the part among A, B, C, D, and E, that we take for validation. Rest are used for training in that particular fold.\n",
        "Then we make two predictions (shown in the right hand side of the diagram):\n",
        "\n",
        "**1. Predictions for the validation set:** This is also known as out-of-fold prediction.\n",
        "\n",
        "**2. Predictions for the test set:** This is the dataset for which we need to submit our predictions to AV.\n",
        "\n",
        "Finally if we combine the predictions for each of these folds we get OOFs or Out-of-Folds predictions. This is the prediction for the entire dataset. We can now see the performance our classifier on the entire training set.\n",
        "\n",
        "Also we take the mean of the test predictions for each fold, and get our final test_predictions. We then need to round it to 0 or 1, since our metric demands we submit a discrete output, ie. no probabilities. "
      ]
    },
    {
      "cell_type": "markdown",
      "metadata": {
        "id": "LuiKVRlYD9lN"
      },
      "source": [
        "![Untitled Diagram (4).jpg](data:image/jpeg;base64,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)"
      ]
    },
    {
      "cell_type": "markdown",
      "metadata": {
        "id": "sDqmmzWH7yDz"
      },
      "source": [
        "## **Stratified K-Fold.**\n",
        "\n",
        "One obvious problem with normal KFold, is that each in each fold the distribution of samples in the validation set, will be not be same. This is a big problem with imbalanced datasets. \n",
        "\n",
        "In our above example its possible that in any of the splits we could have could have a validation set having all samples with less number of likes\n",
        "\n",
        "To overcome this problem we will use Stratified-KFold Validation. StratifiedKFold ensures that each of the splits have same proportion of examples of each type\n",
        "\n"
      ]
    },
    {
      "cell_type": "markdown",
      "metadata": {
        "id": "CyaRIG2lMXYx"
      },
      "source": [
        "![StratifiedKFold_Only.jpg](data:image/jpeg;base64,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)"
      ]
    },
    {
      "cell_type": "markdown",
      "metadata": {
        "id": "O2pz4LK5N2yT"
      },
      "source": [
        "On a side note seeing so many arrows, reminds of Neural Networks."
      ]
    },
    {
      "cell_type": "markdown",
      "metadata": {
        "id": "Z3vLCFXzMhRx"
      },
      "source": [
        "Lets make our Decision Tree Model with Stratified KFold Validation"
      ]
    },
    {
      "cell_type": "markdown",
      "metadata": {
        "id": "1nBO0xPKpUCI"
      },
      "source": [
        "**Function to Run StratifiedKFold**"
      ]
    },
    {
      "cell_type": "code",
      "metadata": {
        "id": "50eHcBEd6wQN",
        "outputId": "a481ae87-728f-4eb0-b0b4-4514ddb45aaf",
        "colab": {
          "base_uri": "https://localhost:8080/",
          "height": 34
        }
      },
      "source": [
        "pd.qcut(np.arange(10), 5, labels = False, duplicates='drop')"
      ],
      "execution_count": null,
      "outputs": [
        {
          "output_type": "execute_result",
          "data": {
            "text/plain": [
              "array([0, 0, 1, 1, 2, 2, 3, 3, 4, 4])"
            ]
          },
          "metadata": {
            "tags": []
          },
          "execution_count": 137
        }
      ]
    },
    {
      "cell_type": "code",
      "metadata": {
        "id": "4J7qwXeHeTGI"
      },
      "source": [
        "from sklearn.model_selection import StratifiedKFold"
      ],
      "execution_count": null,
      "outputs": []
    },
    {
      "cell_type": "code",
      "metadata": {
        "id": "gOdiBDxU4tcb"
      },
      "source": [
        "def run_clf_kfold(clf, train, test, features):\n",
        "\n",
        "  N_SPLITS = 5\n",
        "\n",
        "  oofs = np.zeros(len(train))\n",
        "  preds = np.zeros((len(test)))\n",
        "\n",
        "  target = train[TARGET_COL]\n",
        "\n",
        "  folds = StratifiedKFold(n_splits = N_SPLITS)\n",
        "  stratified_target = pd.qcut(train[TARGET_COL], 10, labels = False, duplicates='drop')\n",
        "\n",
        "  for fold_, (trn_idx, val_idx) in enumerate(folds.split(train, stratified_target)):\n",
        "    print(f'\\n------------- Fold {fold_ + 1} -------------')\n",
        "\n",
        "    ############# Get train, validation and test sets along with targets ################\n",
        "  \n",
        "    ### Training Set\n",
        "    X_trn, y_trn = train[features].iloc[trn_idx], target.iloc[trn_idx]\n",
        "\n",
        "    ### Validation Set\n",
        "    X_val, y_val = train[features].iloc[val_idx], target.iloc[val_idx]\n",
        "\n",
        "    ### Test Set\n",
        "    X_test = test[features]\n",
        "\n",
        "    ############# Scaling Data ################\n",
        "    scaler = StandardScaler()\n",
        "    _ = scaler.fit(X_trn)\n",
        "\n",
        "    X_trn = scaler.transform(X_trn)\n",
        "    X_val = scaler.transform(X_val)\n",
        "    X_test = scaler.transform(X_test)\n",
        "\n",
        "\n",
        "    ############# Fitting and Predicting ################\n",
        "\n",
        "    _ = clf.fit(X_trn, y_trn)\n",
        "\n",
        "    ### Instead of directly predicting the classes we will obtain the probability of positive class.\n",
        "    preds_val = clf.predict(X_val)\n",
        "    preds_test = clf.predict(X_test)\n",
        "\n",
        "    fold_score = av_metric(y_val, preds_val)\n",
        "    print(f'\\nAV metric score for validation set is {fold_score}')\n",
        "\n",
        "    oofs[val_idx] = preds_val\n",
        "    preds += preds_test / N_SPLITS\n",
        "\n",
        "\n",
        "  oofs_score = av_metric(target, oofs)\n",
        "  print(f'\\n\\nAV metric for oofs is {oofs_score}')\n",
        "\n",
        "  return oofs, preds"
      ],
      "execution_count": null,
      "outputs": []
    },
    {
      "cell_type": "markdown",
      "metadata": {
        "id": "3uGqrNqopZPx"
      },
      "source": [
        "**KFold on Decision Tree**"
      ]
    },
    {
      "cell_type": "code",
      "metadata": {
        "id": "LurQ688clcdW",
        "outputId": "3a7b4e5d-64d0-412f-ac49-73f05f7eeec7",
        "colab": {
          "base_uri": "https://localhost:8080/",
          "height": 418
        }
      },
      "source": [
        "dt_params = {'max_depth': 12,\n",
        " 'max_features': 0.8,\n",
        " 'max_leaf_nodes': 128,\n",
        " 'min_samples_split': 2}\n",
        "\n",
        "clf = DecisionTreeRegressor(**dt_params)\n",
        "        \n",
        "\n",
        "dt_oofs, dt_preds = run_clf_kfold(clf, train_proc, test_proc, cat_num_cols)"
      ],
      "execution_count": null,
      "outputs": [
        {
          "output_type": "stream",
          "text": [
            "\n",
            "------------- Fold 1 -------------\n",
            "\n",
            "AV metric score for validation set is 772.8277838320226\n",
            "\n",
            "------------- Fold 2 -------------\n",
            "\n",
            "AV metric score for validation set is 768.0567612828382\n",
            "\n",
            "------------- Fold 3 -------------\n",
            "\n",
            "AV metric score for validation set is 754.0996782005626\n",
            "\n",
            "------------- Fold 4 -------------\n",
            "\n",
            "AV metric score for validation set is 765.8166071386306\n",
            "\n",
            "------------- Fold 5 -------------\n",
            "\n",
            "AV metric score for validation set is 763.5381985833818\n",
            "\n",
            "\n",
            "AV metric for oofs is 764.8932336098103\n"
          ],
          "name": "stdout"
        }
      ]
    },
    {
      "cell_type": "markdown",
      "metadata": {
        "id": "oLtEGJhX2NP-"
      },
      "source": [
        "**Submitting on the Leaderboard**"
      ]
    },
    {
      "cell_type": "code",
      "metadata": {
        "id": "cwRHIB6gugbg",
        "outputId": "4890a6a2-ebd7-4bea-f88c-3b999d8c557b",
        "colab": {
          "base_uri": "https://localhost:8080/",
          "height": 17
        }
      },
      "source": [
        "dt_preds_t = np.expm1(dt_preds)\n",
        "download_preds(dt_preds_t, file_name = 'hacklive_dt_5_folds.csv')"
      ],
      "execution_count": null,
      "outputs": [
        {
          "output_type": "display_data",
          "data": {
            "application/javascript": [
              "\n",
              "    async function download(id, filename, size) {\n",
              "      if (!google.colab.kernel.accessAllowed) {\n",
              "        return;\n",
              "      }\n",
              "      const div = document.createElement('div');\n",
              "      const label = document.createElement('label');\n",
              "      label.textContent = `Downloading \"${filename}\": `;\n",
              "      div.appendChild(label);\n",
              "      const progress = document.createElement('progress');\n",
              "      progress.max = size;\n",
              "      div.appendChild(progress);\n",
              "      document.body.appendChild(div);\n",
              "\n",
              "      const buffers = [];\n",
              "      let downloaded = 0;\n",
              "\n",
              "      const channel = await google.colab.kernel.comms.open(id);\n",
              "      // Send a message to notify the kernel that we're ready.\n",
              "      channel.send({})\n",
              "\n",
              "      for await (const message of channel.messages) {\n",
              "        // Send a message to notify the kernel that we're ready.\n",
              "        channel.send({})\n",
              "        if (message.buffers) {\n",
              "          for (const buffer of message.buffers) {\n",
              "            buffers.push(buffer);\n",
              "            downloaded += buffer.byteLength;\n",
              "            progress.value = downloaded;\n",
              "          }\n",
              "        }\n",
              "      }\n",
              "      const blob = new Blob(buffers, {type: 'application/binary'});\n",
              "      const a = document.createElement('a');\n",
              "      a.href = window.URL.createObjectURL(blob);\n",
              "      a.download = filename;\n",
              "      div.appendChild(a);\n",
              "      a.click();\n",
              "      div.remove();\n",
              "    }\n",
              "  "
            ],
            "text/plain": [
              "<IPython.core.display.Javascript object>"
            ]
          },
          "metadata": {
            "tags": []
          }
        },
        {
          "output_type": "display_data",
          "data": {
            "application/javascript": [
              "download(\"download_bf45e5e5-a28a-4997-b7fd-05039f141b7b\", \"hacklive_dt_5_folds.csv\", 270707)"
            ],
            "text/plain": [
              "<IPython.core.display.Javascript object>"
            ]
          },
          "metadata": {
            "tags": []
          }
        }
      ]
    },
    {
      "cell_type": "markdown",
      "metadata": {
        "id": "e60_DgYIvX62"
      },
      "source": [
        "# **Gradient Boosting**\n",
        "\n",
        "Gradient boosting is a machine learning technique for regression and classification problems, which produces a prediction model in the form of an ensemble of weak prediction models, typically decision trees. It builds the model in a stage-wise fashion like other boosting methods do, and it generalizes them by allowing optimization of an arbitrary differentiable loss function.\n",
        "\n",
        "https://en.wikipedia.org/wiki/Gradient_boosting\n",
        "\n",
        "https://www.analyticsvidhya.com/blog/2020/02/4-boosting-algorithms-machine-learning/\n",
        "\n",
        "Most Popular Variants of GradientBoosting\n",
        "----------------------------\n",
        "\n",
        "1. LightGBM\n",
        "\n",
        "2. XGBoost\n",
        "\n",
        "3. CatBoost"
      ]
    },
    {
      "cell_type": "markdown",
      "metadata": {
        "id": "9BWth6KqzoPV"
      },
      "source": [
        " ## **LightGBM**\n",
        "\n",
        "LightGBM is a gradient boosting framework that uses tree based learning algorithms. It is designed to be distributed and efficient with the following advantages:\n",
        "\n",
        "* Faster training speed and higher efficiency.\n",
        "\n",
        "* Lower memory usage.\n",
        "\n",
        "* Better accuracy.\n",
        "\n",
        "* Support of parallel and GPU learning.\n",
        "\n",
        "* Capable of handling large-scale data.\n",
        "\n",
        "https://lightgbm.readthedocs.io/en/latest/"
      ]
    },
    {
      "cell_type": "code",
      "metadata": {
        "id": "a-95loGCgbyM"
      },
      "source": [
        "from lightgbm import LGBMRegressor"
      ],
      "execution_count": null,
      "outputs": []
    },
    {
      "cell_type": "code",
      "metadata": {
        "id": "Abf6cj4fq4ZM",
        "outputId": "549b315f-f7cb-40b8-a038-a86d9e62b42b",
        "colab": {
          "base_uri": "https://localhost:8080/",
          "height": 418
        }
      },
      "source": [
        "clf = LGBMRegressor()\n",
        "lgb_oofs, lgb_preds = run_clf_kfold(clf, train_proc, test_proc, cat_num_cols)"
      ],
      "execution_count": null,
      "outputs": [
        {
          "output_type": "stream",
          "text": [
            "\n",
            "------------- Fold 1 -------------\n",
            "\n",
            "AV metric score for validation set is 674.7737515393275\n",
            "\n",
            "------------- Fold 2 -------------\n",
            "\n",
            "AV metric score for validation set is 678.3212622895253\n",
            "\n",
            "------------- Fold 3 -------------\n",
            "\n",
            "AV metric score for validation set is 669.5119539218649\n",
            "\n",
            "------------- Fold 4 -------------\n",
            "\n",
            "AV metric score for validation set is 665.6236530707358\n",
            "\n",
            "------------- Fold 5 -------------\n",
            "\n",
            "AV metric score for validation set is 671.8950668383243\n",
            "\n",
            "\n",
            "AV metric for oofs is 672.0393057033824\n"
          ],
          "name": "stdout"
        }
      ]
    },
    {
      "cell_type": "markdown",
      "metadata": {
        "id": "n2yrxO418pv0"
      },
      "source": [
        "**Submitting on the Leaderboard**"
      ]
    },
    {
      "cell_type": "code",
      "metadata": {
        "id": "LcGgOR-B8pv5",
        "outputId": "043257fa-f09a-41cb-fa67-8f6095f98da6",
        "colab": {
          "base_uri": "https://localhost:8080/",
          "height": 17
        }
      },
      "source": [
        "lgb_preds_t = np.expm1(lgb_preds)\n",
        "download_preds(lgb_preds_t, file_name = 'hacklive_lgb_5_folds.csv')"
      ],
      "execution_count": null,
      "outputs": [
        {
          "output_type": "display_data",
          "data": {
            "application/javascript": [
              "\n",
              "    async function download(id, filename, size) {\n",
              "      if (!google.colab.kernel.accessAllowed) {\n",
              "        return;\n",
              "      }\n",
              "      const div = document.createElement('div');\n",
              "      const label = document.createElement('label');\n",
              "      label.textContent = `Downloading \"${filename}\": `;\n",
              "      div.appendChild(label);\n",
              "      const progress = document.createElement('progress');\n",
              "      progress.max = size;\n",
              "      div.appendChild(progress);\n",
              "      document.body.appendChild(div);\n",
              "\n",
              "      const buffers = [];\n",
              "      let downloaded = 0;\n",
              "\n",
              "      const channel = await google.colab.kernel.comms.open(id);\n",
              "      // Send a message to notify the kernel that we're ready.\n",
              "      channel.send({})\n",
              "\n",
              "      for await (const message of channel.messages) {\n",
              "        // Send a message to notify the kernel that we're ready.\n",
              "        channel.send({})\n",
              "        if (message.buffers) {\n",
              "          for (const buffer of message.buffers) {\n",
              "            buffers.push(buffer);\n",
              "            downloaded += buffer.byteLength;\n",
              "            progress.value = downloaded;\n",
              "          }\n",
              "        }\n",
              "      }\n",
              "      const blob = new Blob(buffers, {type: 'application/binary'});\n",
              "      const a = document.createElement('a');\n",
              "      a.href = window.URL.createObjectURL(blob);\n",
              "      a.download = filename;\n",
              "      div.appendChild(a);\n",
              "      a.click();\n",
              "      div.remove();\n",
              "    }\n",
              "  "
            ],
            "text/plain": [
              "<IPython.core.display.Javascript object>"
            ]
          },
          "metadata": {
            "tags": []
          }
        },
        {
          "output_type": "display_data",
          "data": {
            "application/javascript": [
              "download(\"download_417f56b3-1712-4f0a-b743-2eb1f31060d3\", \"hacklive_lgb_5_folds.csv\", 270937)"
            ],
            "text/plain": [
              "<IPython.core.display.Javascript object>"
            ]
          },
          "metadata": {
            "tags": []
          }
        }
      ]
    },
    {
      "cell_type": "markdown",
      "metadata": {
        "id": "K8zkhlV4xeF0"
      },
      "source": [
        "### **Tuning LightGBM**\n",
        "\n",
        "* Early Stopping: Stopping the model training, when the model starts to overfit\n",
        "  * How do we know if model is overfitting ?\n",
        "* HyperParameter Optimization.\n",
        "  * Is random search the best way to go ?"
      ]
    },
    {
      "cell_type": "markdown",
      "metadata": {
        "id": "9DloGAfAqixR"
      },
      "source": [
        "**Simple Function to Run Gradient Boosting**\n",
        "\n",
        "Let's make a simple function to call gradient boosting and get our oofs and predictions. Rather than copying and pasting the same code again and again/"
      ]
    },
    {
      "cell_type": "code",
      "metadata": {
        "id": "6kpppxN39l4d"
      },
      "source": [
        "def run_gradient_boosting(clf, fit_params, train, test, features):\n",
        "  N_SPLITS = 5\n",
        "  oofs = np.zeros(len(train_proc))\n",
        "  preds = np.zeros((len(test_proc)))\n",
        "\n",
        "  target = train[TARGET_COL]\n",
        "\n",
        "  folds = StratifiedKFold(n_splits = N_SPLITS)\n",
        "  stratified_target = pd.qcut(train[TARGET_COL], 10, labels = False, duplicates='drop')\n",
        "\n",
        "  feature_importances = pd.DataFrame()\n",
        "\n",
        "  for fold_, (trn_idx, val_idx) in enumerate(folds.split(train, stratified_target)):\n",
        "    print(f'\\n------------- Fold {fold_ + 1} -------------')\n",
        "\n",
        "    ### Training Set\n",
        "    X_trn, y_trn = train[features].iloc[trn_idx], target.iloc[trn_idx]\n",
        "\n",
        "    ### Validation Set\n",
        "    X_val, y_val = train[features].iloc[val_idx], target.iloc[val_idx]\n",
        "\n",
        "    ### Test Set\n",
        "    X_test = test[features]\n",
        "\n",
        "    scaler = StandardScaler()\n",
        "    _ = scaler.fit(X_trn)\n",
        "\n",
        "    X_trn = scaler.transform(X_trn)\n",
        "    X_val = scaler.transform(X_val)\n",
        "    X_test = scaler.transform(X_test)\n",
        "    \n",
        "    _ = clf.fit(X_trn, y_trn, eval_set = [(X_val, y_val)], **fit_params)\n",
        "\n",
        "    fold_importance = pd.DataFrame({'fold': fold_ + 1, 'feature': features, 'importance': clf.feature_importances_})\n",
        "    feature_importances = pd.concat([feature_importances, fold_importance], axis=0)\n",
        "\n",
        "    ### Instead of directly predicting the classes we will obtain the probability of positive class.\n",
        "    preds_val = clf.predict(X_val)\n",
        "    preds_test = clf.predict(X_test)\n",
        "\n",
        "    fold_score = av_metric(y_val, preds_val)\n",
        "    print(f'\\nAV metric score for validation set is {fold_score}')\n",
        "\n",
        "    oofs[val_idx] = preds_val\n",
        "    preds += preds_test / N_SPLITS\n",
        "\n",
        "\n",
        "  oofs_score = av_metric(target, oofs)\n",
        "  print(f'\\n\\nAV metric for oofs is {oofs_score}')\n",
        "\n",
        "  feature_importances = feature_importances.reset_index(drop = True)\n",
        "  fi = feature_importances.groupby('feature')['importance'].mean().sort_values(ascending = False)[:20][::-1]\n",
        "  fi.plot(kind = 'barh', figsize=(12, 6))\n",
        "\n",
        "  return oofs, preds, fi"
      ],
      "execution_count": null,
      "outputs": []
    },
    {
      "cell_type": "markdown",
      "metadata": {
        "id": "Dj6t6uSTqpWQ"
      },
      "source": [
        "**Manual Tuning. Choosing Hyperparameters to Tune**"
      ]
    },
    {
      "cell_type": "code",
      "metadata": {
        "id": "ZRbCsJYwxdqb",
        "outputId": "bb8f6894-8205-4b4d-e1d4-0ad4dc9ead2a",
        "colab": {
          "base_uri": "https://localhost:8080/",
          "height": 1000
        }
      },
      "source": [
        "clf = LGBMRegressor(n_estimators = 1000,\n",
        "                        learning_rate = 0.05,\n",
        "                        colsample_bytree = 0.76,\n",
        "                        metric = 'None',\n",
        "                        )\n",
        "fit_params = {'verbose': 100, 'early_stopping_rounds': 100, 'eval_metric': 'rmse'}\n",
        "\n",
        "lgb_oofs, lgb_preds, fi = run_gradient_boosting(clf, fit_params, train_proc, test_proc, cat_num_cols)"
      ],
      "execution_count": null,
      "outputs": [
        {
          "output_type": "stream",
          "text": [
            "\n",
            "------------- Fold 1 -------------\n",
            "Training until validation scores don't improve for 100 rounds.\n",
            "[100]\tvalid_0's rmse: 0.688058\n",
            "[200]\tvalid_0's rmse: 0.673056\n",
            "[300]\tvalid_0's rmse: 0.668448\n",
            "[400]\tvalid_0's rmse: 0.666901\n",
            "[500]\tvalid_0's rmse: 0.666187\n",
            "[600]\tvalid_0's rmse: 0.666155\n",
            "[700]\tvalid_0's rmse: 0.665891\n",
            "[800]\tvalid_0's rmse: 0.666161\n",
            "Early stopping, best iteration is:\n",
            "[733]\tvalid_0's rmse: 0.665611\n",
            "\n",
            "AV metric score for validation set is 665.6109435506439\n",
            "\n",
            "------------- Fold 2 -------------\n",
            "Training until validation scores don't improve for 100 rounds.\n",
            "[100]\tvalid_0's rmse: 0.689594\n",
            "[200]\tvalid_0's rmse: 0.676902\n",
            "[300]\tvalid_0's rmse: 0.673678\n",
            "[400]\tvalid_0's rmse: 0.672131\n",
            "[500]\tvalid_0's rmse: 0.672627\n",
            "Early stopping, best iteration is:\n",
            "[406]\tvalid_0's rmse: 0.672039\n",
            "\n",
            "AV metric score for validation set is 672.0387821770701\n",
            "\n",
            "------------- Fold 3 -------------\n",
            "Training until validation scores don't improve for 100 rounds.\n",
            "[100]\tvalid_0's rmse: 0.684084\n",
            "[200]\tvalid_0's rmse: 0.670498\n",
            "[300]\tvalid_0's rmse: 0.667426\n",
            "[400]\tvalid_0's rmse: 0.666549\n",
            "[500]\tvalid_0's rmse: 0.666337\n",
            "[600]\tvalid_0's rmse: 0.66575\n",
            "Early stopping, best iteration is:\n",
            "[576]\tvalid_0's rmse: 0.665617\n",
            "\n",
            "AV metric score for validation set is 665.6172684949846\n",
            "\n",
            "------------- Fold 4 -------------\n",
            "Training until validation scores don't improve for 100 rounds.\n",
            "[100]\tvalid_0's rmse: 0.678885\n",
            "[200]\tvalid_0's rmse: 0.666246\n",
            "[300]\tvalid_0's rmse: 0.661694\n",
            "[400]\tvalid_0's rmse: 0.660505\n",
            "[500]\tvalid_0's rmse: 0.660212\n",
            "[600]\tvalid_0's rmse: 0.660423\n",
            "Early stopping, best iteration is:\n",
            "[541]\tvalid_0's rmse: 0.659901\n",
            "\n",
            "AV metric score for validation set is 659.9007691602422\n",
            "\n",
            "------------- Fold 5 -------------\n",
            "Training until validation scores don't improve for 100 rounds.\n",
            "[100]\tvalid_0's rmse: 0.68468\n",
            "[200]\tvalid_0's rmse: 0.672682\n",
            "[300]\tvalid_0's rmse: 0.669641\n",
            "[400]\tvalid_0's rmse: 0.668778\n",
            "[500]\tvalid_0's rmse: 0.668161\n",
            "[600]\tvalid_0's rmse: 0.668524\n",
            "Early stopping, best iteration is:\n",
            "[513]\tvalid_0's rmse: 0.668029\n",
            "\n",
            "AV metric score for validation set is 668.0293791708145\n",
            "\n",
            "\n",
            "AV metric for oofs is 666.2510809053289\n"
          ],
          "name": "stdout"
        },
        {
          "output_type": "display_data",
          "data": {
            "image/png": "[encoded data removed]",
            "text/plain": [
              "<Figure size 864x432 with 1 Axes>"
            ]
          },
          "metadata": {
            "tags": []
          }
        }
      ]
    },
    {
      "cell_type": "markdown",
      "metadata": {
        "id": "B7JQZ_CuCXZ7"
      },
      "source": [
        "**Submitting on the Leaderboard**"
      ]
    },
    {
      "cell_type": "code",
      "metadata": {
        "id": "s6CXOFtuCXZ9",
        "outputId": "38e779b1-e3e5-4382-fbfd-a15afc239f7d",
        "colab": {
          "base_uri": "https://localhost:8080/",
          "height": 17
        }
      },
      "source": [
        "lgb_preds_t = np.expm1(lgb_preds)\n",
        "download_preds(lgb_preds_t, file_name = 'hacklive_lgb_5_folds_tuned.csv')"
      ],
      "execution_count": null,
      "outputs": [
        {
          "output_type": "display_data",
          "data": {
            "application/javascript": [
              "\n",
              "    async function download(id, filename, size) {\n",
              "      if (!google.colab.kernel.accessAllowed) {\n",
              "        return;\n",
              "      }\n",
              "      const div = document.createElement('div');\n",
              "      const label = document.createElement('label');\n",
              "      label.textContent = `Downloading \"${filename}\": `;\n",
              "      div.appendChild(label);\n",
              "      const progress = document.createElement('progress');\n",
              "      progress.max = size;\n",
              "      div.appendChild(progress);\n",
              "      document.body.appendChild(div);\n",
              "\n",
              "      const buffers = [];\n",
              "      let downloaded = 0;\n",
              "\n",
              "      const channel = await google.colab.kernel.comms.open(id);\n",
              "      // Send a message to notify the kernel that we're ready.\n",
              "      channel.send({})\n",
              "\n",
              "      for await (const message of channel.messages) {\n",
              "        // Send a message to notify the kernel that we're ready.\n",
              "        channel.send({})\n",
              "        if (message.buffers) {\n",
              "          for (const buffer of message.buffers) {\n",
              "            buffers.push(buffer);\n",
              "            downloaded += buffer.byteLength;\n",
              "            progress.value = downloaded;\n",
              "          }\n",
              "        }\n",
              "      }\n",
              "      const blob = new Blob(buffers, {type: 'application/binary'});\n",
              "      const a = document.createElement('a');\n",
              "      a.href = window.URL.createObjectURL(blob);\n",
              "      a.download = filename;\n",
              "      div.appendChild(a);\n",
              "      a.click();\n",
              "      div.remove();\n",
              "    }\n",
              "  "
            ],
            "text/plain": [
              "<IPython.core.display.Javascript object>"
            ]
          },
          "metadata": {
            "tags": []
          }
        },
        {
          "output_type": "display_data",
          "data": {
            "application/javascript": [
              "download(\"download_11152e4c-8390-40c4-8a85-9fd62d97bcf7\", \"hacklive_lgb_5_folds_tuned.csv\", 270898)"
            ],
            "text/plain": [
              "<IPython.core.display.Javascript object>"
            ]
          },
          "metadata": {
            "tags": []
          }
        }
      ]
    },
    {
      "cell_type": "markdown",
      "metadata": {
        "id": "2MLqmluS4vY5"
      },
      "source": [
        "**Tuning Learning Rate**"
      ]
    },
    {
      "cell_type": "code",
      "metadata": {
        "id": "oQI6jQcACoba",
        "outputId": "ad3ddec8-7d6b-4d03-dfff-4441679586c4",
        "colab": {
          "base_uri": "https://localhost:8080/",
          "height": 1000
        }
      },
      "source": [
        "clf = LGBMRegressor(n_estimators = 5000,\n",
        "                        learning_rate = 0.01,\n",
        "                        colsample_bytree = 0.76,\n",
        "                        metric = 'None',\n",
        "                        )\n",
        "fit_params = {'verbose': 300, 'early_stopping_rounds': 200, 'eval_metric': 'rmse'}\n",
        "\n",
        "lgb_oofs, lgb_preds, fi = run_gradient_boosting(clf, fit_params, train_proc, test_proc, cat_num_cols)"
      ],
      "execution_count": null,
      "outputs": [
        {
          "output_type": "stream",
          "text": [
            "\n",
            "------------- Fold 1 -------------\n",
            "Training until validation scores don't improve for 200 rounds.\n",
            "[300]\tvalid_0's rmse: 0.721861\n",
            "[600]\tvalid_0's rmse: 0.684465\n",
            "[900]\tvalid_0's rmse: 0.675775\n",
            "[1200]\tvalid_0's rmse: 0.671939\n",
            "[1500]\tvalid_0's rmse: 0.669667\n",
            "[1800]\tvalid_0's rmse: 0.668281\n",
            "[2100]\tvalid_0's rmse: 0.667301\n",
            "[2400]\tvalid_0's rmse: 0.66692\n",
            "[2700]\tvalid_0's rmse: 0.666468\n",
            "[3000]\tvalid_0's rmse: 0.666088\n",
            "[3300]\tvalid_0's rmse: 0.665889\n",
            "Early stopping, best iteration is:\n",
            "[3258]\tvalid_0's rmse: 0.66583\n",
            "\n",
            "AV metric score for validation set is 665.8296103716714\n",
            "\n",
            "------------- Fold 2 -------------\n",
            "Training until validation scores don't improve for 200 rounds.\n",
            "[300]\tvalid_0's rmse: 0.721827\n",
            "[600]\tvalid_0's rmse: 0.687805\n",
            "[900]\tvalid_0's rmse: 0.680174\n",
            "[1200]\tvalid_0's rmse: 0.676595\n",
            "[1500]\tvalid_0's rmse: 0.674976\n",
            "[1800]\tvalid_0's rmse: 0.673857\n",
            "[2100]\tvalid_0's rmse: 0.673691\n",
            "Early stopping, best iteration is:\n",
            "[2034]\tvalid_0's rmse: 0.67356\n",
            "\n",
            "AV metric score for validation set is 673.5595131647339\n",
            "\n",
            "------------- Fold 3 -------------\n",
            "Training until validation scores don't improve for 200 rounds.\n",
            "[300]\tvalid_0's rmse: 0.717337\n",
            "[600]\tvalid_0's rmse: 0.679581\n",
            "[900]\tvalid_0's rmse: 0.671809\n",
            "[1200]\tvalid_0's rmse: 0.668628\n",
            "[1500]\tvalid_0's rmse: 0.667199\n",
            "[1800]\tvalid_0's rmse: 0.666652\n",
            "[2100]\tvalid_0's rmse: 0.66639\n",
            "[2400]\tvalid_0's rmse: 0.666178\n",
            "Early stopping, best iteration is:\n",
            "[2467]\tvalid_0's rmse: 0.666158\n",
            "\n",
            "AV metric score for validation set is 666.1582072915304\n",
            "\n",
            "------------- Fold 4 -------------\n",
            "Training until validation scores don't improve for 200 rounds.\n",
            "[300]\tvalid_0's rmse: 0.710966\n",
            "[600]\tvalid_0's rmse: 0.674958\n",
            "[900]\tvalid_0's rmse: 0.667302\n",
            "[1200]\tvalid_0's rmse: 0.664036\n",
            "[1500]\tvalid_0's rmse: 0.661703\n",
            "[1800]\tvalid_0's rmse: 0.66064\n",
            "[2100]\tvalid_0's rmse: 0.65998\n",
            "[2400]\tvalid_0's rmse: 0.659477\n",
            "[2700]\tvalid_0's rmse: 0.659349\n",
            "Early stopping, best iteration is:\n",
            "[2771]\tvalid_0's rmse: 0.659268\n",
            "\n",
            "AV metric score for validation set is 659.2682763309061\n",
            "\n",
            "------------- Fold 5 -------------\n",
            "Training until validation scores don't improve for 200 rounds.\n",
            "[300]\tvalid_0's rmse: 0.715471\n",
            "[600]\tvalid_0's rmse: 0.679723\n",
            "[900]\tvalid_0's rmse: 0.673595\n",
            "[1200]\tvalid_0's rmse: 0.67125\n",
            "[1500]\tvalid_0's rmse: 0.669781\n",
            "[1800]\tvalid_0's rmse: 0.668865\n",
            "[2100]\tvalid_0's rmse: 0.668234\n",
            "[2400]\tvalid_0's rmse: 0.667704\n",
            "[2700]\tvalid_0's rmse: 0.667298\n",
            "[3000]\tvalid_0's rmse: 0.66679\n",
            "[3300]\tvalid_0's rmse: 0.666818\n",
            "Early stopping, best iteration is:\n",
            "[3131]\tvalid_0's rmse: 0.666603\n",
            "\n",
            "AV metric score for validation set is 666.6025207220915\n",
            "\n",
            "\n",
            "AV metric for oofs is 666.2989878134357\n"
          ],
          "name": "stdout"
        },
        {
          "output_type": "display_data",
          "data": {
            "image/png": "[encoded data removed]",
            "text/plain": [
              "<Figure size 864x432 with 1 Axes>"
            ]
          },
          "metadata": {
            "tags": []
          }
        }
      ]
    },
    {
      "cell_type": "markdown",
      "metadata": {
        "id": "hlUCdz9nC-df"
      },
      "source": [
        "**Submitting on the Leaderboard**"
      ]
    },
    {
      "cell_type": "code",
      "metadata": {
        "id": "a2GidZPqC-dg",
        "outputId": "5c8fccb1-3f58-45ce-fdf7-cf57346a8b93",
        "colab": {
          "base_uri": "https://localhost:8080/",
          "height": 17
        }
      },
      "source": [
        "lgb_preds_t = np.expm1(lgb_preds)\n",
        "download_preds(lgb_preds_t, file_name = 'hacklive_lgb_5_folds_tuned.csv')"
      ],
      "execution_count": null,
      "outputs": [
        {
          "output_type": "display_data",
          "data": {
            "application/javascript": [
              "\n",
              "    async function download(id, filename, size) {\n",
              "      if (!google.colab.kernel.accessAllowed) {\n",
              "        return;\n",
              "      }\n",
              "      const div = document.createElement('div');\n",
              "      const label = document.createElement('label');\n",
              "      label.textContent = `Downloading \"${filename}\": `;\n",
              "      div.appendChild(label);\n",
              "      const progress = document.createElement('progress');\n",
              "      progress.max = size;\n",
              "      div.appendChild(progress);\n",
              "      document.body.appendChild(div);\n",
              "\n",
              "      const buffers = [];\n",
              "      let downloaded = 0;\n",
              "\n",
              "      const channel = await google.colab.kernel.comms.open(id);\n",
              "      // Send a message to notify the kernel that we're ready.\n",
              "      channel.send({})\n",
              "\n",
              "      for await (const message of channel.messages) {\n",
              "        // Send a message to notify the kernel that we're ready.\n",
              "        channel.send({})\n",
              "        if (message.buffers) {\n",
              "          for (const buffer of message.buffers) {\n",
              "            buffers.push(buffer);\n",
              "            downloaded += buffer.byteLength;\n",
              "            progress.value = downloaded;\n",
              "          }\n",
              "        }\n",
              "      }\n",
              "      const blob = new Blob(buffers, {type: 'application/binary'});\n",
              "      const a = document.createElement('a');\n",
              "      a.href = window.URL.createObjectURL(blob);\n",
              "      a.download = filename;\n",
              "      div.appendChild(a);\n",
              "      a.click();\n",
              "      div.remove();\n",
              "    }\n",
              "  "
            ],
            "text/plain": [
              "<IPython.core.display.Javascript object>"
            ]
          },
          "metadata": {
            "tags": []
          }
        },
        {
          "output_type": "display_data",
          "data": {
            "application/javascript": [
              "download(\"download_c55211f9-bfae-495e-9a4b-92223078f56d\", \"hacklive_lgb_5_folds_tuned.csv\", 270971)"
            ],
            "text/plain": [
              "<IPython.core.display.Javascript object>"
            ]
          },
          "metadata": {
            "tags": []
          }
        }
      ]
    },
    {
      "cell_type": "markdown",
      "metadata": {
        "id": "XbD-_MWJq92Y"
      },
      "source": [
        "## **CatBoost**\n",
        "\n",
        "CatBoost is a high-performance open source library for gradient boosting on decision trees.\n",
        "\n",
        "Features\n",
        "\n",
        "* Great quality without parameter tuning: Reduce time spent on parameter tuning, because CatBoost provides great results with default parameters\n",
        "\n",
        "* Categorical features support: Improve your training results with CatBoost that allows you to use non-numeric factors, instead of having to pre-process your data or spend time and effort turning it to numbers.\n",
        "\n",
        "* Fast and scalable GPU version: Train your model on a fast implementation of gradient-boosting algorithm for GPU. Use a multi-card configuration for large datasets.\n",
        "\n",
        "* Improved accuracy: Reduce overfitting when constructing your models with a novel gradient-boosting scheme.\n",
        "\n",
        "* Fast prediction: Apply your trained model quickly and efficiently even to latency-critical tasks using CatBoost's model applier\n",
        "\n",
        "https://catboost.ai/"
      ]
    },
    {
      "cell_type": "code",
      "metadata": {
        "id": "WBzsJF_y_0F-",
        "outputId": "de37c0c8-a27a-4140-c500-909c6e8c17e4",
        "colab": {
          "base_uri": "https://localhost:8080/",
          "height": 1000
        }
      },
      "source": [
        "clf = CatBoostRegressor(n_estimators = 3000,\n",
        "                       learning_rate = 0.01,\n",
        "                       rsm = 0.4, ## Analogous to colsample_bytree\n",
        "                       random_state=2054,\n",
        "                       )\n",
        "\n",
        "fit_params = {'verbose': 200, 'early_stopping_rounds': 200}\n",
        "\n",
        "cb_oofs, cb_preds, fi = run_gradient_boosting(clf, fit_params, train_proc, test_proc, cat_num_cols)"
      ],
      "execution_count": null,
      "outputs": [
        {
          "output_type": "stream",
          "text": [
            "\n",
            "------------- Fold 1 -------------\n",
            "0:\tlearn: 1.9161623\ttest: 1.9077476\tbest: 1.9077476 (0)\ttotal: 11.1ms\tremaining: 33.2s\n",
            "200:\tlearn: 0.8395688\ttest: 0.8496237\tbest: 0.8496237 (200)\ttotal: 900ms\tremaining: 12.5s\n",
            "400:\tlearn: 0.7310593\ttest: 0.7459856\tbest: 0.7459856 (400)\ttotal: 1.76s\tremaining: 11.4s\n",
            "600:\tlearn: 0.7071283\ttest: 0.7225519\tbest: 0.7225519 (600)\ttotal: 2.66s\tremaining: 10.6s\n",
            "800:\tlearn: 0.6931874\ttest: 0.7085013\tbest: 0.7085013 (800)\ttotal: 3.5s\tremaining: 9.61s\n",
            "1000:\tlearn: 0.6828767\ttest: 0.6984767\tbest: 0.6984767 (1000)\ttotal: 4.35s\tremaining: 8.68s\n",
            "1200:\tlearn: 0.6741208\ttest: 0.6901979\tbest: 0.6901979 (1200)\ttotal: 5.18s\tremaining: 7.76s\n",
            "1400:\tlearn: 0.6664207\ttest: 0.6833039\tbest: 0.6833039 (1400)\ttotal: 6.04s\tremaining: 6.89s\n",
            "1600:\tlearn: 0.6604077\ttest: 0.6785152\tbest: 0.6785152 (1600)\ttotal: 6.89s\tremaining: 6.02s\n",
            "1800:\tlearn: 0.6554195\ttest: 0.6750037\tbest: 0.6750022 (1798)\ttotal: 7.75s\tremaining: 5.16s\n",
            "2000:\tlearn: 0.6510266\ttest: 0.6720600\tbest: 0.6720600 (2000)\ttotal: 8.63s\tremaining: 4.31s\n",
            "2200:\tlearn: 0.6472998\ttest: 0.6698285\tbest: 0.6698285 (2200)\ttotal: 9.48s\tremaining: 3.44s\n",
            "2400:\tlearn: 0.6437144\ttest: 0.6677292\tbest: 0.6677292 (2400)\ttotal: 10.3s\tremaining: 2.58s\n",
            "2600:\tlearn: 0.6407440\ttest: 0.6662027\tbest: 0.6662027 (2600)\ttotal: 11.2s\tremaining: 1.72s\n",
            "2800:\tlearn: 0.6377706\ttest: 0.6646979\tbest: 0.6646979 (2800)\ttotal: 12s\tremaining: 856ms\n",
            "2999:\tlearn: 0.6351824\ttest: 0.6635549\tbest: 0.6635549 (2999)\ttotal: 12.9s\tremaining: 0us\n",
            "\n",
            "bestTest = 0.6635549235\n",
            "bestIteration = 2999\n",
            "\n",
            "\n",
            "AV metric score for validation set is 663.5549291970533\n",
            "\n",
            "------------- Fold 2 -------------\n",
            "0:\tlearn: 1.9102145\ttest: 1.9279119\tbest: 1.9279119 (0)\ttotal: 5.64ms\tremaining: 16.9s\n",
            "200:\tlearn: 0.8420830\ttest: 0.8531764\tbest: 0.8531764 (200)\ttotal: 848ms\tremaining: 11.8s\n",
            "400:\tlearn: 0.7323036\ttest: 0.7432106\tbest: 0.7432106 (400)\ttotal: 1.7s\tremaining: 11s\n",
            "600:\tlearn: 0.7065721\ttest: 0.7198568\tbest: 0.7198568 (600)\ttotal: 2.56s\tremaining: 10.2s\n",
            "800:\tlearn: 0.6919000\ttest: 0.7074705\tbest: 0.7074705 (800)\ttotal: 3.41s\tremaining: 9.37s\n",
            "1000:\tlearn: 0.6806796\ttest: 0.6988214\tbest: 0.6988214 (1000)\ttotal: 4.26s\tremaining: 8.51s\n",
            "1200:\tlearn: 0.6710566\ttest: 0.6917759\tbest: 0.6917759 (1200)\ttotal: 5.13s\tremaining: 7.68s\n",
            "1400:\tlearn: 0.6632734\ttest: 0.6863852\tbest: 0.6863852 (1400)\ttotal: 5.97s\tremaining: 6.82s\n",
            "1600:\tlearn: 0.6571608\ttest: 0.6827061\tbest: 0.6827061 (1600)\ttotal: 6.82s\tremaining: 5.96s\n",
            "1800:\tlearn: 0.6517308\ttest: 0.6796638\tbest: 0.6796638 (1800)\ttotal: 7.67s\tremaining: 5.1s\n",
            "2000:\tlearn: 0.6470431\ttest: 0.6774109\tbest: 0.6774109 (2000)\ttotal: 8.56s\tremaining: 4.27s\n",
            "2200:\tlearn: 0.6432165\ttest: 0.6757123\tbest: 0.6757123 (2200)\ttotal: 9.41s\tremaining: 3.42s\n",
            "2400:\tlearn: 0.6395814\ttest: 0.6742337\tbest: 0.6742337 (2400)\ttotal: 10.3s\tremaining: 2.56s\n",
            "2600:\tlearn: 0.6363545\ttest: 0.6730176\tbest: 0.6730176 (2600)\ttotal: 11.2s\tremaining: 1.72s\n",
            "2800:\tlearn: 0.6333779\ttest: 0.6719525\tbest: 0.6719525 (2800)\ttotal: 12s\tremaining: 856ms\n",
            "2999:\tlearn: 0.6306638\ttest: 0.6709549\tbest: 0.6709549 (2999)\ttotal: 12.9s\tremaining: 0us\n",
            "\n",
            "bestTest = 0.6709548934\n",
            "bestIteration = 2999\n",
            "\n",
            "\n",
            "AV metric score for validation set is 670.9548966273591\n",
            "\n",
            "------------- Fold 3 -------------\n",
            "0:\tlearn: 1.9174119\ttest: 1.9024446\tbest: 1.9024446 (0)\ttotal: 6.47ms\tremaining: 19.4s\n",
            "200:\tlearn: 0.8413623\ttest: 0.8407082\tbest: 0.8407082 (200)\ttotal: 858ms\tremaining: 11.9s\n",
            "400:\tlearn: 0.7329084\ttest: 0.7355512\tbest: 0.7355512 (400)\ttotal: 1.72s\tremaining: 11.2s\n",
            "600:\tlearn: 0.7075750\ttest: 0.7125674\tbest: 0.7125674 (600)\ttotal: 2.56s\tremaining: 10.2s\n",
            "800:\tlearn: 0.6930811\ttest: 0.7000954\tbest: 0.7000954 (800)\ttotal: 3.41s\tremaining: 9.37s\n",
            "1000:\tlearn: 0.6828643\ttest: 0.6916706\tbest: 0.6916706 (1000)\ttotal: 4.27s\tremaining: 8.53s\n",
            "1200:\tlearn: 0.6734292\ttest: 0.6845233\tbest: 0.6845233 (1200)\ttotal: 5.13s\tremaining: 7.68s\n",
            "1400:\tlearn: 0.6655906\ttest: 0.6791123\tbest: 0.6791123 (1400)\ttotal: 5.98s\tremaining: 6.82s\n",
            "1600:\tlearn: 0.6593441\ttest: 0.6751888\tbest: 0.6751888 (1600)\ttotal: 6.83s\tremaining: 5.96s\n",
            "1800:\tlearn: 0.6541614\ttest: 0.6723404\tbest: 0.6723404 (1800)\ttotal: 7.68s\tremaining: 5.11s\n",
            "2000:\tlearn: 0.6496541\ttest: 0.6701184\tbest: 0.6701184 (2000)\ttotal: 8.62s\tremaining: 4.3s\n",
            "2200:\tlearn: 0.6454838\ttest: 0.6680138\tbest: 0.6680138 (2200)\ttotal: 9.47s\tremaining: 3.44s\n",
            "2400:\tlearn: 0.6420727\ttest: 0.6665008\tbest: 0.6665008 (2400)\ttotal: 10.3s\tremaining: 2.57s\n",
            "2600:\tlearn: 0.6389001\ttest: 0.6653767\tbest: 0.6653767 (2600)\ttotal: 11.2s\tremaining: 1.72s\n",
            "2800:\tlearn: 0.6360436\ttest: 0.6644582\tbest: 0.6644582 (2800)\ttotal: 12.1s\tremaining: 858ms\n",
            "2999:\tlearn: 0.6333470\ttest: 0.6636626\tbest: 0.6636611 (2998)\ttotal: 12.9s\tremaining: 0us\n",
            "\n",
            "bestTest = 0.6636611253\n",
            "bestIteration = 2998\n",
            "\n",
            "Shrink model to first 2999 iterations.\n",
            "\n",
            "AV metric score for validation set is 663.6611273354283\n",
            "\n",
            "------------- Fold 4 -------------\n",
            "0:\tlearn: 1.9148456\ttest: 1.9132496\tbest: 1.9132496 (0)\ttotal: 4.62ms\tremaining: 13.9s\n",
            "200:\tlearn: 0.8431977\ttest: 0.8412562\tbest: 0.8412562 (200)\ttotal: 862ms\tremaining: 12s\n",
            "400:\tlearn: 0.7337310\ttest: 0.7331794\tbest: 0.7331794 (400)\ttotal: 1.72s\tremaining: 11.2s\n",
            "600:\tlearn: 0.7090460\ttest: 0.7097344\tbest: 0.7097344 (600)\ttotal: 2.56s\tremaining: 10.2s\n",
            "800:\tlearn: 0.6947106\ttest: 0.6971549\tbest: 0.6971549 (800)\ttotal: 3.4s\tremaining: 9.35s\n",
            "1000:\tlearn: 0.6838026\ttest: 0.6884343\tbest: 0.6884343 (1000)\ttotal: 4.25s\tremaining: 8.49s\n",
            "1200:\tlearn: 0.6744362\ttest: 0.6816071\tbest: 0.6816071 (1200)\ttotal: 5.1s\tremaining: 7.63s\n",
            "1400:\tlearn: 0.6663815\ttest: 0.6761546\tbest: 0.6761546 (1400)\ttotal: 6.01s\tremaining: 6.86s\n",
            "1600:\tlearn: 0.6600768\ttest: 0.6723614\tbest: 0.6723614 (1600)\ttotal: 6.88s\tremaining: 6.01s\n",
            "1800:\tlearn: 0.6546965\ttest: 0.6691065\tbest: 0.6691065 (1800)\ttotal: 7.74s\tremaining: 5.15s\n",
            "2000:\tlearn: 0.6500713\ttest: 0.6667331\tbest: 0.6667331 (2000)\ttotal: 8.63s\tremaining: 4.31s\n",
            "2200:\tlearn: 0.6460904\ttest: 0.6646946\tbest: 0.6646946 (2200)\ttotal: 9.5s\tremaining: 3.45s\n",
            "2400:\tlearn: 0.6425891\ttest: 0.6630004\tbest: 0.6630004 (2400)\ttotal: 10.3s\tremaining: 2.58s\n",
            "2600:\tlearn: 0.6395186\ttest: 0.6618048\tbest: 0.6618048 (2600)\ttotal: 11.2s\tremaining: 1.72s\n",
            "2800:\tlearn: 0.6367622\ttest: 0.6605738\tbest: 0.6605738 (2800)\ttotal: 12.1s\tremaining: 858ms\n",
            "2999:\tlearn: 0.6341184\ttest: 0.6596705\tbest: 0.6596705 (2999)\ttotal: 12.9s\tremaining: 0us\n",
            "\n",
            "bestTest = 0.6596704874\n",
            "bestIteration = 2999\n",
            "\n",
            "\n",
            "AV metric score for validation set is 659.6704917786057\n",
            "\n",
            "------------- Fold 5 -------------\n",
            "0:\tlearn: 1.9129559\ttest: 1.9205938\tbest: 1.9205938 (0)\ttotal: 4.59ms\tremaining: 13.8s\n",
            "200:\tlearn: 0.8411112\ttest: 0.8465135\tbest: 0.8465135 (200)\ttotal: 861ms\tremaining: 12s\n",
            "400:\tlearn: 0.7318725\ttest: 0.7387401\tbest: 0.7387401 (400)\ttotal: 1.73s\tremaining: 11.2s\n",
            "600:\tlearn: 0.7067608\ttest: 0.7158236\tbest: 0.7158236 (600)\ttotal: 2.64s\tremaining: 10.5s\n",
            "800:\tlearn: 0.6920012\ttest: 0.7031806\tbest: 0.7031806 (800)\ttotal: 3.49s\tremaining: 9.57s\n",
            "1000:\tlearn: 0.6812983\ttest: 0.6946471\tbest: 0.6946471 (1000)\ttotal: 4.34s\tremaining: 8.66s\n",
            "1200:\tlearn: 0.6721317\ttest: 0.6875761\tbest: 0.6875761 (1200)\ttotal: 5.19s\tremaining: 7.77s\n",
            "1400:\tlearn: 0.6647845\ttest: 0.6824983\tbest: 0.6824983 (1400)\ttotal: 6.05s\tremaining: 6.9s\n",
            "1600:\tlearn: 0.6586835\ttest: 0.6787441\tbest: 0.6787441 (1600)\ttotal: 6.91s\tremaining: 6.03s\n",
            "1800:\tlearn: 0.6537257\ttest: 0.6760045\tbest: 0.6760045 (1800)\ttotal: 7.76s\tremaining: 5.16s\n",
            "2000:\tlearn: 0.6493984\ttest: 0.6737584\tbest: 0.6737584 (2000)\ttotal: 8.62s\tremaining: 4.3s\n",
            "2200:\tlearn: 0.6456967\ttest: 0.6719438\tbest: 0.6719438 (2200)\ttotal: 9.48s\tremaining: 3.44s\n",
            "2400:\tlearn: 0.6422959\ttest: 0.6705308\tbest: 0.6705308 (2400)\ttotal: 10.3s\tremaining: 2.58s\n",
            "2600:\tlearn: 0.6392454\ttest: 0.6693295\tbest: 0.6693295 (2600)\ttotal: 11.2s\tremaining: 1.72s\n",
            "2800:\tlearn: 0.6363476\ttest: 0.6683361\tbest: 0.6683361 (2800)\ttotal: 12.1s\tremaining: 857ms\n",
            "2999:\tlearn: 0.6336030\ttest: 0.6673032\tbest: 0.6673032 (2999)\ttotal: 13s\tremaining: 0us\n",
            "\n",
            "bestTest = 0.6673031753\n",
            "bestIteration = 2999\n",
            "\n",
            "\n",
            "AV metric score for validation set is 667.3031740566428\n",
            "\n",
            "\n",
            "AV metric for oofs is 665.039850627486\n"
          ],
          "name": "stdout"
        },
        {
          "output_type": "display_data",
          "data": {
            "image/png": "[encoded data removed]",
            "text/plain": [
              "<Figure size 864x432 with 1 Axes>"
            ]
          },
          "metadata": {
            "tags": []
          }
        }
      ]
    },
    {
      "cell_type": "markdown",
      "metadata": {
        "id": "t29m9CIwD2oR"
      },
      "source": [
        "**Submitting on the Leaderboard**"
      ]
    },
    {
      "cell_type": "code",
      "metadata": {
        "id": "EsYbc9qlD2oS",
        "outputId": "c25eba49-aef6-422c-f16f-29d5aeec499f",
        "colab": {
          "base_uri": "https://localhost:8080/",
          "height": 17
        }
      },
      "source": [
        "cb_preds_t = np.expm1(cb_preds)\n",
        "download_preds(cb_preds_t, file_name = 'hacklive_cb_folds.csv')"
      ],
      "execution_count": null,
      "outputs": [
        {
          "output_type": "display_data",
          "data": {
            "application/javascript": [
              "\n",
              "    async function download(id, filename, size) {\n",
              "      if (!google.colab.kernel.accessAllowed) {\n",
              "        return;\n",
              "      }\n",
              "      const div = document.createElement('div');\n",
              "      const label = document.createElement('label');\n",
              "      label.textContent = `Downloading \"${filename}\": `;\n",
              "      div.appendChild(label);\n",
              "      const progress = document.createElement('progress');\n",
              "      progress.max = size;\n",
              "      div.appendChild(progress);\n",
              "      document.body.appendChild(div);\n",
              "\n",
              "      const buffers = [];\n",
              "      let downloaded = 0;\n",
              "\n",
              "      const channel = await google.colab.kernel.comms.open(id);\n",
              "      // Send a message to notify the kernel that we're ready.\n",
              "      channel.send({})\n",
              "\n",
              "      for await (const message of channel.messages) {\n",
              "        // Send a message to notify the kernel that we're ready.\n",
              "        channel.send({})\n",
              "        if (message.buffers) {\n",
              "          for (const buffer of message.buffers) {\n",
              "            buffers.push(buffer);\n",
              "            downloaded += buffer.byteLength;\n",
              "            progress.value = downloaded;\n",
              "          }\n",
              "        }\n",
              "      }\n",
              "      const blob = new Blob(buffers, {type: 'application/binary'});\n",
              "      const a = document.createElement('a');\n",
              "      a.href = window.URL.createObjectURL(blob);\n",
              "      a.download = filename;\n",
              "      div.appendChild(a);\n",
              "      a.click();\n",
              "      div.remove();\n",
              "    }\n",
              "  "
            ],
            "text/plain": [
              "<IPython.core.display.Javascript object>"
            ]
          },
          "metadata": {
            "tags": []
          }
        },
        {
          "output_type": "display_data",
          "data": {
            "application/javascript": [
              "download(\"download_73da8510-5fe1-4693-b0c8-8d93ceaf6f97\", \"hacklive_cb_folds.csv\", 270821)"
            ],
            "text/plain": [
              "<IPython.core.display.Javascript object>"
            ]
          },
          "metadata": {
            "tags": []
          }
        }
      ]
    },
    {
      "cell_type": "code",
      "metadata": {
        "id": "x5EVWZtyYUJM",
        "outputId": "23da92d7-b5ac-4d58-d27c-f609de9d0d31",
        "colab": {
          "base_uri": "https://localhost:8080/",
          "height": 415
        }
      },
      "source": [
        "pd.read_csv('hacklive_cb_folds.csv')"
      ],
      "execution_count": null,
      "outputs": [
        {
          "output_type": "execute_result",
          "data": {
            "text/html": [
              "<div>\n",
              "<style scoped>\n",
              "    .dataframe tbody tr th:only-of-type {\n",
              "        vertical-align: middle;\n",
              "    }\n",
              "\n",
              "    .dataframe tbody tr th {\n",
              "        vertical-align: top;\n",
              "    }\n",
              "\n",
              "    .dataframe thead th {\n",
              "        text-align: right;\n",
              "    }\n",
              "</style>\n",
              "<table border=\"1\" class=\"dataframe\">\n",
              "  <thead>\n",
              "    <tr style=\"text-align: right;\">\n",
              "      <th></th>\n",
              "      <th>video_id</th>\n",
              "      <th>likes</th>\n",
              "    </tr>\n",
              "  </thead>\n",
              "  <tbody>\n",
              "    <tr>\n",
              "      <th>0</th>\n",
              "      <td>87185</td>\n",
              "      <td>620.776036</td>\n",
              "    </tr>\n",
              "    <tr>\n",
              "      <th>1</th>\n",
              "      <td>9431</td>\n",
              "      <td>2224.582218</td>\n",
              "    </tr>\n",
              "    <tr>\n",
              "      <th>2</th>\n",
              "      <td>40599</td>\n",
              "      <td>66.015509</td>\n",
              "    </tr>\n",
              "    <tr>\n",
              "      <th>3</th>\n",
              "      <td>494</td>\n",
              "      <td>3590.268024</td>\n",
              "    </tr>\n",
              "    <tr>\n",
              "      <th>4</th>\n",
              "      <td>73942</td>\n",
              "      <td>1013.820616</td>\n",
              "    </tr>\n",
              "    <tr>\n",
              "      <th>...</th>\n",
              "      <td>...</td>\n",
              "      <td>...</td>\n",
              "    </tr>\n",
              "    <tr>\n",
              "      <th>11165</th>\n",
              "      <td>19415</td>\n",
              "      <td>1326.371005</td>\n",
              "    </tr>\n",
              "    <tr>\n",
              "      <th>11166</th>\n",
              "      <td>25168</td>\n",
              "      <td>5228.239236</td>\n",
              "    </tr>\n",
              "    <tr>\n",
              "      <th>11167</th>\n",
              "      <td>80293</td>\n",
              "      <td>6845.730614</td>\n",
              "    </tr>\n",
              "    <tr>\n",
              "      <th>11168</th>\n",
              "      <td>80880</td>\n",
              "      <td>7252.059914</td>\n",
              "    </tr>\n",
              "    <tr>\n",
              "      <th>11169</th>\n",
              "      <td>6514</td>\n",
              "      <td>3983.111064</td>\n",
              "    </tr>\n",
              "  </tbody>\n",
              "</table>\n",
              "<p>11170 rows × 2 columns</p>\n",
              "</div>"
            ],
            "text/plain": [
              "       video_id        likes\n",
              "0         87185   620.776036\n",
              "1          9431  2224.582218\n",
              "2         40599    66.015509\n",
              "3           494  3590.268024\n",
              "4         73942  1013.820616\n",
              "...         ...          ...\n",
              "11165     19415  1326.371005\n",
              "11166     25168  5228.239236\n",
              "11167     80293  6845.730614\n",
              "11168     80880  7252.059914\n",
              "11169      6514  3983.111064\n",
              "\n",
              "[11170 rows x 2 columns]"
            ]
          },
          "metadata": {
            "tags": []
          },
          "execution_count": 148
        }
      ]
    },
    {
      "cell_type": "markdown",
      "metadata": {
        "id": "YvlYPqZOEVxC"
      },
      "source": [
        "**CatBoost: gives Visible Improvement.**\n",
        "\n",
        "* Is catboost better then LightGBM ?\n",
        "* Can catboost score be further improved ?\n",
        "* Can LighGBM be tuned to give a better score than CatBoost ?"
      ]
    },
    {
      "cell_type": "markdown",
      "metadata": {
        "id": "42tlvle-rozE"
      },
      "source": [
        "## **XGBoost**\n",
        "\n",
        "XGBoost is an optimized distributed gradient boosting library designed to be highly efficient, flexible and portable. It implements machine learning algorithms under the Gradient Boosting framework. XGBoost provides a parallel tree boosting (also known as GBDT, GBM) that solve many data science problems in a fast and accurate way. The same code runs on major distributed environment (Hadoop, SGE, MPI) and can solve problems beyond billions of examples.\n",
        "\n",
        "https://xgboost.readthedocs.io/en/latest/"
      ]
    },
    {
      "cell_type": "code",
      "metadata": {
        "id": "tVqJWl1dEEx2",
        "outputId": "356de63c-af09-4047-c98d-4232d17f1ecb",
        "colab": {
          "base_uri": "https://localhost:8080/",
          "height": 1000
        }
      },
      "source": [
        "clf = XGBRegressor(n_estimators = 1000,\n",
        "                    max_depth = 6,\n",
        "                    learning_rate = 0.05,\n",
        "                    colsample_bytree = 0.5,\n",
        "                    random_state=1452,\n",
        "                    )\n",
        "\n",
        "fit_params = {'verbose': 200, 'early_stopping_rounds': 200}\n",
        "\n",
        "xgb_oofs, xgb_preds, fi = run_gradient_boosting(clf, fit_params, train_proc, test_proc, cat_num_cols)"
      ],
      "execution_count": null,
      "outputs": [
        {
          "output_type": "stream",
          "text": [
            "\n",
            "------------- Fold 1 -------------\n",
            "[07:36:44] WARNING: /workspace/src/objective/regression_obj.cu:152: reg:linear is now deprecated in favor of reg:squarederror.\n",
            "[0]\tvalidation_0-rmse:7.13914\n",
            "Will train until validation_0-rmse hasn't improved in 200 rounds.\n",
            "[200]\tvalidation_0-rmse:0.675344\n",
            "[400]\tvalidation_0-rmse:0.668702\n",
            "[600]\tvalidation_0-rmse:0.666931\n",
            "[800]\tvalidation_0-rmse:0.666898\n",
            "Stopping. Best iteration:\n",
            "[736]\tvalidation_0-rmse:0.666675\n",
            "\n",
            "\n",
            "AV metric score for validation set is 666.6752519026531\n",
            "\n",
            "------------- Fold 2 -------------\n",
            "[07:37:05] WARNING: /workspace/src/objective/regression_obj.cu:152: reg:linear is now deprecated in favor of reg:squarederror.\n",
            "[0]\tvalidation_0-rmse:7.12698\n",
            "Will train until validation_0-rmse hasn't improved in 200 rounds.\n",
            "[200]\tvalidation_0-rmse:0.687736\n",
            "[400]\tvalidation_0-rmse:0.680454\n",
            "[600]\tvalidation_0-rmse:0.679159\n",
            "[800]\tvalidation_0-rmse:0.678962\n",
            "Stopping. Best iteration:\n",
            "[790]\tvalidation_0-rmse:0.678721\n",
            "\n",
            "\n",
            "AV metric score for validation set is 678.7210554498439\n",
            "\n",
            "------------- Fold 3 -------------\n",
            "[07:37:27] WARNING: /workspace/src/objective/regression_obj.cu:152: reg:linear is now deprecated in favor of reg:squarederror.\n",
            "[0]\tvalidation_0-rmse:7.1196\n",
            "Will train until validation_0-rmse hasn't improved in 200 rounds.\n",
            "[200]\tvalidation_0-rmse:0.680665\n",
            "[400]\tvalidation_0-rmse:0.673414\n",
            "[600]\tvalidation_0-rmse:0.672737\n",
            "Stopping. Best iteration:\n",
            "[568]\tvalidation_0-rmse:0.672578\n",
            "\n",
            "\n",
            "AV metric score for validation set is 672.5774899610437\n",
            "\n",
            "------------- Fold 4 -------------\n",
            "[07:37:44] WARNING: /workspace/src/objective/regression_obj.cu:152: reg:linear is now deprecated in favor of reg:squarederror.\n",
            "[0]\tvalidation_0-rmse:7.12104\n",
            "Will train until validation_0-rmse hasn't improved in 200 rounds.\n",
            "[200]\tvalidation_0-rmse:0.672998\n",
            "[400]\tvalidation_0-rmse:0.667772\n",
            "[600]\tvalidation_0-rmse:0.667139\n",
            "Stopping. Best iteration:\n",
            "[515]\tvalidation_0-rmse:0.666906\n",
            "\n",
            "\n",
            "AV metric score for validation set is 666.9056915032018\n",
            "\n",
            "------------- Fold 5 -------------\n",
            "[07:37:59] WARNING: /workspace/src/objective/regression_obj.cu:152: reg:linear is now deprecated in favor of reg:squarederror.\n",
            "[0]\tvalidation_0-rmse:7.11941\n",
            "Will train until validation_0-rmse hasn't improved in 200 rounds.\n",
            "[200]\tvalidation_0-rmse:0.681365\n",
            "[400]\tvalidation_0-rmse:0.675628\n",
            "[600]\tvalidation_0-rmse:0.675027\n",
            "Stopping. Best iteration:\n",
            "[499]\tvalidation_0-rmse:0.674595\n",
            "\n",
            "\n",
            "AV metric score for validation set is 674.5948973476245\n",
            "\n",
            "\n",
            "AV metric for oofs is 671.9105260280289\n"
          ],
          "name": "stdout"
        },
        {
          "output_type": "display_data",
          "data": {
            "image/png": "[encoded data removed]",
            "text/plain": [
              "<Figure size 864x432 with 1 Axes>"
            ]
          },
          "metadata": {
            "tags": []
          }
        }
      ]
    },
    {
      "cell_type": "markdown",
      "metadata": {
        "id": "mSAaaCTPETqt"
      },
      "source": [
        "**Submitting on the Leaderboard**"
      ]
    },
    {
      "cell_type": "code",
      "metadata": {
        "id": "Hq1RGFdEETqu",
        "outputId": "de1b501d-31a3-4665-c80c-c8ee7147fba2",
        "colab": {
          "base_uri": "https://localhost:8080/",
          "height": 17
        }
      },
      "source": [
        "xgb_preds_t = np.expm1(xgb_preds)\n",
        "download_preds(xgb_preds_t, file_name = 'hacklive_xgb_5_folds.csv')"
      ],
      "execution_count": null,
      "outputs": [
        {
          "output_type": "display_data",
          "data": {
            "application/javascript": [
              "\n",
              "    async function download(id, filename, size) {\n",
              "      if (!google.colab.kernel.accessAllowed) {\n",
              "        return;\n",
              "      }\n",
              "      const div = document.createElement('div');\n",
              "      const label = document.createElement('label');\n",
              "      label.textContent = `Downloading \"${filename}\": `;\n",
              "      div.appendChild(label);\n",
              "      const progress = document.createElement('progress');\n",
              "      progress.max = size;\n",
              "      div.appendChild(progress);\n",
              "      document.body.appendChild(div);\n",
              "\n",
              "      const buffers = [];\n",
              "      let downloaded = 0;\n",
              "\n",
              "      const channel = await google.colab.kernel.comms.open(id);\n",
              "      // Send a message to notify the kernel that we're ready.\n",
              "      channel.send({})\n",
              "\n",
              "      for await (const message of channel.messages) {\n",
              "        // Send a message to notify the kernel that we're ready.\n",
              "        channel.send({})\n",
              "        if (message.buffers) {\n",
              "          for (const buffer of message.buffers) {\n",
              "            buffers.push(buffer);\n",
              "            downloaded += buffer.byteLength;\n",
              "            progress.value = downloaded;\n",
              "          }\n",
              "        }\n",
              "      }\n",
              "      const blob = new Blob(buffers, {type: 'application/binary'});\n",
              "      const a = document.createElement('a');\n",
              "      a.href = window.URL.createObjectURL(blob);\n",
              "      a.download = filename;\n",
              "      div.appendChild(a);\n",
              "      a.click();\n",
              "      div.remove();\n",
              "    }\n",
              "  "
            ],
            "text/plain": [
              "<IPython.core.display.Javascript object>"
            ]
          },
          "metadata": {
            "tags": []
          }
        },
        {
          "output_type": "display_data",
          "data": {
            "application/javascript": [
              "download(\"download_da1e6ccc-3dc2-4195-b75e-7b5a05557735\", \"hacklive_xgb_5_folds.csv\", 270860)"
            ],
            "text/plain": [
              "<IPython.core.display.Javascript object>"
            ]
          },
          "metadata": {
            "tags": []
          }
        }
      ]
    },
    {
      "cell_type": "markdown",
      "metadata": {
        "id": "g4Glb4dnFfXW"
      },
      "source": [
        "**Questions to think about XGBoost**\n",
        "\n",
        "* Is XGBoost worse than LightGBM and CatBoost ?\n",
        "\n",
        "* Can XGBoost be tuned more ?\n",
        "\n"
      ]
    },
    {
      "cell_type": "markdown",
      "metadata": {
        "id": "8WpLrUsPE2YK"
      },
      "source": [
        "# **Feature Engineering**"
      ]
    },
    {
      "cell_type": "markdown",
      "metadata": {
        "id": "VnrlVMNmE2YL"
      },
      "source": [
        "* What does a model know about a sample ?\n",
        "\n",
        "* What the model does not know about the sample ?\n",
        "\n",
        "* How do we provide that unknown information to the model ?\n",
        "\n",
        "\n",
        "***Feature Engineering is one of the biggest difference maker in any ML competition.*** "
      ]
    },
    {
      "cell_type": "markdown",
      "metadata": {
        "id": "UNsKoe8dE2YM"
      },
      "source": [
        "<br>\n",
        "<br>\n",
        "\n",
        "**Helper Functions**"
      ]
    },
    {
      "cell_type": "code",
      "metadata": {
        "id": "qtEXT1g-E2YM"
      },
      "source": [
        "def join_df(train, test):\n",
        "\n",
        "  df = pd.concat([train, test], axis=0).reset_index(drop = True)\n",
        "  features = [c for c in df.columns if c not in [ID_COL, TARGET_COL]]\n",
        "  df[num_cols + ['likes']] = df[num_cols + ['likes']].apply(lambda x: np.log1p(x))\n",
        "\n",
        "  return df, features\n",
        "\n",
        "def split_df_and_get_features(df, train_nrows):\n",
        "\n",
        "  train, test = df[:train_nrows].reset_index(drop = True), df[train_nrows:].reset_index(drop = True)\n",
        "  features = [c for c in train.columns if c not in [ID_COL, TARGET_COL]]\n",
        "  \n",
        "  return train, test, features"
      ],
      "execution_count": null,
      "outputs": []
    },
    {
      "cell_type": "code",
      "metadata": {
        "id": "k4IQMVuAG2Jg"
      },
      "source": [
        "df, features = join_df(train, test)"
      ],
      "execution_count": null,
      "outputs": []
    },
    {
      "cell_type": "code",
      "metadata": {
        "id": "tF2tqFklaE1d"
      },
      "source": [
        "cat_cols = ['category_id', 'country_code', 'channel_title']"
      ],
      "execution_count": null,
      "outputs": []
    },
    {
      "cell_type": "markdown",
      "metadata": {
        "id": "oPROiDRqav53"
      },
      "source": [
        "**Why Label Encoding ?**"
      ]
    },
    {
      "cell_type": "code",
      "metadata": {
        "id": "bh5kYTFlHFwo"
      },
      "source": [
        "### Label Encoding\n",
        "df[cat_cols] = df[cat_cols].apply(lambda x: pd.factorize(x)[0])"
      ],
      "execution_count": null,
      "outputs": []
    },
    {
      "cell_type": "markdown",
      "metadata": {
        "id": "ZwJV5InxNrwp"
      },
      "source": [
        "**DATE TIME FEATURES**"
      ]
    },
    {
      "cell_type": "code",
      "metadata": {
        "id": "FJd-DNVuHlxI"
      },
      "source": [
        "df['publish_date'] = pd.to_datetime(df['publish_date'], format='%Y-%m-%d')\n",
        "df['publish_date_days_since_start'] = (df['publish_date'] - df['publish_date'].min()).dt.days\n",
        "\n",
        "df['publish_date_day_of_week'] = df['publish_date'].dt.dayofweek\n",
        "df['publish_date_year'] = df['publish_date'].dt.year\n",
        "df['publish_date_month'] = df['publish_date'].dt.month"
      ],
      "execution_count": null,
      "outputs": []
    },
    {
      "cell_type": "code",
      "metadata": {
        "id": "GK4qKjNgIrQ4"
      },
      "source": [
        "features = [c for c in df.columns if c not in [ID_COL, TARGET_COL]]\n",
        "cat_num_cols = [c for c in features if c not in ['title', 'tags', 'description', 'publish_date']]"
      ],
      "execution_count": null,
      "outputs": []
    },
    {
      "cell_type": "code",
      "metadata": {
        "id": "d1tvAHwGN9VJ",
        "outputId": "a001fe74-bafc-4b8f-959f-18a6c19dddd4",
        "colab": {
          "base_uri": "https://localhost:8080/",
          "height": 191
        }
      },
      "source": [
        "cat_num_cols"
      ],
      "execution_count": null,
      "outputs": [
        {
          "output_type": "execute_result",
          "data": {
            "text/plain": [
              "['channel_title',\n",
              " 'category_id',\n",
              " 'views',\n",
              " 'dislikes',\n",
              " 'comment_count',\n",
              " 'country_code',\n",
              " 'publish_date_days_since_start',\n",
              " 'publish_date_day_of_week',\n",
              " 'publish_date_year',\n",
              " 'publish_date_month']"
            ]
          },
          "metadata": {
            "tags": []
          },
          "execution_count": 158
        }
      ]
    },
    {
      "cell_type": "code",
      "metadata": {
        "id": "kH6RJAfwJOJK"
      },
      "source": [
        "train_proc, test_proc, features = split_df_and_get_features(df, train.shape[0])"
      ],
      "execution_count": null,
      "outputs": []
    },
    {
      "cell_type": "code",
      "metadata": {
        "id": "WCvhH3qMI820",
        "outputId": "fa94afbc-0887-45e5-d86b-967ecc195662",
        "colab": {
          "base_uri": "https://localhost:8080/",
          "height": 1000
        }
      },
      "source": [
        "clf = LGBMRegressor(n_estimators = 5000,\n",
        "                        learning_rate = 0.05,\n",
        "                        colsample_bytree = 0.65,\n",
        "                        metric = 'None',\n",
        "                        )\n",
        "fit_params = {'verbose': 300, 'early_stopping_rounds': 200, 'eval_metric': 'rmse'}\n",
        "\n",
        "lgb_oofs, lgb_preds, fi = run_gradient_boosting(clf, fit_params, train_proc, test_proc, cat_num_cols)"
      ],
      "execution_count": null,
      "outputs": [
        {
          "output_type": "stream",
          "text": [
            "\n",
            "------------- Fold 1 -------------\n",
            "Training until validation scores don't improve for 200 rounds.\n",
            "[300]\tvalid_0's rmse: 0.632226\n",
            "[600]\tvalid_0's rmse: 0.61216\n",
            "[900]\tvalid_0's rmse: 0.603608\n",
            "[1200]\tvalid_0's rmse: 0.598652\n",
            "[1500]\tvalid_0's rmse: 0.596547\n",
            "[1800]\tvalid_0's rmse: 0.594728\n",
            "[2100]\tvalid_0's rmse: 0.593298\n",
            "[2400]\tvalid_0's rmse: 0.592479\n",
            "[2700]\tvalid_0's rmse: 0.591633\n",
            "Early stopping, best iteration is:\n",
            "[2632]\tvalid_0's rmse: 0.591455\n",
            "\n",
            "AV metric score for validation set is 591.4551038851612\n",
            "\n",
            "------------- Fold 2 -------------\n",
            "Training until validation scores don't improve for 200 rounds.\n",
            "[300]\tvalid_0's rmse: 0.641797\n",
            "[600]\tvalid_0's rmse: 0.62382\n",
            "[900]\tvalid_0's rmse: 0.613848\n",
            "[1200]\tvalid_0's rmse: 0.609342\n",
            "[1500]\tvalid_0's rmse: 0.606363\n",
            "[1800]\tvalid_0's rmse: 0.604763\n",
            "[2100]\tvalid_0's rmse: 0.603543\n",
            "[2400]\tvalid_0's rmse: 0.603089\n",
            "[2700]\tvalid_0's rmse: 0.603023\n",
            "Early stopping, best iteration is:\n",
            "[2589]\tvalid_0's rmse: 0.602773\n",
            "\n",
            "AV metric score for validation set is 602.7726568732737\n",
            "\n",
            "------------- Fold 3 -------------\n",
            "Training until validation scores don't improve for 200 rounds.\n",
            "[300]\tvalid_0's rmse: 0.623409\n",
            "[600]\tvalid_0's rmse: 0.604857\n",
            "[900]\tvalid_0's rmse: 0.595979\n",
            "[1200]\tvalid_0's rmse: 0.591608\n",
            "[1500]\tvalid_0's rmse: 0.589281\n",
            "[1800]\tvalid_0's rmse: 0.588172\n",
            "[2100]\tvalid_0's rmse: 0.587217\n",
            "Early stopping, best iteration is:\n",
            "[1941]\tvalid_0's rmse: 0.586898\n",
            "\n",
            "AV metric score for validation set is 586.8978373576713\n",
            "\n",
            "------------- Fold 4 -------------\n",
            "Training until validation scores don't improve for 200 rounds.\n",
            "[300]\tvalid_0's rmse: 0.618017\n",
            "[600]\tvalid_0's rmse: 0.597556\n",
            "[900]\tvalid_0's rmse: 0.588667\n",
            "[1200]\tvalid_0's rmse: 0.58433\n",
            "[1500]\tvalid_0's rmse: 0.582682\n",
            "[1800]\tvalid_0's rmse: 0.581468\n",
            "[2100]\tvalid_0's rmse: 0.580165\n",
            "[2400]\tvalid_0's rmse: 0.57949\n",
            "[2700]\tvalid_0's rmse: 0.578613\n",
            "[3000]\tvalid_0's rmse: 0.578759\n",
            "Early stopping, best iteration is:\n",
            "[2907]\tvalid_0's rmse: 0.578436\n",
            "\n",
            "AV metric score for validation set is 578.436484908081\n",
            "\n",
            "------------- Fold 5 -------------\n",
            "Training until validation scores don't improve for 200 rounds.\n",
            "[300]\tvalid_0's rmse: 0.628899\n",
            "[600]\tvalid_0's rmse: 0.612028\n",
            "[900]\tvalid_0's rmse: 0.606425\n",
            "[1200]\tvalid_0's rmse: 0.602738\n",
            "[1500]\tvalid_0's rmse: 0.599337\n",
            "Early stopping, best iteration is:\n",
            "[1593]\tvalid_0's rmse: 0.598692\n",
            "\n",
            "AV metric score for validation set is 598.6920220381694\n",
            "\n",
            "\n",
            "AV metric for oofs is 591.7134328309735\n"
          ],
          "name": "stdout"
        },
        {
          "output_type": "display_data",
          "data": {
            "image/png": "[encoded data removed]",
            "text/plain": [
              "<Figure size 864x432 with 1 Axes>"
            ]
          },
          "metadata": {
            "tags": []
          }
        }
      ]
    },
    {
      "cell_type": "markdown",
      "metadata": {
        "id": "6aCViRavepM4"
      },
      "source": [
        "**Submitting on the Leaderboard**"
      ]
    },
    {
      "cell_type": "code",
      "metadata": {
        "id": "lnBBkDgoepM5",
        "outputId": "d2d526a1-0408-4f7a-b731-75bc67f398c4",
        "colab": {
          "base_uri": "https://localhost:8080/",
          "height": 17
        }
      },
      "source": [
        "lgb_preds_t = np.expm1(lgb_preds)\n",
        "download_preds(lgb_preds_t, file_name = 'hacklive_lgb_fe.csv')"
      ],
      "execution_count": null,
      "outputs": [
        {
          "output_type": "display_data",
          "data": {
            "application/javascript": [
              "\n",
              "    async function download(id, filename, size) {\n",
              "      if (!google.colab.kernel.accessAllowed) {\n",
              "        return;\n",
              "      }\n",
              "      const div = document.createElement('div');\n",
              "      const label = document.createElement('label');\n",
              "      label.textContent = `Downloading \"${filename}\": `;\n",
              "      div.appendChild(label);\n",
              "      const progress = document.createElement('progress');\n",
              "      progress.max = size;\n",
              "      div.appendChild(progress);\n",
              "      document.body.appendChild(div);\n",
              "\n",
              "      const buffers = [];\n",
              "      let downloaded = 0;\n",
              "\n",
              "      const channel = await google.colab.kernel.comms.open(id);\n",
              "      // Send a message to notify the kernel that we're ready.\n",
              "      channel.send({})\n",
              "\n",
              "      for await (const message of channel.messages) {\n",
              "        // Send a message to notify the kernel that we're ready.\n",
              "        channel.send({})\n",
              "        if (message.buffers) {\n",
              "          for (const buffer of message.buffers) {\n",
              "            buffers.push(buffer);\n",
              "            downloaded += buffer.byteLength;\n",
              "            progress.value = downloaded;\n",
              "          }\n",
              "        }\n",
              "      }\n",
              "      const blob = new Blob(buffers, {type: 'application/binary'});\n",
              "      const a = document.createElement('a');\n",
              "      a.href = window.URL.createObjectURL(blob);\n",
              "      a.download = filename;\n",
              "      div.appendChild(a);\n",
              "      a.click();\n",
              "      div.remove();\n",
              "    }\n",
              "  "
            ],
            "text/plain": [
              "<IPython.core.display.Javascript object>"
            ]
          },
          "metadata": {
            "tags": []
          }
        },
        {
          "output_type": "display_data",
          "data": {
            "application/javascript": [
              "download(\"download_a600daf0-d3ed-45cd-aadd-154b67b67067\", \"hacklive_lgb_fe.csv\", 270939)"
            ],
            "text/plain": [
              "<IPython.core.display.Javascript object>"
            ]
          },
          "metadata": {
            "tags": []
          }
        }
      ]
    },
    {
      "cell_type": "code",
      "metadata": {
        "id": "OGXbgtDZcFGa",
        "outputId": "371dffff-749a-435f-9d45-894a34ce9706",
        "colab": {
          "base_uri": "https://localhost:8080/",
          "height": 415
        }
      },
      "source": [
        "pd.read_csv('hacklive_lgb_fe.csv')"
      ],
      "execution_count": null,
      "outputs": [
        {
          "output_type": "execute_result",
          "data": {
            "text/html": [
              "<div>\n",
              "<style scoped>\n",
              "    .dataframe tbody tr th:only-of-type {\n",
              "        vertical-align: middle;\n",
              "    }\n",
              "\n",
              "    .dataframe tbody tr th {\n",
              "        vertical-align: top;\n",
              "    }\n",
              "\n",
              "    .dataframe thead th {\n",
              "        text-align: right;\n",
              "    }\n",
              "</style>\n",
              "<table border=\"1\" class=\"dataframe\">\n",
              "  <thead>\n",
              "    <tr style=\"text-align: right;\">\n",
              "      <th></th>\n",
              "      <th>video_id</th>\n",
              "      <th>likes</th>\n",
              "    </tr>\n",
              "  </thead>\n",
              "  <tbody>\n",
              "    <tr>\n",
              "      <th>0</th>\n",
              "      <td>87185</td>\n",
              "      <td>568.235862</td>\n",
              "    </tr>\n",
              "    <tr>\n",
              "      <th>1</th>\n",
              "      <td>9431</td>\n",
              "      <td>2066.377645</td>\n",
              "    </tr>\n",
              "    <tr>\n",
              "      <th>2</th>\n",
              "      <td>40599</td>\n",
              "      <td>37.649187</td>\n",
              "    </tr>\n",
              "    <tr>\n",
              "      <th>3</th>\n",
              "      <td>494</td>\n",
              "      <td>3757.871204</td>\n",
              "    </tr>\n",
              "    <tr>\n",
              "      <th>4</th>\n",
              "      <td>73942</td>\n",
              "      <td>741.771063</td>\n",
              "    </tr>\n",
              "    <tr>\n",
              "      <th>...</th>\n",
              "      <td>...</td>\n",
              "      <td>...</td>\n",
              "    </tr>\n",
              "    <tr>\n",
              "      <th>11165</th>\n",
              "      <td>19415</td>\n",
              "      <td>1540.362329</td>\n",
              "    </tr>\n",
              "    <tr>\n",
              "      <th>11166</th>\n",
              "      <td>25168</td>\n",
              "      <td>4155.892593</td>\n",
              "    </tr>\n",
              "    <tr>\n",
              "      <th>11167</th>\n",
              "      <td>80293</td>\n",
              "      <td>7949.698768</td>\n",
              "    </tr>\n",
              "    <tr>\n",
              "      <th>11168</th>\n",
              "      <td>80880</td>\n",
              "      <td>6206.966633</td>\n",
              "    </tr>\n",
              "    <tr>\n",
              "      <th>11169</th>\n",
              "      <td>6514</td>\n",
              "      <td>3914.570473</td>\n",
              "    </tr>\n",
              "  </tbody>\n",
              "</table>\n",
              "<p>11170 rows × 2 columns</p>\n",
              "</div>"
            ],
            "text/plain": [
              "       video_id        likes\n",
              "0         87185   568.235862\n",
              "1          9431  2066.377645\n",
              "2         40599    37.649187\n",
              "3           494  3757.871204\n",
              "4         73942   741.771063\n",
              "...         ...          ...\n",
              "11165     19415  1540.362329\n",
              "11166     25168  4155.892593\n",
              "11167     80293  7949.698768\n",
              "11168     80880  6206.966633\n",
              "11169      6514  3914.570473\n",
              "\n",
              "[11170 rows x 2 columns]"
            ]
          },
          "metadata": {
            "tags": []
          },
          "execution_count": 162
        }
      ]
    },
    {
      "cell_type": "markdown",
      "metadata": {
        "id": "QFWeoL7x3EZo"
      },
      "source": [
        "## **Frequency Features**"
      ]
    },
    {
      "cell_type": "markdown",
      "metadata": {
        "id": "wl0IG8fhHasR"
      },
      "source": [
        "![Frequency_encoding_2.jpg](data:image/jpeg;base64,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)"
      ]
    },
    {
      "cell_type": "markdown",
      "metadata": {
        "id": "ZXzv-vM_PjUY"
      },
      "source": [
        "**Encoding Channel Title**"
      ]
    },
    {
      "cell_type": "code",
      "metadata": {
        "id": "GEiudrfcOnPX",
        "outputId": "b1d7f1f0-764f-402d-e870-7b5893b0b029",
        "colab": {
          "base_uri": "https://localhost:8080/",
          "height": 34
        }
      },
      "source": [
        "df['channel_title'].nunique()"
      ],
      "execution_count": null,
      "outputs": [
        {
          "output_type": "execute_result",
          "data": {
            "text/plain": [
              "6979"
            ]
          },
          "metadata": {
            "tags": []
          },
          "execution_count": 163
        }
      ]
    },
    {
      "cell_type": "code",
      "metadata": {
        "id": "fxASHsq8Pnfm",
        "outputId": "ba04334c-ded2-475e-a73f-f7222f825882",
        "colab": {
          "base_uri": "https://localhost:8080/",
          "height": 220
        }
      },
      "source": [
        "df['channel_title'].value_counts()"
      ],
      "execution_count": null,
      "outputs": [
        {
          "output_type": "execute_result",
          "data": {
            "text/plain": [
              "116     233\n",
              "299     180\n",
              "15      179\n",
              "92      169\n",
              "406     152\n",
              "       ... \n",
              "3832      1\n",
              "5883      1\n",
              "5551      1\n",
              "1453      1\n",
              "4078      1\n",
              "Name: channel_title, Length: 6979, dtype: int64"
            ]
          },
          "metadata": {
            "tags": []
          },
          "execution_count": 164
        }
      ]
    },
    {
      "cell_type": "code",
      "metadata": {
        "id": "TXI-abikddAX",
        "outputId": "4995a067-641b-4ff3-a42a-9d78e2bd7654",
        "colab": {
          "base_uri": "https://localhost:8080/",
          "height": 220
        }
      },
      "source": [
        "\n",
        "df['publish_date'].value_counts()"
      ],
      "execution_count": null,
      "outputs": [
        {
          "output_type": "execute_result",
          "data": {
            "text/plain": [
              "2018-01-29    282\n",
              "2017-12-13    258\n",
              "2018-01-19    257\n",
              "2017-12-20    255\n",
              "2018-01-12    255\n",
              "             ... \n",
              "2017-10-27      1\n",
              "2013-10-27      1\n",
              "2015-03-29      1\n",
              "2011-02-03      1\n",
              "2013-03-20      1\n",
              "Name: publish_date, Length: 399, dtype: int64"
            ]
          },
          "metadata": {
            "tags": []
          },
          "execution_count": 165
        }
      ]
    },
    {
      "cell_type": "code",
      "metadata": {
        "id": "pcc0dOrGOexO"
      },
      "source": [
        "df['channel_title_num_videos'] = df['channel_title'].map(df['channel_title'].value_counts())\n",
        "df['publish_date_num_videos'] = df['publish_date'].map(df['publish_date'].value_counts())"
      ],
      "execution_count": null,
      "outputs": []
    },
    {
      "cell_type": "code",
      "metadata": {
        "id": "Qn5vk_MJPFUh"
      },
      "source": [
        "train_proc, test_proc, features = split_df_and_get_features(df, train.shape[0])\n",
        "features = [c for c in df.columns if c not in [ID_COL, TARGET_COL]]\n",
        "cat_num_cols = [c for c in features if c not in ['title', 'tags', 'description', 'publish_date']]"
      ],
      "execution_count": null,
      "outputs": []
    },
    {
      "cell_type": "code",
      "metadata": {
        "id": "B3Vj0yBdeW1G",
        "outputId": "3155165a-12f7-42c7-fc80-4e412c2901bf",
        "colab": {
          "base_uri": "https://localhost:8080/",
          "height": 220
        }
      },
      "source": [
        "cat_num_cols"
      ],
      "execution_count": null,
      "outputs": [
        {
          "output_type": "execute_result",
          "data": {
            "text/plain": [
              "['channel_title',\n",
              " 'category_id',\n",
              " 'views',\n",
              " 'dislikes',\n",
              " 'comment_count',\n",
              " 'country_code',\n",
              " 'publish_date_days_since_start',\n",
              " 'publish_date_day_of_week',\n",
              " 'publish_date_year',\n",
              " 'publish_date_month',\n",
              " 'channel_title_num_videos',\n",
              " 'publish_date_num_videos']"
            ]
          },
          "metadata": {
            "tags": []
          },
          "execution_count": 168
        }
      ]
    },
    {
      "cell_type": "code",
      "metadata": {
        "id": "N2rzCTkpPFVG",
        "outputId": "a3efc355-b401-4203-b5be-e45f2b4b1b55",
        "colab": {
          "base_uri": "https://localhost:8080/",
          "height": 1000
        }
      },
      "source": [
        "clf = LGBMRegressor(n_estimators = 5000,\n",
        "                        learning_rate = 0.05,\n",
        "                        colsample_bytree = 0.65,\n",
        "                        metric = 'None',\n",
        "                        )\n",
        "fit_params = {'verbose': 300, 'early_stopping_rounds': 200, 'eval_metric': 'rmse'}\n",
        "\n",
        "lgb_oofs, lgb_preds, fi = run_gradient_boosting(clf, fit_params, train_proc, test_proc, cat_num_cols)"
      ],
      "execution_count": null,
      "outputs": [
        {
          "output_type": "stream",
          "text": [
            "\n",
            "------------- Fold 1 -------------\n",
            "Training until validation scores don't improve for 200 rounds.\n",
            "[300]\tvalid_0's rmse: 0.606433\n",
            "[600]\tvalid_0's rmse: 0.582532\n",
            "[900]\tvalid_0's rmse: 0.570429\n",
            "[1200]\tvalid_0's rmse: 0.564703\n",
            "[1500]\tvalid_0's rmse: 0.560397\n",
            "[1800]\tvalid_0's rmse: 0.558502\n",
            "[2100]\tvalid_0's rmse: 0.557166\n",
            "[2400]\tvalid_0's rmse: 0.556729\n",
            "[2700]\tvalid_0's rmse: 0.555346\n",
            "[3000]\tvalid_0's rmse: 0.554132\n",
            "Early stopping, best iteration is:\n",
            "[3076]\tvalid_0's rmse: 0.553943\n",
            "\n",
            "AV metric score for validation set is 553.9432465904889\n",
            "\n",
            "------------- Fold 2 -------------\n",
            "Training until validation scores don't improve for 200 rounds.\n",
            "[300]\tvalid_0's rmse: 0.613426\n",
            "[600]\tvalid_0's rmse: 0.589525\n",
            "[900]\tvalid_0's rmse: 0.578287\n",
            "[1200]\tvalid_0's rmse: 0.572217\n",
            "[1500]\tvalid_0's rmse: 0.568607\n",
            "[1800]\tvalid_0's rmse: 0.566672\n",
            "[2100]\tvalid_0's rmse: 0.564948\n",
            "[2400]\tvalid_0's rmse: 0.563426\n",
            "[2700]\tvalid_0's rmse: 0.561754\n",
            "Early stopping, best iteration is:\n",
            "[2782]\tvalid_0's rmse: 0.561517\n",
            "\n",
            "AV metric score for validation set is 561.5169492968635\n",
            "\n",
            "------------- Fold 3 -------------\n",
            "Training until validation scores don't improve for 200 rounds.\n",
            "[300]\tvalid_0's rmse: 0.599215\n",
            "[600]\tvalid_0's rmse: 0.578156\n",
            "[900]\tvalid_0's rmse: 0.569867\n",
            "[1200]\tvalid_0's rmse: 0.565043\n",
            "[1500]\tvalid_0's rmse: 0.561228\n",
            "[1800]\tvalid_0's rmse: 0.559161\n",
            "[2100]\tvalid_0's rmse: 0.557574\n",
            "[2400]\tvalid_0's rmse: 0.557554\n",
            "Early stopping, best iteration is:\n",
            "[2290]\tvalid_0's rmse: 0.557213\n",
            "\n",
            "AV metric score for validation set is 557.212687835156\n",
            "\n",
            "------------- Fold 4 -------------\n",
            "Training until validation scores don't improve for 200 rounds.\n",
            "[300]\tvalid_0's rmse: 0.597402\n",
            "[600]\tvalid_0's rmse: 0.572212\n",
            "[900]\tvalid_0's rmse: 0.562833\n",
            "[1200]\tvalid_0's rmse: 0.559364\n",
            "[1500]\tvalid_0's rmse: 0.557419\n",
            "[1800]\tvalid_0's rmse: 0.55411\n",
            "[2100]\tvalid_0's rmse: 0.552804\n",
            "[2400]\tvalid_0's rmse: 0.551717\n",
            "[2700]\tvalid_0's rmse: 0.550785\n",
            "[3000]\tvalid_0's rmse: 0.550086\n",
            "[3300]\tvalid_0's rmse: 0.549913\n",
            "Early stopping, best iteration is:\n",
            "[3202]\tvalid_0's rmse: 0.549714\n",
            "\n",
            "AV metric score for validation set is 549.7141800180075\n",
            "\n",
            "------------- Fold 5 -------------\n",
            "Training until validation scores don't improve for 200 rounds.\n",
            "[300]\tvalid_0's rmse: 0.605007\n",
            "[600]\tvalid_0's rmse: 0.58466\n",
            "[900]\tvalid_0's rmse: 0.575502\n",
            "[1200]\tvalid_0's rmse: 0.572115\n",
            "[1500]\tvalid_0's rmse: 0.568472\n",
            "[1800]\tvalid_0's rmse: 0.566611\n",
            "[2100]\tvalid_0's rmse: 0.565328\n",
            "Early stopping, best iteration is:\n",
            "[2081]\tvalid_0's rmse: 0.564936\n",
            "\n",
            "AV metric score for validation set is 564.9358434793584\n",
            "\n",
            "\n",
            "AV metric for oofs is 557.4904151318665\n"
          ],
          "name": "stdout"
        },
        {
          "output_type": "display_data",
          "data": {
            "image/png": "[encoded data removed]",
            "text/plain": [
              "<Figure size 864x432 with 1 Axes>"
            ]
          },
          "metadata": {
            "tags": []
          }
        }
      ]
    },
    {
      "cell_type": "markdown",
      "metadata": {
        "id": "bW8frRJVP1rO"
      },
      "source": [
        "**Submitting on the Leaderboard**"
      ]
    },
    {
      "cell_type": "code",
      "metadata": {
        "id": "GQgn3U3SP1rP",
        "outputId": "9746794c-197f-4ff8-b5f9-9ec081be562a",
        "colab": {
          "base_uri": "https://localhost:8080/",
          "height": 17
        }
      },
      "source": [
        "lgb_preds_t = np.expm1(lgb_preds)\n",
        "download_preds(lgb_preds_t, file_name = 'hacklive_lgb_fe_num_videos.csv')"
      ],
      "execution_count": null,
      "outputs": [
        {
          "output_type": "display_data",
          "data": {
            "application/javascript": [
              "\n",
              "    async function download(id, filename, size) {\n",
              "      if (!google.colab.kernel.accessAllowed) {\n",
              "        return;\n",
              "      }\n",
              "      const div = document.createElement('div');\n",
              "      const label = document.createElement('label');\n",
              "      label.textContent = `Downloading \"${filename}\": `;\n",
              "      div.appendChild(label);\n",
              "      const progress = document.createElement('progress');\n",
              "      progress.max = size;\n",
              "      div.appendChild(progress);\n",
              "      document.body.appendChild(div);\n",
              "\n",
              "      const buffers = [];\n",
              "      let downloaded = 0;\n",
              "\n",
              "      const channel = await google.colab.kernel.comms.open(id);\n",
              "      // Send a message to notify the kernel that we're ready.\n",
              "      channel.send({})\n",
              "\n",
              "      for await (const message of channel.messages) {\n",
              "        // Send a message to notify the kernel that we're ready.\n",
              "        channel.send({})\n",
              "        if (message.buffers) {\n",
              "          for (const buffer of message.buffers) {\n",
              "            buffers.push(buffer);\n",
              "            downloaded += buffer.byteLength;\n",
              "            progress.value = downloaded;\n",
              "          }\n",
              "        }\n",
              "      }\n",
              "      const blob = new Blob(buffers, {type: 'application/binary'});\n",
              "      const a = document.createElement('a');\n",
              "      a.href = window.URL.createObjectURL(blob);\n",
              "      a.download = filename;\n",
              "      div.appendChild(a);\n",
              "      a.click();\n",
              "      div.remove();\n",
              "    }\n",
              "  "
            ],
            "text/plain": [
              "<IPython.core.display.Javascript object>"
            ]
          },
          "metadata": {
            "tags": []
          }
        },
        {
          "output_type": "display_data",
          "data": {
            "application/javascript": [
              "download(\"download_3d7ad384-4724-4540-9f96-aaf312c56a22\", \"hacklive_lgb_fe_num_videos.csv\", 270856)"
            ],
            "text/plain": [
              "<IPython.core.display.Javascript object>"
            ]
          },
          "metadata": {
            "tags": []
          }
        }
      ]
    },
    {
      "cell_type": "code",
      "metadata": {
        "id": "bam9kDLfPcXP"
      },
      "source": [
        "df['channel_in_n_countries'] = df.groupby('channel_title')['country_code'].transform('nunique')"
      ],
      "execution_count": null,
      "outputs": []
    },
    {
      "cell_type": "code",
      "metadata": {
        "id": "UXFWbJp_fItE",
        "outputId": "05243942-353d-4d61-f924-5e6580e5fd15",
        "colab": {
          "base_uri": "https://localhost:8080/",
          "height": 34
        }
      },
      "source": [
        "df['channel_in_n_countries'].unique()"
      ],
      "execution_count": null,
      "outputs": [
        {
          "output_type": "execute_result",
          "data": {
            "text/plain": [
              "array([2, 1, 3, 4])"
            ]
          },
          "metadata": {
            "tags": []
          },
          "execution_count": 176
        }
      ]
    },
    {
      "cell_type": "code",
      "metadata": {
        "id": "JxgfcqnWfRvc"
      },
      "source": [
        "train_proc, test_proc, features = split_df_and_get_features(df, train.shape[0])\n",
        "features = [c for c in df.columns if c not in [ID_COL, TARGET_COL]]\n",
        "cat_num_cols = [c for c in features if c not in ['title', 'tags', 'description', 'publish_date']]"
      ],
      "execution_count": null,
      "outputs": []
    },
    {
      "cell_type": "code",
      "metadata": {
        "id": "xTYSpL8KY9-5",
        "outputId": "50c86781-e2b1-49ff-fa17-7ff1746b36a0",
        "colab": {
          "base_uri": "https://localhost:8080/",
          "height": 1000
        }
      },
      "source": [
        "clf = LGBMRegressor(n_estimators = 5000,\n",
        "                        learning_rate = 0.05,\n",
        "                        colsample_bytree = 0.65,\n",
        "                        metric = 'None',\n",
        "                        )\n",
        "fit_params = {'verbose': 300, 'early_stopping_rounds': 200, 'eval_metric': 'rmse'}\n",
        "\n",
        "lgb_oofs, lgb_preds, fi = run_gradient_boosting(clf, fit_params, train_proc, test_proc, cat_num_cols)"
      ],
      "execution_count": null,
      "outputs": [
        {
          "output_type": "stream",
          "text": [
            "\n",
            "------------- Fold 1 -------------\n",
            "Training until validation scores don't improve for 200 rounds.\n",
            "[300]\tvalid_0's rmse: 0.602211\n",
            "[600]\tvalid_0's rmse: 0.576537\n",
            "[900]\tvalid_0's rmse: 0.564352\n",
            "[1200]\tvalid_0's rmse: 0.557464\n",
            "[1500]\tvalid_0's rmse: 0.553461\n",
            "[1800]\tvalid_0's rmse: 0.550827\n",
            "[2100]\tvalid_0's rmse: 0.549391\n",
            "[2400]\tvalid_0's rmse: 0.548714\n",
            "[2700]\tvalid_0's rmse: 0.547864\n",
            "[3000]\tvalid_0's rmse: 0.547396\n",
            "[3300]\tvalid_0's rmse: 0.547002\n",
            "Early stopping, best iteration is:\n",
            "[3238]\tvalid_0's rmse: 0.546874\n",
            "\n",
            "AV metric score for validation set is 546.8742825264334\n",
            "\n",
            "------------- Fold 2 -------------\n",
            "Training until validation scores don't improve for 200 rounds.\n",
            "[300]\tvalid_0's rmse: 0.606165\n",
            "[600]\tvalid_0's rmse: 0.584343\n",
            "[900]\tvalid_0's rmse: 0.574279\n",
            "[1200]\tvalid_0's rmse: 0.567945\n",
            "[1500]\tvalid_0's rmse: 0.563975\n",
            "[1800]\tvalid_0's rmse: 0.561168\n",
            "[2100]\tvalid_0's rmse: 0.559567\n",
            "[2400]\tvalid_0's rmse: 0.557947\n",
            "[2700]\tvalid_0's rmse: 0.557585\n",
            "Early stopping, best iteration is:\n",
            "[2535]\tvalid_0's rmse: 0.557508\n",
            "\n",
            "AV metric score for validation set is 557.5075569139269\n",
            "\n",
            "------------- Fold 3 -------------\n",
            "Training until validation scores don't improve for 200 rounds.\n",
            "[300]\tvalid_0's rmse: 0.591757\n",
            "[600]\tvalid_0's rmse: 0.571833\n",
            "[900]\tvalid_0's rmse: 0.561916\n",
            "[1200]\tvalid_0's rmse: 0.557027\n",
            "[1500]\tvalid_0's rmse: 0.553541\n",
            "[1800]\tvalid_0's rmse: 0.551678\n",
            "[2100]\tvalid_0's rmse: 0.550735\n",
            "[2400]\tvalid_0's rmse: 0.550273\n",
            "Early stopping, best iteration is:\n",
            "[2347]\tvalid_0's rmse: 0.550018\n",
            "\n",
            "AV metric score for validation set is 550.018305048368\n",
            "\n",
            "------------- Fold 4 -------------\n",
            "Training until validation scores don't improve for 200 rounds.\n",
            "[300]\tvalid_0's rmse: 0.589078\n",
            "[600]\tvalid_0's rmse: 0.568665\n",
            "[900]\tvalid_0's rmse: 0.559078\n",
            "[1200]\tvalid_0's rmse: 0.553848\n",
            "[1500]\tvalid_0's rmse: 0.551038\n",
            "[1800]\tvalid_0's rmse: 0.549487\n",
            "[2100]\tvalid_0's rmse: 0.547488\n",
            "[2400]\tvalid_0's rmse: 0.546282\n",
            "[2700]\tvalid_0's rmse: 0.545476\n",
            "[3000]\tvalid_0's rmse: 0.544651\n",
            "[3300]\tvalid_0's rmse: 0.544096\n",
            "Early stopping, best iteration is:\n",
            "[3356]\tvalid_0's rmse: 0.543965\n",
            "\n",
            "AV metric score for validation set is 543.9645161925822\n",
            "\n",
            "------------- Fold 5 -------------\n",
            "Training until validation scores don't improve for 200 rounds.\n",
            "[300]\tvalid_0's rmse: 0.599094\n",
            "[600]\tvalid_0's rmse: 0.577441\n",
            "[900]\tvalid_0's rmse: 0.568483\n",
            "[1200]\tvalid_0's rmse: 0.564531\n",
            "[1500]\tvalid_0's rmse: 0.562303\n",
            "[1800]\tvalid_0's rmse: 0.55897\n",
            "[2100]\tvalid_0's rmse: 0.557268\n",
            "[2400]\tvalid_0's rmse: 0.556161\n",
            "Early stopping, best iteration is:\n",
            "[2365]\tvalid_0's rmse: 0.555968\n",
            "\n",
            "AV metric score for validation set is 555.9680858778348\n",
            "\n",
            "\n",
            "AV metric for oofs is 550.8907975661966\n"
          ],
          "name": "stdout"
        },
        {
          "output_type": "display_data",
          "data": {
            "image/png": "[encoded data removed]",
            "text/plain": [
              "<Figure size 864x432 with 1 Axes>"
            ]
          },
          "metadata": {
            "tags": []
          }
        }
      ]
    },
    {
      "cell_type": "markdown",
      "metadata": {
        "id": "PzygFKMXu9vt"
      },
      "source": [
        "**Submitting on the Leaderboard**"
      ]
    },
    {
      "cell_type": "code",
      "metadata": {
        "id": "B5Wqe7Nmu9vu",
        "outputId": "b2dd36b2-adfb-49a0-9008-026ada7da046",
        "colab": {
          "base_uri": "https://localhost:8080/",
          "height": 17
        }
      },
      "source": [
        "lgb_preds_t = np.expm1(lgb_preds)\n",
        "download_preds(lgb_preds, file_name = 'hacklive_lgb_fe_num_videos.csv')"
      ],
      "execution_count": null,
      "outputs": [
        {
          "output_type": "display_data",
          "data": {
            "application/javascript": [
              "\n",
              "    async function download(id, filename, size) {\n",
              "      if (!google.colab.kernel.accessAllowed) {\n",
              "        return;\n",
              "      }\n",
              "      const div = document.createElement('div');\n",
              "      const label = document.createElement('label');\n",
              "      label.textContent = `Downloading \"${filename}\": `;\n",
              "      div.appendChild(label);\n",
              "      const progress = document.createElement('progress');\n",
              "      progress.max = size;\n",
              "      div.appendChild(progress);\n",
              "      document.body.appendChild(div);\n",
              "\n",
              "      const buffers = [];\n",
              "      let downloaded = 0;\n",
              "\n",
              "      const channel = await google.colab.kernel.comms.open(id);\n",
              "      // Send a message to notify the kernel that we're ready.\n",
              "      channel.send({})\n",
              "\n",
              "      for await (const message of channel.messages) {\n",
              "        // Send a message to notify the kernel that we're ready.\n",
              "        channel.send({})\n",
              "        if (message.buffers) {\n",
              "          for (const buffer of message.buffers) {\n",
              "            buffers.push(buffer);\n",
              "            downloaded += buffer.byteLength;\n",
              "            progress.value = downloaded;\n",
              "          }\n",
              "        }\n",
              "      }\n",
              "      const blob = new Blob(buffers, {type: 'application/binary'});\n",
              "      const a = document.createElement('a');\n",
              "      a.href = window.URL.createObjectURL(blob);\n",
              "      a.download = filename;\n",
              "      div.appendChild(a);\n",
              "      a.click();\n",
              "      div.remove();\n",
              "    }\n",
              "  "
            ],
            "text/plain": [
              "<IPython.core.display.Javascript object>"
            ]
          },
          "metadata": {
            "tags": []
          }
        },
        {
          "output_type": "display_data",
          "data": {
            "application/javascript": [
              "download(\"download_4d7fa439-26d1-4148-8a41-36e0958e5e5f\", \"hacklive_lgb_fe_num_videos.csv\", 267164)"
            ],
            "text/plain": [
              "<IPython.core.display.Javascript object>"
            ]
          },
          "metadata": {
            "tags": []
          }
        }
      ]
    },
    {
      "cell_type": "markdown",
      "metadata": {
        "id": "Z3_nLBLut3ob"
      },
      "source": [
        "**Grouping Features**"
      ]
    },
    {
      "cell_type": "code",
      "metadata": {
        "id": "R4O4FxAyt8D7"
      },
      "source": [
        "df['channel_title_mean_views'] = df.groupby('channel_title')['views'].transform('mean')\n",
        "df['channel_title_max_views'] = df.groupby('channel_title')['views'].transform('max')\n",
        "df['channel_title_min_views'] = df.groupby('channel_title')['views'].transform('min')\n",
        "\n",
        "df['channel_title_mean_comments'] = df.groupby('channel_title')['comment_count'].transform('mean')\n",
        "df['channel_title_max_comments'] = df.groupby('channel_title')['comment_count'].transform('max')\n",
        "df['channel_title_min_comments'] = df.groupby('channel_title')['comment_count'].transform('min')"
      ],
      "execution_count": null,
      "outputs": []
    },
    {
      "cell_type": "markdown",
      "metadata": {
        "id": "I67vp3Iyf83H"
      },
      "source": [
        "**Exercise**\n",
        "\n",
        "Try the same thing for dislikes"
      ]
    },
    {
      "cell_type": "code",
      "metadata": {
        "id": "JtdxqBc1uwar"
      },
      "source": [
        "train_proc, test_proc, features = split_df_and_get_features(df, train.shape[0])\n",
        "features = [c for c in df.columns if c not in [ID_COL, TARGET_COL]]\n",
        "cat_num_cols = [c for c in features if c not in ['title', 'tags', 'description', 'publish_date']]"
      ],
      "execution_count": null,
      "outputs": []
    },
    {
      "cell_type": "code",
      "metadata": {
        "id": "-Z8JNYkBuwa6",
        "outputId": "bf56b944-83e3-412d-c276-8128d5579eb6",
        "colab": {
          "base_uri": "https://localhost:8080/",
          "height": 1000
        }
      },
      "source": [
        "clf = LGBMRegressor(n_estimators = 5000,\n",
        "                        learning_rate = 0.05,\n",
        "                        colsample_bytree = 0.65,\n",
        "                        metric = 'None',\n",
        "                        )\n",
        "fit_params = {'verbose': 300, 'early_stopping_rounds': 200, 'eval_metric': 'rmse'}\n",
        "\n",
        "lgb_oofs, lgb_preds, fi = run_gradient_boosting(clf, fit_params, train_proc, test_proc, cat_num_cols)"
      ],
      "execution_count": null,
      "outputs": [
        {
          "output_type": "stream",
          "text": [
            "\n",
            "------------- Fold 1 -------------\n",
            "Training until validation scores don't improve for 200 rounds.\n",
            "[300]\tvalid_0's rmse: 0.578641\n",
            "[600]\tvalid_0's rmse: 0.550924\n",
            "[900]\tvalid_0's rmse: 0.538777\n",
            "[1200]\tvalid_0's rmse: 0.532383\n",
            "[1500]\tvalid_0's rmse: 0.528351\n",
            "[1800]\tvalid_0's rmse: 0.525448\n",
            "[2100]\tvalid_0's rmse: 0.524152\n",
            "[2400]\tvalid_0's rmse: 0.523314\n",
            "[2700]\tvalid_0's rmse: 0.521987\n",
            "[3000]\tvalid_0's rmse: 0.520882\n",
            "[3300]\tvalid_0's rmse: 0.520304\n",
            "[3600]\tvalid_0's rmse: 0.520127\n",
            "Early stopping, best iteration is:\n",
            "[3526]\tvalid_0's rmse: 0.519849\n",
            "\n",
            "AV metric score for validation set is 519.8493600322406\n",
            "\n",
            "------------- Fold 2 -------------\n",
            "Training until validation scores don't improve for 200 rounds.\n",
            "[300]\tvalid_0's rmse: 0.574392\n",
            "[600]\tvalid_0's rmse: 0.550968\n",
            "[900]\tvalid_0's rmse: 0.539383\n",
            "[1200]\tvalid_0's rmse: 0.53289\n",
            "[1500]\tvalid_0's rmse: 0.529778\n",
            "[1800]\tvalid_0's rmse: 0.527363\n",
            "[2100]\tvalid_0's rmse: 0.52631\n",
            "[2400]\tvalid_0's rmse: 0.525168\n",
            "Early stopping, best iteration is:\n",
            "[2473]\tvalid_0's rmse: 0.525043\n",
            "\n",
            "AV metric score for validation set is 525.043108288417\n",
            "\n",
            "------------- Fold 3 -------------\n",
            "Training until validation scores don't improve for 200 rounds.\n",
            "[300]\tvalid_0's rmse: 0.566265\n",
            "[600]\tvalid_0's rmse: 0.539472\n",
            "[900]\tvalid_0's rmse: 0.529981\n",
            "[1200]\tvalid_0's rmse: 0.524566\n",
            "[1500]\tvalid_0's rmse: 0.52247\n",
            "[1800]\tvalid_0's rmse: 0.520952\n",
            "[2100]\tvalid_0's rmse: 0.520529\n",
            "[2400]\tvalid_0's rmse: 0.519931\n",
            "[2700]\tvalid_0's rmse: 0.519322\n",
            "[3000]\tvalid_0's rmse: 0.519309\n",
            "[3300]\tvalid_0's rmse: 0.518998\n",
            "Early stopping, best iteration is:\n",
            "[3392]\tvalid_0's rmse: 0.518902\n",
            "\n",
            "AV metric score for validation set is 518.9024820871207\n",
            "\n",
            "------------- Fold 4 -------------\n",
            "Training until validation scores don't improve for 200 rounds.\n",
            "[300]\tvalid_0's rmse: 0.562916\n",
            "[600]\tvalid_0's rmse: 0.541223\n",
            "[900]\tvalid_0's rmse: 0.532653\n",
            "[1200]\tvalid_0's rmse: 0.527602\n",
            "[1500]\tvalid_0's rmse: 0.52471\n",
            "[1800]\tvalid_0's rmse: 0.52257\n",
            "[2100]\tvalid_0's rmse: 0.520827\n",
            "[2400]\tvalid_0's rmse: 0.520265\n",
            "[2700]\tvalid_0's rmse: 0.51983\n",
            "[3000]\tvalid_0's rmse: 0.519444\n",
            "[3300]\tvalid_0's rmse: 0.518585\n",
            "[3600]\tvalid_0's rmse: 0.518054\n",
            "[3900]\tvalid_0's rmse: 0.517795\n",
            "Early stopping, best iteration is:\n",
            "[3911]\tvalid_0's rmse: 0.517743\n",
            "\n",
            "AV metric score for validation set is 517.743041726816\n",
            "\n",
            "------------- Fold 5 -------------\n",
            "Training until validation scores don't improve for 200 rounds.\n",
            "[300]\tvalid_0's rmse: 0.570476\n",
            "[600]\tvalid_0's rmse: 0.546942\n",
            "[900]\tvalid_0's rmse: 0.53819\n",
            "[1200]\tvalid_0's rmse: 0.533316\n",
            "[1500]\tvalid_0's rmse: 0.530352\n",
            "[1800]\tvalid_0's rmse: 0.528203\n",
            "[2100]\tvalid_0's rmse: 0.526934\n",
            "[2400]\tvalid_0's rmse: 0.525921\n",
            "[2700]\tvalid_0's rmse: 0.524852\n",
            "Early stopping, best iteration is:\n",
            "[2721]\tvalid_0's rmse: 0.524723\n",
            "\n",
            "AV metric score for validation set is 524.7231409350363\n",
            "\n",
            "\n",
            "AV metric for oofs is 521.2610398842124\n"
          ],
          "name": "stdout"
        },
        {
          "output_type": "display_data",
          "data": {
            "image/png": "[encoded data removed]",
            "text/plain": [
              "<Figure size 864x432 with 1 Axes>"
            ]
          },
          "metadata": {
            "tags": []
          }
        }
      ]
    },
    {
      "cell_type": "markdown",
      "metadata": {
        "id": "M_ku4gHYu_5V"
      },
      "source": [
        "**Submitting on the Leaderboard**"
      ]
    },
    {
      "cell_type": "code",
      "metadata": {
        "id": "DJULLBIlu_5Y",
        "outputId": "34a5e9c1-fd1e-4990-8578-b40748f6988f",
        "colab": {
          "base_uri": "https://localhost:8080/",
          "height": 17
        }
      },
      "source": [
        "lgb_preds_t = np.expm1(lgb_preds)\n",
        "download_preds(lgb_preds_t, file_name = 'hacklive_lgb_fe_num_videos.csv')"
      ],
      "execution_count": null,
      "outputs": [
        {
          "output_type": "display_data",
          "data": {
            "application/javascript": [
              "\n",
              "    async function download(id, filename, size) {\n",
              "      if (!google.colab.kernel.accessAllowed) {\n",
              "        return;\n",
              "      }\n",
              "      const div = document.createElement('div');\n",
              "      const label = document.createElement('label');\n",
              "      label.textContent = `Downloading \"${filename}\": `;\n",
              "      div.appendChild(label);\n",
              "      const progress = document.createElement('progress');\n",
              "      progress.max = size;\n",
              "      div.appendChild(progress);\n",
              "      document.body.appendChild(div);\n",
              "\n",
              "      const buffers = [];\n",
              "      let downloaded = 0;\n",
              "\n",
              "      const channel = await google.colab.kernel.comms.open(id);\n",
              "      // Send a message to notify the kernel that we're ready.\n",
              "      channel.send({})\n",
              "\n",
              "      for await (const message of channel.messages) {\n",
              "        // Send a message to notify the kernel that we're ready.\n",
              "        channel.send({})\n",
              "        if (message.buffers) {\n",
              "          for (const buffer of message.buffers) {\n",
              "            buffers.push(buffer);\n",
              "            downloaded += buffer.byteLength;\n",
              "            progress.value = downloaded;\n",
              "          }\n",
              "        }\n",
              "      }\n",
              "      const blob = new Blob(buffers, {type: 'application/binary'});\n",
              "      const a = document.createElement('a');\n",
              "      a.href = window.URL.createObjectURL(blob);\n",
              "      a.download = filename;\n",
              "      div.appendChild(a);\n",
              "      a.click();\n",
              "      div.remove();\n",
              "    }\n",
              "  "
            ],
            "text/plain": [
              "<IPython.core.display.Javascript object>"
            ]
          },
          "metadata": {
            "tags": []
          }
        },
        {
          "output_type": "display_data",
          "data": {
            "application/javascript": [
              "download(\"download_97d999e3-f181-40e8-8151-7b5fb4fff1dd\", \"hacklive_lgb_fe_num_videos.csv\", 270735)"
            ],
            "text/plain": [
              "<IPython.core.display.Javascript object>"
            ]
          },
          "metadata": {
            "tags": []
          }
        }
      ]
    },
    {
      "cell_type": "code",
      "metadata": {
        "id": "WhubkRO8ge-i",
        "outputId": "fab3279a-e4f9-46c5-f407-315b0c31593d",
        "colab": {
          "base_uri": "https://localhost:8080/",
          "height": 415
        }
      },
      "source": [
        "pd.read_csv('hacklive_lgb_fe_num_videos.csv')"
      ],
      "execution_count": null,
      "outputs": [
        {
          "output_type": "execute_result",
          "data": {
            "text/html": [
              "<div>\n",
              "<style scoped>\n",
              "    .dataframe tbody tr th:only-of-type {\n",
              "        vertical-align: middle;\n",
              "    }\n",
              "\n",
              "    .dataframe tbody tr th {\n",
              "        vertical-align: top;\n",
              "    }\n",
              "\n",
              "    .dataframe thead th {\n",
              "        text-align: right;\n",
              "    }\n",
              "</style>\n",
              "<table border=\"1\" class=\"dataframe\">\n",
              "  <thead>\n",
              "    <tr style=\"text-align: right;\">\n",
              "      <th></th>\n",
              "      <th>video_id</th>\n",
              "      <th>likes</th>\n",
              "    </tr>\n",
              "  </thead>\n",
              "  <tbody>\n",
              "    <tr>\n",
              "      <th>0</th>\n",
              "      <td>87185</td>\n",
              "      <td>671.470159</td>\n",
              "    </tr>\n",
              "    <tr>\n",
              "      <th>1</th>\n",
              "      <td>9431</td>\n",
              "      <td>2729.480660</td>\n",
              "    </tr>\n",
              "    <tr>\n",
              "      <th>2</th>\n",
              "      <td>40599</td>\n",
              "      <td>27.221996</td>\n",
              "    </tr>\n",
              "    <tr>\n",
              "      <th>3</th>\n",
              "      <td>494</td>\n",
              "      <td>4137.366711</td>\n",
              "    </tr>\n",
              "    <tr>\n",
              "      <th>4</th>\n",
              "      <td>73942</td>\n",
              "      <td>731.186122</td>\n",
              "    </tr>\n",
              "    <tr>\n",
              "      <th>...</th>\n",
              "      <td>...</td>\n",
              "      <td>...</td>\n",
              "    </tr>\n",
              "    <tr>\n",
              "      <th>11165</th>\n",
              "      <td>19415</td>\n",
              "      <td>1695.911559</td>\n",
              "    </tr>\n",
              "    <tr>\n",
              "      <th>11166</th>\n",
              "      <td>25168</td>\n",
              "      <td>2700.709884</td>\n",
              "    </tr>\n",
              "    <tr>\n",
              "      <th>11167</th>\n",
              "      <td>80293</td>\n",
              "      <td>8886.276343</td>\n",
              "    </tr>\n",
              "    <tr>\n",
              "      <th>11168</th>\n",
              "      <td>80880</td>\n",
              "      <td>5386.435125</td>\n",
              "    </tr>\n",
              "    <tr>\n",
              "      <th>11169</th>\n",
              "      <td>6514</td>\n",
              "      <td>3749.124310</td>\n",
              "    </tr>\n",
              "  </tbody>\n",
              "</table>\n",
              "<p>11170 rows × 2 columns</p>\n",
              "</div>"
            ],
            "text/plain": [
              "       video_id        likes\n",
              "0         87185   671.470159\n",
              "1          9431  2729.480660\n",
              "2         40599    27.221996\n",
              "3           494  4137.366711\n",
              "4         73942   731.186122\n",
              "...         ...          ...\n",
              "11165     19415  1695.911559\n",
              "11166     25168  2700.709884\n",
              "11167     80293  8886.276343\n",
              "11168     80880  5386.435125\n",
              "11169      6514  3749.124310\n",
              "\n",
              "[11170 rows x 2 columns]"
            ]
          },
          "metadata": {
            "tags": []
          },
          "execution_count": 184
        }
      ]
    },
    {
      "cell_type": "markdown",
      "metadata": {
        "id": "YO4LfW09ubZZ"
      },
      "source": [
        "**Exericse**\n",
        "\n",
        "Do the same thing for dislikes"
      ]
    },
    {
      "cell_type": "markdown",
      "metadata": {
        "id": "0IrcpDIyvCXV"
      },
      "source": [
        "**Feature Selection**"
      ]
    },
    {
      "cell_type": "markdown",
      "metadata": {
        "id": "pq-3c6GTf5Yp"
      },
      "source": [
        "**Feature Engineering for Text Data**"
      ]
    },
    {
      "cell_type": "markdown",
      "metadata": {
        "id": "NsZ2mVn1vQXZ"
      },
      "source": [
        "**Length of Text Columns**"
      ]
    },
    {
      "cell_type": "code",
      "metadata": {
        "id": "tBOridCdfL8q"
      },
      "source": [
        "df['title_len'] = df['title'].apply(lambda x: len(x))\n",
        "df['description_len'] = df['description'].apply(lambda x: len(x))\n",
        "df['tags_len'] = df['tags'].apply(lambda x: len(x))"
      ],
      "execution_count": null,
      "outputs": []
    },
    {
      "cell_type": "code",
      "metadata": {
        "id": "6RrPIDyvgIqo"
      },
      "source": [
        "train_proc, test_proc, features = split_df_and_get_features(df, train.shape[0])\n",
        "features = [c for c in df.columns if c not in [ID_COL, TARGET_COL]]\n",
        "cat_num_cols = [c for c in features if c not in ['title', 'tags', 'description', 'publish_date']]"
      ],
      "execution_count": null,
      "outputs": []
    },
    {
      "cell_type": "code",
      "metadata": {
        "id": "7fsg02CbgNN4",
        "outputId": "fe0780c5-019d-4235-b5c0-2d6aecec5e0e",
        "colab": {
          "base_uri": "https://localhost:8080/",
          "height": 1000
        }
      },
      "source": [
        "clf = LGBMRegressor(n_estimators = 5000,\n",
        "                        learning_rate = 0.05,\n",
        "                        colsample_bytree = 0.65,\n",
        "                        metric = 'None',\n",
        "                        )\n",
        "fit_params = {'verbose': 300, 'early_stopping_rounds': 200, 'eval_metric': 'rmse'}\n",
        "\n",
        "lgb_oofs, lgb_preds, fi = run_gradient_boosting(clf, fit_params, train_proc, test_proc, cat_num_cols)"
      ],
      "execution_count": null,
      "outputs": [
        {
          "output_type": "stream",
          "text": [
            "\n",
            "------------- Fold 1 -------------\n",
            "Training until validation scores don't improve for 200 rounds.\n",
            "[300]\tvalid_0's rmse: 0.572801\n",
            "[600]\tvalid_0's rmse: 0.547272\n",
            "[900]\tvalid_0's rmse: 0.536678\n",
            "[1200]\tvalid_0's rmse: 0.529745\n",
            "[1500]\tvalid_0's rmse: 0.524954\n",
            "[1800]\tvalid_0's rmse: 0.521299\n",
            "[2100]\tvalid_0's rmse: 0.519362\n",
            "[2400]\tvalid_0's rmse: 0.517661\n",
            "[2700]\tvalid_0's rmse: 0.517014\n",
            "[3000]\tvalid_0's rmse: 0.516263\n",
            "[3300]\tvalid_0's rmse: 0.515659\n",
            "[3600]\tvalid_0's rmse: 0.515419\n",
            "[3900]\tvalid_0's rmse: 0.515181\n",
            "[4200]\tvalid_0's rmse: 0.514753\n",
            "[4500]\tvalid_0's rmse: 0.514438\n",
            "[4800]\tvalid_0's rmse: 0.514103\n",
            "Did not meet early stopping. Best iteration is:\n",
            "[4909]\tvalid_0's rmse: 0.513974\n",
            "\n",
            "AV metric score for validation set is 513.974448832514\n",
            "\n",
            "------------- Fold 2 -------------\n",
            "Training until validation scores don't improve for 200 rounds.\n",
            "[300]\tvalid_0's rmse: 0.569932\n",
            "[600]\tvalid_0's rmse: 0.544317\n",
            "[900]\tvalid_0's rmse: 0.531647\n",
            "[1200]\tvalid_0's rmse: 0.525217\n",
            "[1500]\tvalid_0's rmse: 0.520719\n",
            "[1800]\tvalid_0's rmse: 0.517931\n",
            "[2100]\tvalid_0's rmse: 0.515684\n",
            "[2400]\tvalid_0's rmse: 0.5144\n",
            "[2700]\tvalid_0's rmse: 0.513323\n",
            "[3000]\tvalid_0's rmse: 0.512645\n",
            "[3300]\tvalid_0's rmse: 0.512145\n",
            "[3600]\tvalid_0's rmse: 0.51152\n",
            "[3900]\tvalid_0's rmse: 0.511348\n",
            "[4200]\tvalid_0's rmse: 0.51082\n",
            "[4500]\tvalid_0's rmse: 0.510928\n",
            "Early stopping, best iteration is:\n",
            "[4360]\tvalid_0's rmse: 0.510751\n",
            "\n",
            "AV metric score for validation set is 510.75106435092545\n",
            "\n",
            "------------- Fold 3 -------------\n",
            "Training until validation scores don't improve for 200 rounds.\n",
            "[300]\tvalid_0's rmse: 0.554401\n",
            "[600]\tvalid_0's rmse: 0.531987\n",
            "[900]\tvalid_0's rmse: 0.523441\n",
            "[1200]\tvalid_0's rmse: 0.518478\n",
            "[1500]\tvalid_0's rmse: 0.515482\n",
            "[1800]\tvalid_0's rmse: 0.513312\n",
            "[2100]\tvalid_0's rmse: 0.512006\n",
            "[2400]\tvalid_0's rmse: 0.511146\n",
            "[2700]\tvalid_0's rmse: 0.510326\n",
            "[3000]\tvalid_0's rmse: 0.50997\n",
            "Early stopping, best iteration is:\n",
            "[3023]\tvalid_0's rmse: 0.509847\n",
            "\n",
            "AV metric score for validation set is 509.846628956832\n",
            "\n",
            "------------- Fold 4 -------------\n",
            "Training until validation scores don't improve for 200 rounds.\n",
            "[300]\tvalid_0's rmse: 0.556649\n",
            "[600]\tvalid_0's rmse: 0.53254\n",
            "[900]\tvalid_0's rmse: 0.521465\n",
            "[1200]\tvalid_0's rmse: 0.515265\n",
            "[1500]\tvalid_0's rmse: 0.511908\n",
            "[1800]\tvalid_0's rmse: 0.509209\n",
            "[2100]\tvalid_0's rmse: 0.506942\n",
            "[2400]\tvalid_0's rmse: 0.506036\n",
            "[2700]\tvalid_0's rmse: 0.505505\n",
            "[3000]\tvalid_0's rmse: 0.504915\n",
            "[3300]\tvalid_0's rmse: 0.504082\n",
            "[3600]\tvalid_0's rmse: 0.503568\n",
            "[3900]\tvalid_0's rmse: 0.503101\n",
            "[4200]\tvalid_0's rmse: 0.502719\n",
            "Early stopping, best iteration is:\n",
            "[4224]\tvalid_0's rmse: 0.502671\n",
            "\n",
            "AV metric score for validation set is 502.6711330161475\n",
            "\n",
            "------------- Fold 5 -------------\n",
            "Training until validation scores don't improve for 200 rounds.\n",
            "[300]\tvalid_0's rmse: 0.561282\n",
            "[600]\tvalid_0's rmse: 0.539667\n",
            "[900]\tvalid_0's rmse: 0.530546\n",
            "[1200]\tvalid_0's rmse: 0.525356\n",
            "[1500]\tvalid_0's rmse: 0.522948\n",
            "[1800]\tvalid_0's rmse: 0.52077\n",
            "[2100]\tvalid_0's rmse: 0.518838\n",
            "[2400]\tvalid_0's rmse: 0.518301\n",
            "[2700]\tvalid_0's rmse: 0.517979\n",
            "[3000]\tvalid_0's rmse: 0.517285\n",
            "[3300]\tvalid_0's rmse: 0.516693\n",
            "[3600]\tvalid_0's rmse: 0.516482\n",
            "Early stopping, best iteration is:\n",
            "[3585]\tvalid_0's rmse: 0.516376\n",
            "\n",
            "AV metric score for validation set is 516.375636946605\n",
            "\n",
            "\n",
            "AV metric for oofs is 510.74507734604833\n"
          ],
          "name": "stdout"
        },
        {
          "output_type": "display_data",
          "data": {
            "image/png": "[encoded data removed]",
            "text/plain": [
              "<Figure size 864x432 with 1 Axes>"
            ]
          },
          "metadata": {
            "tags": []
          }
        }
      ]
    },
    {
      "cell_type": "markdown",
      "metadata": {
        "id": "00qA0CgvvV-o"
      },
      "source": [
        "**Submitting on the Leaderboard**"
      ]
    },
    {
      "cell_type": "code",
      "metadata": {
        "id": "bWQapF5RvV-r",
        "outputId": "0d1b7259-9ffb-4a03-c87a-985f84911db7",
        "colab": {
          "base_uri": "https://localhost:8080/",
          "height": 17
        }
      },
      "source": [
        "lgb_preds_t = np.expm1(lgb_preds)\n",
        "download_preds(lgb_preds_t, file_name = 'hacklive_lgb_text_cols_len.csv')"
      ],
      "execution_count": null,
      "outputs": [
        {
          "output_type": "display_data",
          "data": {
            "application/javascript": [
              "\n",
              "    async function download(id, filename, size) {\n",
              "      if (!google.colab.kernel.accessAllowed) {\n",
              "        return;\n",
              "      }\n",
              "      const div = document.createElement('div');\n",
              "      const label = document.createElement('label');\n",
              "      label.textContent = `Downloading \"${filename}\": `;\n",
              "      div.appendChild(label);\n",
              "      const progress = document.createElement('progress');\n",
              "      progress.max = size;\n",
              "      div.appendChild(progress);\n",
              "      document.body.appendChild(div);\n",
              "\n",
              "      const buffers = [];\n",
              "      let downloaded = 0;\n",
              "\n",
              "      const channel = await google.colab.kernel.comms.open(id);\n",
              "      // Send a message to notify the kernel that we're ready.\n",
              "      channel.send({})\n",
              "\n",
              "      for await (const message of channel.messages) {\n",
              "        // Send a message to notify the kernel that we're ready.\n",
              "        channel.send({})\n",
              "        if (message.buffers) {\n",
              "          for (const buffer of message.buffers) {\n",
              "            buffers.push(buffer);\n",
              "            downloaded += buffer.byteLength;\n",
              "            progress.value = downloaded;\n",
              "          }\n",
              "        }\n",
              "      }\n",
              "      const blob = new Blob(buffers, {type: 'application/binary'});\n",
              "      const a = document.createElement('a');\n",
              "      a.href = window.URL.createObjectURL(blob);\n",
              "      a.download = filename;\n",
              "      div.appendChild(a);\n",
              "      a.click();\n",
              "      div.remove();\n",
              "    }\n",
              "  "
            ],
            "text/plain": [
              "<IPython.core.display.Javascript object>"
            ]
          },
          "metadata": {
            "tags": []
          }
        },
        {
          "output_type": "display_data",
          "data": {
            "application/javascript": [
              "download(\"download_804a0dcd-334d-46a8-857a-461094ba0d3a\", \"hacklive_lgb_text_cols_len.csv\", 267165)"
            ],
            "text/plain": [
              "<IPython.core.display.Javascript object>"
            ]
          },
          "metadata": {
            "tags": []
          }
        }
      ]
    },
    {
      "cell_type": "markdown",
      "metadata": {
        "id": "l4iFKwGyhL1h"
      },
      "source": [
        "**Bag of Words Approach for Text Based Features**"
      ]
    },
    {
      "cell_type": "code",
      "metadata": {
        "id": "T01Xl4Sdhw7m"
      },
      "source": [
        "from sklearn.feature_extraction.text import CountVectorizer\n",
        "?CountVectorizer"
      ],
      "execution_count": null,
      "outputs": []
    },
    {
      "cell_type": "code",
      "metadata": {
        "id": "xjJ_8qnhhUqv",
        "outputId": "166e81da-7bf3-482b-ff35-4b770be93fd0",
        "colab": {
          "base_uri": "https://localhost:8080/",
          "height": 34
        }
      },
      "source": [
        "TOP_N_WORDS = 50\n",
        "\n",
        "vec = CountVectorizer(max_features = TOP_N_WORDS)\n",
        "txt_to_fts = vec.fit_transform(df['description']).toarray()\n",
        "txt_to_fts.shape"
      ],
      "execution_count": null,
      "outputs": [
        {
          "output_type": "execute_result",
          "data": {
            "text/plain": [
              "(37231, 50)"
            ]
          },
          "metadata": {
            "tags": []
          },
          "execution_count": 189
        }
      ]
    },
    {
      "cell_type": "code",
      "metadata": {
        "id": "_XieSHcliihy"
      },
      "source": [
        "c = 'description'\n",
        "txt_fts_names = [c + f'_word_{i}_count' for i in range(TOP_N_WORDS)]\n",
        "df[txt_fts_names] = txt_to_fts\n",
        "\n",
        "train_proc, test_proc, features = split_df_and_get_features(df, train.shape[0])\n",
        "features = [c for c in df.columns if c not in [ID_COL, TARGET_COL]]\n",
        "cat_num_cols = [c for c in features if c not in ['title', 'tags', 'description', 'publish_date']]"
      ],
      "execution_count": null,
      "outputs": []
    },
    {
      "cell_type": "code",
      "metadata": {
        "id": "LeFf4TZWgqVI",
        "outputId": "c45d03d5-8ff3-4d4c-a8e8-6c5d1136bb6a",
        "colab": {
          "base_uri": "https://localhost:8080/",
          "height": 1000
        }
      },
      "source": [
        "clf = LGBMRegressor(n_estimators = 5000,\n",
        "                        learning_rate = 0.05,\n",
        "                        colsample_bytree = 0.65,\n",
        "                        metric = 'None',\n",
        "                        )\n",
        "fit_params = {'verbose': 300, 'early_stopping_rounds': 200, 'eval_metric': 'rmse'}\n",
        "\n",
        "lgb_oofs, lgb_preds, fi = run_gradient_boosting(clf, fit_params, train_proc, test_proc, cat_num_cols)"
      ],
      "execution_count": null,
      "outputs": [
        {
          "output_type": "stream",
          "text": [
            "\n",
            "------------- Fold 1 -------------\n",
            "Training until validation scores don't improve for 200 rounds.\n",
            "[300]\tvalid_0's rmse: 0.548607\n",
            "[600]\tvalid_0's rmse: 0.528758\n",
            "[900]\tvalid_0's rmse: 0.517733\n",
            "[1200]\tvalid_0's rmse: 0.511368\n",
            "[1500]\tvalid_0's rmse: 0.506014\n",
            "[1800]\tvalid_0's rmse: 0.50231\n",
            "[2100]\tvalid_0's rmse: 0.500013\n",
            "[2400]\tvalid_0's rmse: 0.498206\n",
            "[2700]\tvalid_0's rmse: 0.49724\n",
            "[3000]\tvalid_0's rmse: 0.495802\n",
            "[3300]\tvalid_0's rmse: 0.495164\n",
            "[3600]\tvalid_0's rmse: 0.494546\n",
            "[3900]\tvalid_0's rmse: 0.493731\n",
            "[4200]\tvalid_0's rmse: 0.492816\n",
            "[4500]\tvalid_0's rmse: 0.492496\n",
            "[4800]\tvalid_0's rmse: 0.492249\n",
            "Did not meet early stopping. Best iteration is:\n",
            "[4995]\tvalid_0's rmse: 0.49205\n",
            "\n",
            "AV metric score for validation set is 492.0503371800835\n",
            "\n",
            "------------- Fold 2 -------------\n",
            "Training until validation scores don't improve for 200 rounds.\n",
            "[300]\tvalid_0's rmse: 0.548168\n",
            "[600]\tvalid_0's rmse: 0.52543\n",
            "[900]\tvalid_0's rmse: 0.515111\n",
            "[1200]\tvalid_0's rmse: 0.509496\n",
            "[1500]\tvalid_0's rmse: 0.505306\n",
            "[1800]\tvalid_0's rmse: 0.503186\n",
            "[2100]\tvalid_0's rmse: 0.502112\n",
            "[2400]\tvalid_0's rmse: 0.500713\n",
            "[2700]\tvalid_0's rmse: 0.499534\n",
            "[3000]\tvalid_0's rmse: 0.498804\n",
            "[3300]\tvalid_0's rmse: 0.49836\n",
            "[3600]\tvalid_0's rmse: 0.498088\n",
            "[3900]\tvalid_0's rmse: 0.497884\n",
            "Early stopping, best iteration is:\n",
            "[3908]\tvalid_0's rmse: 0.497832\n",
            "\n",
            "AV metric score for validation set is 497.83231218827876\n",
            "\n",
            "------------- Fold 3 -------------\n",
            "Training until validation scores don't improve for 200 rounds.\n",
            "[300]\tvalid_0's rmse: 0.535765\n",
            "[600]\tvalid_0's rmse: 0.516004\n",
            "[900]\tvalid_0's rmse: 0.507414\n",
            "[1200]\tvalid_0's rmse: 0.5018\n",
            "[1500]\tvalid_0's rmse: 0.498338\n",
            "[1800]\tvalid_0's rmse: 0.496231\n",
            "[2100]\tvalid_0's rmse: 0.494571\n",
            "[2400]\tvalid_0's rmse: 0.493243\n",
            "[2700]\tvalid_0's rmse: 0.492757\n",
            "[3000]\tvalid_0's rmse: 0.491993\n",
            "[3300]\tvalid_0's rmse: 0.491451\n",
            "[3600]\tvalid_0's rmse: 0.490828\n",
            "[3900]\tvalid_0's rmse: 0.490718\n",
            "[4200]\tvalid_0's rmse: 0.490529\n",
            "Early stopping, best iteration is:\n",
            "[4119]\tvalid_0's rmse: 0.490398\n",
            "\n",
            "AV metric score for validation set is 490.3976707035527\n",
            "\n",
            "------------- Fold 4 -------------\n",
            "Training until validation scores don't improve for 200 rounds.\n",
            "[300]\tvalid_0's rmse: 0.535536\n",
            "[600]\tvalid_0's rmse: 0.515997\n",
            "[900]\tvalid_0's rmse: 0.50669\n",
            "[1200]\tvalid_0's rmse: 0.501443\n",
            "[1500]\tvalid_0's rmse: 0.497129\n",
            "[1800]\tvalid_0's rmse: 0.494505\n",
            "[2100]\tvalid_0's rmse: 0.492819\n",
            "[2400]\tvalid_0's rmse: 0.491695\n",
            "[2700]\tvalid_0's rmse: 0.490895\n",
            "[3000]\tvalid_0's rmse: 0.489807\n",
            "[3300]\tvalid_0's rmse: 0.489038\n",
            "[3600]\tvalid_0's rmse: 0.488619\n",
            "[3900]\tvalid_0's rmse: 0.488138\n",
            "[4200]\tvalid_0's rmse: 0.487815\n",
            "[4500]\tvalid_0's rmse: 0.48775\n",
            "Early stopping, best iteration is:\n",
            "[4481]\tvalid_0's rmse: 0.48768\n",
            "\n",
            "AV metric score for validation set is 487.6801903283661\n",
            "\n",
            "------------- Fold 5 -------------\n",
            "Training until validation scores don't improve for 200 rounds.\n",
            "[300]\tvalid_0's rmse: 0.539733\n",
            "[600]\tvalid_0's rmse: 0.518285\n",
            "[900]\tvalid_0's rmse: 0.509402\n",
            "[1200]\tvalid_0's rmse: 0.504486\n",
            "[1500]\tvalid_0's rmse: 0.500809\n",
            "[1800]\tvalid_0's rmse: 0.498632\n",
            "[2100]\tvalid_0's rmse: 0.497756\n",
            "[2400]\tvalid_0's rmse: 0.496566\n",
            "[2700]\tvalid_0's rmse: 0.496038\n",
            "[3000]\tvalid_0's rmse: 0.495553\n",
            "[3300]\tvalid_0's rmse: 0.495159\n",
            "[3600]\tvalid_0's rmse: 0.494831\n",
            "[3900]\tvalid_0's rmse: 0.494479\n",
            "[4200]\tvalid_0's rmse: 0.494296\n",
            "[4500]\tvalid_0's rmse: 0.494141\n",
            "[4800]\tvalid_0's rmse: 0.493927\n",
            "Did not meet early stopping. Best iteration is:\n",
            "[4987]\tvalid_0's rmse: 0.4939\n",
            "\n",
            "AV metric score for validation set is 493.90021159270265\n",
            "\n",
            "\n",
            "AV metric for oofs is 492.38394467082423\n"
          ],
          "name": "stdout"
        },
        {
          "output_type": "display_data",
          "data": {
            "image/png": "[encoded data removed]",
            "text/plain": [
              "<Figure size 864x432 with 1 Axes>"
            ]
          },
          "metadata": {
            "tags": []
          }
        }
      ]
    },
    {
      "cell_type": "markdown",
      "metadata": {
        "id": "vBu8D8N9vamp"
      },
      "source": [
        "**Submitting on the Leaderboard**"
      ]
    },
    {
      "cell_type": "code",
      "metadata": {
        "id": "5sCJTmoyvamq",
        "outputId": "fdd2aba9-0c28-4b85-f838-0b0e1d2d86ad",
        "colab": {
          "base_uri": "https://localhost:8080/",
          "height": 17
        }
      },
      "source": [
        "lgb_preds_t = np.expm1(lgb_preds)\n",
        "download_preds(lgb_preds_t, file_name = 'hacklive_lgb_text_cols_bow.csv')"
      ],
      "execution_count": null,
      "outputs": [
        {
          "output_type": "display_data",
          "data": {
            "application/javascript": [
              "\n",
              "    async function download(id, filename, size) {\n",
              "      if (!google.colab.kernel.accessAllowed) {\n",
              "        return;\n",
              "      }\n",
              "      const div = document.createElement('div');\n",
              "      const label = document.createElement('label');\n",
              "      label.textContent = `Downloading \"${filename}\": `;\n",
              "      div.appendChild(label);\n",
              "      const progress = document.createElement('progress');\n",
              "      progress.max = size;\n",
              "      div.appendChild(progress);\n",
              "      document.body.appendChild(div);\n",
              "\n",
              "      const buffers = [];\n",
              "      let downloaded = 0;\n",
              "\n",
              "      const channel = await google.colab.kernel.comms.open(id);\n",
              "      // Send a message to notify the kernel that we're ready.\n",
              "      channel.send({})\n",
              "\n",
              "      for await (const message of channel.messages) {\n",
              "        // Send a message to notify the kernel that we're ready.\n",
              "        channel.send({})\n",
              "        if (message.buffers) {\n",
              "          for (const buffer of message.buffers) {\n",
              "            buffers.push(buffer);\n",
              "            downloaded += buffer.byteLength;\n",
              "            progress.value = downloaded;\n",
              "          }\n",
              "        }\n",
              "      }\n",
              "      const blob = new Blob(buffers, {type: 'application/binary'});\n",
              "      const a = document.createElement('a');\n",
              "      a.href = window.URL.createObjectURL(blob);\n",
              "      a.download = filename;\n",
              "      div.appendChild(a);\n",
              "      a.click();\n",
              "      div.remove();\n",
              "    }\n",
              "  "
            ],
            "text/plain": [
              "<IPython.core.display.Javascript object>"
            ]
          },
          "metadata": {
            "tags": []
          }
        },
        {
          "output_type": "display_data",
          "data": {
            "application/javascript": [
              "download(\"download_1865ef45-e538-4f51-9fc1-6bb02a869e23\", \"hacklive_lgb_text_cols_bow.csv\", 270812)"
            ],
            "text/plain": [
              "<IPython.core.display.Javascript object>"
            ]
          },
          "metadata": {
            "tags": []
          }
        }
      ]
    },
    {
      "cell_type": "markdown",
      "metadata": {
        "id": "KtWP73pynDUu"
      },
      "source": [
        "**Exercise**\n",
        "\n",
        "Apply the same BOW approach to the other text cols in the  model.\n",
        "\n",
        "**Advanced**\n",
        "\n",
        "Try to read about state of the art models used for Classification/Regression in NLP. Can you implement them ?"
      ]
    },
    {
      "cell_type": "markdown",
      "metadata": {
        "id": "3UycgGY7nrz-"
      },
      "source": [
        "**Feature Selection**"
      ]
    },
    {
      "cell_type": "markdown",
      "metadata": {
        "id": "GNEodx24F9N9"
      },
      "source": [
        "* **When is feature selection required ?**\n",
        "* **Should I focus my time in feature selection or feature engineering?**"
      ]
    },
    {
      "cell_type": "code",
      "metadata": {
        "id": "lDyExzZlGVDh",
        "outputId": "36a36857-ee20-47fc-8d06-e8850a33491e",
        "colab": {
          "base_uri": "https://localhost:8080/",
          "height": 389
        }
      },
      "source": [
        "fi"
      ],
      "execution_count": null,
      "outputs": [
        {
          "output_type": "execute_result",
          "data": {
            "text/plain": [
              "feature\n",
              "description_word_38_count        1812.4\n",
              "publish_date_month               1838.8\n",
              "channel_title_min_comments       1866.4\n",
              "description_word_8_count         1887.2\n",
              "description_word_36_count        1949.2\n",
              "publish_date_day_of_week         2580.8\n",
              "category_id                      2873.2\n",
              "channel_title_num_videos         4059.0\n",
              "channel_title_mean_views         4491.2\n",
              "channel_title_max_views          4865.4\n",
              "channel_title_min_views          5204.2\n",
              "channel_title                    5904.2\n",
              "publish_date_num_videos          6443.4\n",
              "title_len                        6847.2\n",
              "publish_date_days_since_start    7096.2\n",
              "tags_len                         7108.0\n",
              "views                            7653.0\n",
              "description_len                  8008.6\n",
              "dislikes                         8428.4\n",
              "comment_count                    8824.6\n",
              "Name: importance, dtype: float64"
            ]
          },
          "metadata": {
            "tags": []
          },
          "execution_count": 192
        }
      ]
    },
    {
      "cell_type": "code",
      "metadata": {
        "id": "y8y5RuMiCczL"
      },
      "source": [
        "to_drop_cols = ['views']"
      ],
      "execution_count": null,
      "outputs": []
    },
    {
      "cell_type": "code",
      "metadata": {
        "id": "BxDugumZFALR"
      },
      "source": [
        "cat_num_cols = [c for c in features if c not in ['title', 'tags', 'description', 'publish_date'] + to_drop_cols]"
      ],
      "execution_count": null,
      "outputs": []
    },
    {
      "cell_type": "code",
      "metadata": {
        "id": "2dyYObUQFYUw",
        "outputId": "362cb8a4-ab2d-4cf8-e9ca-293c210a4f6c",
        "colab": {
          "base_uri": "https://localhost:8080/",
          "height": 913
        }
      },
      "source": [
        "clf = LGBMRegressor(n_estimators = 5000,\n",
        "                        learning_rate = 0.05,\n",
        "                        colsample_bytree = 0.65,\n",
        "                        metric = 'None',\n",
        "                        )\n",
        "fit_params = {'verbose': 300, 'early_stopping_rounds': 200, 'eval_metric': 'rmse'}\n",
        "\n",
        "lgb_oofs, lgb_preds, fi = run_gradient_boosting(clf, fit_params, train_proc, test_proc, cat_num_cols)"
      ],
      "execution_count": null,
      "outputs": [
        {
          "output_type": "stream",
          "text": [
            "\n",
            "------------- Fold 1 -------------\n",
            "Training until validation scores don't improve for 200 rounds.\n",
            "[300]\tvalid_0's rmse: 0.593832\n",
            "[600]\tvalid_0's rmse: 0.570681\n",
            "[900]\tvalid_0's rmse: 0.561119\n",
            "[1200]\tvalid_0's rmse: 0.5552\n",
            "[1500]\tvalid_0's rmse: 0.551433\n",
            "[1800]\tvalid_0's rmse: 0.548114\n",
            "[2100]\tvalid_0's rmse: 0.546018\n",
            "[2400]\tvalid_0's rmse: 0.544959\n",
            "[2700]\tvalid_0's rmse: 0.544361\n",
            "[3000]\tvalid_0's rmse: 0.543896\n",
            "[3300]\tvalid_0's rmse: 0.543547\n",
            "[3600]\tvalid_0's rmse: 0.543055\n",
            "[3900]\tvalid_0's rmse: 0.542685\n",
            "[4200]\tvalid_0's rmse: 0.542539\n",
            "Early stopping, best iteration is:\n",
            "[4121]\tvalid_0's rmse: 0.542479\n",
            "\n",
            "AV metric score for validation set is 542.4788742796687\n",
            "\n",
            "------------- Fold 2 -------------\n",
            "Training until validation scores don't improve for 200 rounds.\n",
            "[300]\tvalid_0's rmse: 0.588803\n",
            "[600]\tvalid_0's rmse: 0.567366\n",
            "[900]\tvalid_0's rmse: 0.557265\n",
            "[1200]\tvalid_0's rmse: 0.552299\n",
            "[1500]\tvalid_0's rmse: 0.548967\n",
            "[1800]\tvalid_0's rmse: 0.547193\n",
            "[2100]\tvalid_0's rmse: 0.54599\n",
            "[2400]\tvalid_0's rmse: 0.545\n",
            "[2700]\tvalid_0's rmse: 0.544436\n",
            "[3000]\tvalid_0's rmse: 0.54405\n"
          ],
          "name": "stdout"
        },
        {
          "output_type": "error",
          "ename": "KeyboardInterrupt",
          "evalue": "ignored",
          "traceback": [
            "\u001b[0;31m---------------------------------------------------------------------------\u001b[0m",
            "\u001b[0;31mKeyboardInterrupt\u001b[0m                         Traceback (most recent call last)",
            "\u001b[0;32m<ipython-input-195-293553a5728e>\u001b[0m in \u001b[0;36m<module>\u001b[0;34m()\u001b[0m\n\u001b[1;32m      6\u001b[0m \u001b[0mfit_params\u001b[0m \u001b[0;34m=\u001b[0m \u001b[0;34m{\u001b[0m\u001b[0;34m'verbose'\u001b[0m\u001b[0;34m:\u001b[0m \u001b[0;36m300\u001b[0m\u001b[0;34m,\u001b[0m \u001b[0;34m'early_stopping_rounds'\u001b[0m\u001b[0;34m:\u001b[0m \u001b[0;36m200\u001b[0m\u001b[0;34m,\u001b[0m \u001b[0;34m'eval_metric'\u001b[0m\u001b[0;34m:\u001b[0m \u001b[0;34m'rmse'\u001b[0m\u001b[0;34m}\u001b[0m\u001b[0;34m\u001b[0m\u001b[0;34m\u001b[0m\u001b[0m\n\u001b[1;32m      7\u001b[0m \u001b[0;34m\u001b[0m\u001b[0m\n\u001b[0;32m----> 8\u001b[0;31m \u001b[0mlgb_oofs\u001b[0m\u001b[0;34m,\u001b[0m \u001b[0mlgb_preds\u001b[0m\u001b[0;34m,\u001b[0m \u001b[0mfi\u001b[0m \u001b[0;34m=\u001b[0m \u001b[0mrun_gradient_boosting\u001b[0m\u001b[0;34m(\u001b[0m\u001b[0mclf\u001b[0m\u001b[0;34m,\u001b[0m \u001b[0mfit_params\u001b[0m\u001b[0;34m,\u001b[0m \u001b[0mtrain_proc\u001b[0m\u001b[0;34m,\u001b[0m \u001b[0mtest_proc\u001b[0m\u001b[0;34m,\u001b[0m \u001b[0mcat_num_cols\u001b[0m\u001b[0;34m)\u001b[0m\u001b[0;34m\u001b[0m\u001b[0;34m\u001b[0m\u001b[0m\n\u001b[0m",
            "\u001b[0;32m<ipython-input-144-fc06b0fc48d6>\u001b[0m in \u001b[0;36mrun_gradient_boosting\u001b[0;34m(clf, fit_params, train, test, features)\u001b[0m\n\u001b[1;32m     30\u001b[0m     \u001b[0mX_test\u001b[0m \u001b[0;34m=\u001b[0m \u001b[0mscaler\u001b[0m\u001b[0;34m.\u001b[0m\u001b[0mtransform\u001b[0m\u001b[0;34m(\u001b[0m\u001b[0mX_test\u001b[0m\u001b[0;34m)\u001b[0m\u001b[0;34m\u001b[0m\u001b[0;34m\u001b[0m\u001b[0m\n\u001b[1;32m     31\u001b[0m \u001b[0;34m\u001b[0m\u001b[0m\n\u001b[0;32m---> 32\u001b[0;31m     \u001b[0m_\u001b[0m \u001b[0;34m=\u001b[0m \u001b[0mclf\u001b[0m\u001b[0;34m.\u001b[0m\u001b[0mfit\u001b[0m\u001b[0;34m(\u001b[0m\u001b[0mX_trn\u001b[0m\u001b[0;34m,\u001b[0m \u001b[0my_trn\u001b[0m\u001b[0;34m,\u001b[0m \u001b[0meval_set\u001b[0m \u001b[0;34m=\u001b[0m \u001b[0;34m[\u001b[0m\u001b[0;34m(\u001b[0m\u001b[0mX_val\u001b[0m\u001b[0;34m,\u001b[0m \u001b[0my_val\u001b[0m\u001b[0;34m)\u001b[0m\u001b[0;34m]\u001b[0m\u001b[0;34m,\u001b[0m \u001b[0;34m**\u001b[0m\u001b[0mfit_params\u001b[0m\u001b[0;34m)\u001b[0m\u001b[0;34m\u001b[0m\u001b[0;34m\u001b[0m\u001b[0m\n\u001b[0m\u001b[1;32m     33\u001b[0m \u001b[0;34m\u001b[0m\u001b[0m\n\u001b[1;32m     34\u001b[0m     \u001b[0mfold_importance\u001b[0m \u001b[0;34m=\u001b[0m \u001b[0mpd\u001b[0m\u001b[0;34m.\u001b[0m\u001b[0mDataFrame\u001b[0m\u001b[0;34m(\u001b[0m\u001b[0;34m{\u001b[0m\u001b[0;34m'fold'\u001b[0m\u001b[0;34m:\u001b[0m \u001b[0mfold_\u001b[0m \u001b[0;34m+\u001b[0m \u001b[0;36m1\u001b[0m\u001b[0;34m,\u001b[0m \u001b[0;34m'feature'\u001b[0m\u001b[0;34m:\u001b[0m \u001b[0mfeatures\u001b[0m\u001b[0;34m,\u001b[0m \u001b[0;34m'importance'\u001b[0m\u001b[0;34m:\u001b[0m \u001b[0mclf\u001b[0m\u001b[0;34m.\u001b[0m\u001b[0mfeature_importances_\u001b[0m\u001b[0;34m}\u001b[0m\u001b[0;34m)\u001b[0m\u001b[0;34m\u001b[0m\u001b[0;34m\u001b[0m\u001b[0m\n",
            "\u001b[0;32m/usr/local/lib/python3.6/dist-packages/lightgbm/sklearn.py\u001b[0m in \u001b[0;36mfit\u001b[0;34m(self, X, y, sample_weight, init_score, eval_set, eval_names, eval_sample_weight, eval_init_score, eval_metric, early_stopping_rounds, verbose, feature_name, categorical_feature, callbacks)\u001b[0m\n\u001b[1;32m    683\u001b[0m                                        \u001b[0mverbose\u001b[0m\u001b[0;34m=\u001b[0m\u001b[0mverbose\u001b[0m\u001b[0;34m,\u001b[0m \u001b[0mfeature_name\u001b[0m\u001b[0;34m=\u001b[0m\u001b[0mfeature_name\u001b[0m\u001b[0;34m,\u001b[0m\u001b[0;34m\u001b[0m\u001b[0;34m\u001b[0m\u001b[0m\n\u001b[1;32m    684\u001b[0m                                        \u001b[0mcategorical_feature\u001b[0m\u001b[0;34m=\u001b[0m\u001b[0mcategorical_feature\u001b[0m\u001b[0;34m,\u001b[0m\u001b[0;34m\u001b[0m\u001b[0;34m\u001b[0m\u001b[0m\n\u001b[0;32m--> 685\u001b[0;31m                                        callbacks=callbacks)\n\u001b[0m\u001b[1;32m    686\u001b[0m         \u001b[0;32mreturn\u001b[0m \u001b[0mself\u001b[0m\u001b[0;34m\u001b[0m\u001b[0;34m\u001b[0m\u001b[0m\n\u001b[1;32m    687\u001b[0m \u001b[0;34m\u001b[0m\u001b[0m\n",
            "\u001b[0;32m/usr/local/lib/python3.6/dist-packages/lightgbm/sklearn.py\u001b[0m in \u001b[0;36mfit\u001b[0;34m(self, X, y, sample_weight, init_score, group, eval_set, eval_names, eval_sample_weight, eval_class_weight, eval_init_score, eval_group, eval_metric, early_stopping_rounds, verbose, feature_name, categorical_feature, callbacks)\u001b[0m\n\u001b[1;32m    542\u001b[0m                               \u001b[0mverbose_eval\u001b[0m\u001b[0;34m=\u001b[0m\u001b[0mverbose\u001b[0m\u001b[0;34m,\u001b[0m \u001b[0mfeature_name\u001b[0m\u001b[0;34m=\u001b[0m\u001b[0mfeature_name\u001b[0m\u001b[0;34m,\u001b[0m\u001b[0;34m\u001b[0m\u001b[0;34m\u001b[0m\u001b[0m\n\u001b[1;32m    543\u001b[0m                               \u001b[0mcategorical_feature\u001b[0m\u001b[0;34m=\u001b[0m\u001b[0mcategorical_feature\u001b[0m\u001b[0;34m,\u001b[0m\u001b[0;34m\u001b[0m\u001b[0;34m\u001b[0m\u001b[0m\n\u001b[0;32m--> 544\u001b[0;31m                               callbacks=callbacks)\n\u001b[0m\u001b[1;32m    545\u001b[0m \u001b[0;34m\u001b[0m\u001b[0m\n\u001b[1;32m    546\u001b[0m         \u001b[0;32mif\u001b[0m \u001b[0mevals_result\u001b[0m\u001b[0;34m:\u001b[0m\u001b[0;34m\u001b[0m\u001b[0;34m\u001b[0m\u001b[0m\n",
            "\u001b[0;32m/usr/local/lib/python3.6/dist-packages/lightgbm/engine.py\u001b[0m in \u001b[0;36mtrain\u001b[0;34m(params, train_set, num_boost_round, valid_sets, valid_names, fobj, feval, init_model, feature_name, categorical_feature, early_stopping_rounds, evals_result, verbose_eval, learning_rates, keep_training_booster, callbacks)\u001b[0m\n\u001b[1;32m    216\u001b[0m                                     evaluation_result_list=None))\n\u001b[1;32m    217\u001b[0m \u001b[0;34m\u001b[0m\u001b[0m\n\u001b[0;32m--> 218\u001b[0;31m         \u001b[0mbooster\u001b[0m\u001b[0;34m.\u001b[0m\u001b[0mupdate\u001b[0m\u001b[0;34m(\u001b[0m\u001b[0mfobj\u001b[0m\u001b[0;34m=\u001b[0m\u001b[0mfobj\u001b[0m\u001b[0;34m)\u001b[0m\u001b[0;34m\u001b[0m\u001b[0;34m\u001b[0m\u001b[0m\n\u001b[0m\u001b[1;32m    219\u001b[0m \u001b[0;34m\u001b[0m\u001b[0m\n\u001b[1;32m    220\u001b[0m         \u001b[0mevaluation_result_list\u001b[0m \u001b[0;34m=\u001b[0m \u001b[0;34m[\u001b[0m\u001b[0;34m]\u001b[0m\u001b[0;34m\u001b[0m\u001b[0;34m\u001b[0m\u001b[0m\n",
            "\u001b[0;32m/usr/local/lib/python3.6/dist-packages/lightgbm/basic.py\u001b[0m in \u001b[0;36mupdate\u001b[0;34m(self, train_set, fobj)\u001b[0m\n\u001b[1;32m   1800\u001b[0m             _safe_call(_LIB.LGBM_BoosterUpdateOneIter(\n\u001b[1;32m   1801\u001b[0m                 \u001b[0mself\u001b[0m\u001b[0;34m.\u001b[0m\u001b[0mhandle\u001b[0m\u001b[0;34m,\u001b[0m\u001b[0;34m\u001b[0m\u001b[0;34m\u001b[0m\u001b[0m\n\u001b[0;32m-> 1802\u001b[0;31m                 ctypes.byref(is_finished)))\n\u001b[0m\u001b[1;32m   1803\u001b[0m             \u001b[0mself\u001b[0m\u001b[0;34m.\u001b[0m\u001b[0m__is_predicted_cur_iter\u001b[0m \u001b[0;34m=\u001b[0m \u001b[0;34m[\u001b[0m\u001b[0;32mFalse\u001b[0m \u001b[0;32mfor\u001b[0m \u001b[0m_\u001b[0m \u001b[0;32min\u001b[0m \u001b[0mrange_\u001b[0m\u001b[0;34m(\u001b[0m\u001b[0mself\u001b[0m\u001b[0;34m.\u001b[0m\u001b[0m__num_dataset\u001b[0m\u001b[0;34m)\u001b[0m\u001b[0;34m]\u001b[0m\u001b[0;34m\u001b[0m\u001b[0;34m\u001b[0m\u001b[0m\n\u001b[1;32m   1804\u001b[0m             \u001b[0;32mreturn\u001b[0m \u001b[0mis_finished\u001b[0m\u001b[0;34m.\u001b[0m\u001b[0mvalue\u001b[0m \u001b[0;34m==\u001b[0m \u001b[0;36m1\u001b[0m\u001b[0;34m\u001b[0m\u001b[0;34m\u001b[0m\u001b[0m\n",
            "\u001b[0;31mKeyboardInterrupt\u001b[0m: "
          ]
        }
      ]
    },
    {
      "cell_type": "markdown",
      "metadata": {
        "id": "4JlzQDyAJJBU"
      },
      "source": [
        "**Submitting on the Leaderboard**"
      ]
    },
    {
      "cell_type": "code",
      "metadata": {
        "id": "C-fJ5SoFJJBW",
        "outputId": "94474283-cab2-4607-bc86-020da38c67a3",
        "colab": {
          "base_uri": "https://localhost:8080/",
          "height": 17
        }
      },
      "source": [
        "lgb_preds_t = np.expm1(lgb_preds)\n",
        "download_preds(lgb_preds, file_name = 'hacklive_lgb_text_cols_bow.csv')"
      ],
      "execution_count": null,
      "outputs": [
        {
          "output_type": "display_data",
          "data": {
            "application/javascript": [
              "\n",
              "    async function download(id, filename, size) {\n",
              "      if (!google.colab.kernel.accessAllowed) {\n",
              "        return;\n",
              "      }\n",
              "      const div = document.createElement('div');\n",
              "      const label = document.createElement('label');\n",
              "      label.textContent = `Downloading \"${filename}\": `;\n",
              "      div.appendChild(label);\n",
              "      const progress = document.createElement('progress');\n",
              "      progress.max = size;\n",
              "      div.appendChild(progress);\n",
              "      document.body.appendChild(div);\n",
              "\n",
              "      const buffers = [];\n",
              "      let downloaded = 0;\n",
              "\n",
              "      const channel = await google.colab.kernel.comms.open(id);\n",
              "      // Send a message to notify the kernel that we're ready.\n",
              "      channel.send({})\n",
              "\n",
              "      for await (const message of channel.messages) {\n",
              "        // Send a message to notify the kernel that we're ready.\n",
              "        channel.send({})\n",
              "        if (message.buffers) {\n",
              "          for (const buffer of message.buffers) {\n",
              "            buffers.push(buffer);\n",
              "            downloaded += buffer.byteLength;\n",
              "            progress.value = downloaded;\n",
              "          }\n",
              "        }\n",
              "      }\n",
              "      const blob = new Blob(buffers, {type: 'application/binary'});\n",
              "      const a = document.createElement('a');\n",
              "      a.href = window.URL.createObjectURL(blob);\n",
              "      a.download = filename;\n",
              "      div.appendChild(a);\n",
              "      a.click();\n",
              "      div.remove();\n",
              "    }\n",
              "  "
            ],
            "text/plain": [
              "<IPython.core.display.Javascript object>"
            ]
          },
          "metadata": {
            "tags": []
          }
        },
        {
          "output_type": "display_data",
          "data": {
            "application/javascript": [
              "download(\"download_adde604f-933f-4d27-baf2-2a357692a254\", \"hacklive_lgb_text_cols_bow.csv\", 267140)"
            ],
            "text/plain": [
              "<IPython.core.display.Javascript object>"
            ]
          },
          "metadata": {
            "tags": []
          }
        }
      ]
    },
    {
      "cell_type": "markdown",
      "metadata": {
        "id": "B9kdESaZsma2"
      },
      "source": [
        "# **Ensembling**\n",
        "\n",
        "In statistics and machine learning, ensemble methods use multiple learning algorithms to obtain better predictive performance than could be obtained from any of the constituent learning algorithms alone.\n",
        "\n",
        "\n",
        "\n",
        "* What are our best performing algorithms ?\n",
        "* How do we combine these algorithms to get a better performance ?"
      ]
    },
    {
      "cell_type": "markdown",
      "metadata": {
        "id": "uxCGQlaTPqJr"
      },
      "source": [
        "![Ensembling.jpg](data:image/jpeg;base64,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)"
      ]
    },
    {
      "cell_type": "markdown",
      "metadata": {
        "id": "VA3CvC6gPpXA"
      },
      "source": [
        "https://courses.analyticsvidhya.com/courses/ensemble-learning-and-ensemble-learning-techniques"
      ]
    },
    {
      "cell_type": "code",
      "metadata": {
        "id": "F263ao8X5Fxn",
        "outputId": "e59cdae2-7771-4de4-f2b9-1556e7b5cec8",
        "colab": {
          "base_uri": "https://localhost:8080/",
          "height": 34
        }
      },
      "source": [
        " av_metric(np.log1p(train[TARGET_COL]), lgb_oofs * 0.95 + cb_oofs * 0.05)"
      ],
      "execution_count": null,
      "outputs": [
        {
          "output_type": "execute_result",
          "data": {
            "text/plain": [
              "491.9977018575607"
            ]
          },
          "metadata": {
            "tags": []
          },
          "execution_count": 84
        }
      ]
    },
    {
      "cell_type": "code",
      "metadata": {
        "id": "Xb5Rbh49Lqvn"
      },
      "source": [
        "train_new = train[[ID_COL, TARGET_COL]]\n",
        "train_new[TARGET_COL] = np.log1p(train_new[TARGET_COL])\n",
        "\n",
        "test_new = test[[ID_COL]]\n",
        "\n",
        "train_new['lgb'] = lgb_oofs\n",
        "test_new['lgb'] = lgb_preds\n",
        "\n",
        "train_new['cb'] = cb_oofs\n",
        "test_new['cb'] = cb_preds\n",
        "\n",
        "train_new['xgb'] = xgb_oofs\n",
        "test_new['xgb'] = xgb_preds\n",
        "\n",
        "features = [c for c in train_new.columns if c not in [ID_COL, TARGET_COL]]"
      ],
      "execution_count": null,
      "outputs": []
    },
    {
      "cell_type": "code",
      "metadata": {
        "id": "f7GZ_tl11tgi",
        "outputId": "39dd8e15-ede2-47ac-8e3d-ab490e764b12",
        "colab": {
          "base_uri": "https://localhost:8080/"
        }
      },
      "source": [
        "clf = LinearRegression()\n",
        "\n",
        "ens_oofs, ens_preds = run_clf_kfold(clf, train_new, test_new, features)"
      ],
      "execution_count": null,
      "outputs": [
        {
          "output_type": "stream",
          "text": [
            "\n",
            "------------- Fold 1 -------------\n",
            "\n",
            "AV metric score for validation set is 492.0430216124752\n",
            "\n",
            "------------- Fold 2 -------------\n",
            "\n",
            "AV metric score for validation set is 497.49864623745736\n",
            "\n",
            "------------- Fold 3 -------------\n",
            "\n",
            "AV metric score for validation set is 489.8007217209515\n",
            "\n",
            "------------- Fold 4 -------------\n",
            "\n",
            "AV metric score for validation set is 486.7438506218501\n",
            "\n",
            "------------- Fold 5 -------------\n",
            "\n",
            "AV metric score for validation set is 493.1531136878048\n",
            "\n",
            "\n",
            "AV metric for oofs is 491.8608724360327\n"
          ],
          "name": "stdout"
        }
      ]
    },
    {
      "cell_type": "markdown",
      "metadata": {
        "id": "EKTsCENzzfo7"
      },
      "source": [
        "**Submitting on the Leaderboard**"
      ]
    },
    {
      "cell_type": "code",
      "metadata": {
        "id": "IcV9GP9HzfpA"
      },
      "source": [
        "ens_preds_t = np.expm1(ens_preds)\n",
        "download_preds(ens_preds, file_name = 'hacklive_ensemble_final.csv')"
      ],
      "execution_count": null,
      "outputs": []
    },
    {
      "cell_type": "code",
      "metadata": {
        "id": "ucNRhelB2FK4"
      },
      "source": [
        ""
      ],
      "execution_count": null,
      "outputs": []
    }
  ]
}